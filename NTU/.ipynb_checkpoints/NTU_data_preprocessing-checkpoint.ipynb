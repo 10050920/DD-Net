{
 "cells": [
  {
   "cell_type": "code",
   "execution_count": 1,
   "metadata": {},
   "outputs": [],
   "source": [
    "import numpy as np\n",
    "import math\n",
    "import random\n",
    "from utils import *"
   ]
  },
  {
   "cell_type": "code",
   "execution_count": 2,
   "metadata": {},
   "outputs": [],
   "source": [
    "class Config():\n",
    "    def __init__(self):        \n",
    "        self.training_subjects = [1, 2, 4, 5, 8, 9, 13, 14, 15, 16, 17, 18, 19, 25, 27, 28, 31, 34, 35, 38]\n",
    "        self.training_cameras = [2, 3]\n",
    "        \n",
    "        self.data_path = '/mnt/nasbi/no-backups/datasets/pose_action/NTU_raw/'\n",
    "        self.out_path = '/home/fan/projects/pose/skeleton/data/NTU/'\n",
    "        self.ignored_sample_path = '/home/fan/projects/pose/skeleton/data/NTU/samples_with_missing_skeletons.txt'\n",
    "\n",
    "        self.benchmark = ['xsub', 'xview']\n",
    "        self.part = ['train', 'val']\n",
    "\n",
    "C = Config()"
   ]
  },
  {
   "cell_type": "code",
   "execution_count": null,
   "metadata": {},
   "outputs": [
    {
     "name": "stderr",
     "output_type": "stream",
     "text": [
      " 39%|███▉      | 22346/56880 [11:18<17:28, 32.94it/s]"
     ]
    }
   ],
   "source": [
    "## Modified from https://github.com/huguyuehuhu/HCN-pytorch. The data format is different in this code.\n",
    "for b in C.benchmark:\n",
    "    for p in C.part:\n",
    "        gendata(\n",
    "            C.data_path,\n",
    "            C.out_path,\n",
    "            C.training_subjects,\n",
    "            C.training_cameras,\n",
    "            C.ignored_sample_path,\n",
    "            benchmark=b,\n",
    "            part=p)"
   ]
  },
  {
   "cell_type": "code",
   "execution_count": null,
   "metadata": {},
   "outputs": [],
   "source": []
  },
  {
   "cell_type": "code",
   "execution_count": null,
   "metadata": {},
   "outputs": [],
   "source": []
  }
 ],
 "metadata": {
  "kernelspec": {
   "display_name": "Python 3",
   "language": "python",
   "name": "python3"
  },
  "language_info": {
   "codemirror_mode": {
    "name": "ipython",
    "version": 3
   },
   "file_extension": ".py",
   "mimetype": "text/x-python",
   "name": "python",
   "nbconvert_exporter": "python",
   "pygments_lexer": "ipython3",
   "version": "3.6.6"
  }
 },
 "nbformat": 4,
 "nbformat_minor": 2
}
