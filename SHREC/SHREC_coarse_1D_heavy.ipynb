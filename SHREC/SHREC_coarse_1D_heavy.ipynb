{
 "cells": [
  {
   "cell_type": "code",
   "execution_count": 1,
   "metadata": {},
   "outputs": [
    {
     "name": "stderr",
     "output_type": "stream",
     "text": [
      "Using TensorFlow backend.\n"
     ]
    }
   ],
   "source": [
    "import numpy as np\n",
    "import math\n",
    "import random\n",
    "import pandas as pd\n",
    "import os\n",
    "import matplotlib.pyplot as plt\n",
    "import cv2\n",
    "import glob\n",
    "import gc\n",
    "from utils import *\n",
    "from tqdm import tqdm\n",
    "import pickle\n",
    "\n",
    "from keras.optimizers import *\n",
    "from keras.models import Model\n",
    "from keras.layers import *\n",
    "from keras.layers.core import *\n",
    "from keras.layers.convolutional import *\n",
    "from keras import backend as K\n",
    "import tensorflow as tf"
   ]
  },
  {
   "cell_type": "markdown",
   "metadata": {},
   "source": [
    "# Initialize the setting"
   ]
  },
  {
   "cell_type": "code",
   "execution_count": 2,
   "metadata": {},
   "outputs": [],
   "source": [
    "os.environ[\"CUDA_DEVICE_ORDER\"]=\"PCI_BUS_ID\"   \n",
    "os.environ[\"CUDA_VISIBLE_DEVICES\"]=\"3\""
   ]
  },
  {
   "cell_type": "code",
   "execution_count": 14,
   "metadata": {},
   "outputs": [],
   "source": [
    "class Config():\n",
    "    def __init__(self):\n",
    "        self.frame_l = 32 # the length of frames\n",
    "        self.joint_n = 12 # the number of joints\n",
    "        self.joint_d = 3 # the dimension of joints\n",
    "        self.clc_coarse = 14 # the number of coarse class\n",
    "        self.clc_fine = 28 # the number of fine-grained class\n",
    "        self.feat_d = 66\n",
    "        self.filters = 64\n",
    "        self.joint_ind = np.array([0,1,2,5,6,9,10,13,14,17,18,21])\n",
    "        self.data_dir = '/mnt/nasbi/homes/fan/projects/action/skeleton/data/SHREC/'\n",
    "C = Config()"
   ]
  },
  {
   "cell_type": "markdown",
   "metadata": {},
   "source": [
    "# Building the model"
   ]
  },
  {
   "cell_type": "code",
   "execution_count": 15,
   "metadata": {},
   "outputs": [],
   "source": [
    "def poses_diff(x):\n",
    "    H, W = x.get_shape()[1],x.get_shape()[2]\n",
    "    x = tf.subtract(x[:,:1,...],x[:,:-1,...])\n",
    "    x = tf.image.resize_nearest_neighbor(x,size=[H.value,W.value],align_corners=False) # should not alignment here\n",
    "    return x\n",
    "\n",
    "def pose_motion(P,frame_l):\n",
    "    P_diff_slow = Lambda(lambda x: poses_diff(x))(P)\n",
    "    P_diff_slow = Reshape((frame_l,-1))(P_diff_slow)\n",
    "    P_fast = Lambda(lambda x: x[:,::2,...])(P)\n",
    "    P_diff_fast = Lambda(lambda x: poses_diff(x))(P_fast)\n",
    "    P_diff_fast = Reshape((int(frame_l/2),-1))(P_diff_fast)\n",
    "    return P_diff_slow,P_diff_fast\n",
    "    \n",
    "def c1D(x,filters,kernel):\n",
    "    x = Conv1D(filters, kernel_size=kernel,padding='same',use_bias=False)(x)\n",
    "    x = BatchNormalization()(x)\n",
    "    x = LeakyReLU(alpha=0.2)(x)\n",
    "    return x\n",
    "\n",
    "def block(x,filters):\n",
    "    x = c1D(x,filters,3)\n",
    "    x = c1D(x,filters,3)\n",
    "    return x\n",
    "    \n",
    "def d1D(x,filters):\n",
    "    x = Dense(filters,use_bias=False)(x)\n",
    "    x = BatchNormalization()(x)\n",
    "    x = LeakyReLU(alpha=0.2)(x)\n",
    "    return x\n",
    "\n",
    "def build_FM(frame_l=32,joint_n=12,joint_d=3,feat_d=90,filters=16):   \n",
    "    M = Input(shape=(frame_l,feat_d))\n",
    "    P = Input(shape=(frame_l,joint_n,joint_d))\n",
    "    \n",
    "    diff_slow,diff_fast = pose_motion(P,frame_l)\n",
    "    \n",
    "    x = block(M,filters)\n",
    "    x = MaxPool1D(2)(x)\n",
    "    \n",
    "    x_d_slow = block(diff_slow,filters)\n",
    "    x_d_slow = MaxPool1D(2)(x_d_slow)\n",
    "    \n",
    "    x_d_fast = block(diff_fast,filters)\n",
    "   \n",
    "    x = concatenate([x,x_d_slow,x_d_fast])\n",
    "    x = block(x,filters*2)\n",
    "    x = MaxPool1D(2)(x)\n",
    "    x = SpatialDropout1D(0.1)(x)\n",
    "    \n",
    "    x = block(x,filters*4)\n",
    "    x = MaxPool1D(2)(x)\n",
    "    x = SpatialDropout1D(0.2)(x)\n",
    "    \n",
    "    x = block(x,filters*8)\n",
    "    x = SpatialDropout1D(0.2)(x)\n",
    "    \n",
    "    return Model(inputs=[M,P],outputs=x)\n"
   ]
  },
  {
   "cell_type": "code",
   "execution_count": 21,
   "metadata": {},
   "outputs": [],
   "source": [
    "def build_AR_single(frame_l=32,joint_n=22,joint_d=3,feat_d=66,clc_num=14,filters=16):\n",
    "    M = Input(name='M', shape=(frame_l,feat_d))  \n",
    "    P = Input(name='P', shape=(frame_l,joint_n,joint_d)) \n",
    "    \n",
    "    FM = build_FM(frame_l,joint_n,joint_d,feat_d,filters)\n",
    "    \n",
    "    x = FM([M,P])\n",
    "\n",
    "    x = GlobalMaxPool1D()(x)\n",
    "    \n",
    "    x = d1D(x,128)\n",
    "    x = Dropout(0.5)(x)\n",
    "    x = d1D(x,128)\n",
    "    x = Dropout(0.5)(x)\n",
    "    x = Dense(clc_num, activation='softmax')(x)\n",
    "    \n",
    "    ######################Self-supervised part\n",
    "    model = Model(inputs=[M,P],outputs=x)\n",
    "    return model"
   ]
  },
  {
   "cell_type": "code",
   "execution_count": 22,
   "metadata": {
    "scrolled": true
   },
   "outputs": [],
   "source": [
    "AR_single = build_AR_single(C.frame_l,C.joint_n,C.joint_d,C.feat_d,C.clc_coarse,C.filters)"
   ]
  },
  {
   "cell_type": "code",
   "execution_count": 23,
   "metadata": {
    "scrolled": true
   },
   "outputs": [
    {
     "name": "stdout",
     "output_type": "stream",
     "text": [
      "__________________________________________________________________________________________________\n",
      "Layer (type)                    Output Shape         Param #     Connected to                     \n",
      "==================================================================================================\n",
      "M (InputLayer)                  (None, 32, 66)       0                                            \n",
      "__________________________________________________________________________________________________\n",
      "P (InputLayer)                  (None, 32, 12, 3)    0                                            \n",
      "__________________________________________________________________________________________________\n",
      "model_5 (Model)                 (None, 4, 512)       1669504     M[0][0]                          \n",
      "                                                                 P[0][0]                          \n",
      "__________________________________________________________________________________________________\n",
      "global_max_pooling1d_3 (GlobalM (None, 512)          0           model_5[1][0]                    \n",
      "__________________________________________________________________________________________________\n",
      "dense_7 (Dense)                 (None, 128)          65536       global_max_pooling1d_3[0][0]     \n",
      "__________________________________________________________________________________________________\n",
      "batch_normalization_41 (BatchNo (None, 128)          512         dense_7[0][0]                    \n",
      "__________________________________________________________________________________________________\n",
      "leaky_re_lu_41 (LeakyReLU)      (None, 128)          0           batch_normalization_41[0][0]     \n",
      "__________________________________________________________________________________________________\n",
      "dropout_5 (Dropout)             (None, 128)          0           leaky_re_lu_41[0][0]             \n",
      "__________________________________________________________________________________________________\n",
      "dense_8 (Dense)                 (None, 128)          16384       dropout_5[0][0]                  \n",
      "__________________________________________________________________________________________________\n",
      "batch_normalization_42 (BatchNo (None, 128)          512         dense_8[0][0]                    \n",
      "__________________________________________________________________________________________________\n",
      "leaky_re_lu_42 (LeakyReLU)      (None, 128)          0           batch_normalization_42[0][0]     \n",
      "__________________________________________________________________________________________________\n",
      "dropout_6 (Dropout)             (None, 128)          0           leaky_re_lu_42[0][0]             \n",
      "__________________________________________________________________________________________________\n",
      "dense_9 (Dense)                 (None, 14)           1806        dropout_6[0][0]                  \n",
      "==================================================================================================\n",
      "Total params: 1,754,254\n",
      "Trainable params: 1,749,390\n",
      "Non-trainable params: 4,864\n",
      "__________________________________________________________________________________________________\n"
     ]
    }
   ],
   "source": [
    "AR_single.summary()"
   ]
  },
  {
   "cell_type": "code",
   "execution_count": null,
   "metadata": {
    "collapsed": true,
    "scrolled": true
   },
   "outputs": [],
   "source": [
    "#AR_single.load_weights('weights/coarse_heavy.h5')"
   ]
  },
  {
   "cell_type": "markdown",
   "metadata": {},
   "source": [
    "## load data"
   ]
  },
  {
   "cell_type": "code",
   "execution_count": 10,
   "metadata": {},
   "outputs": [],
   "source": [
    "Train = pickle.load(open(C.data_dir+\"train.pkl\", \"rb\"))\n",
    "Test = pickle.load(open(C.data_dir+\"test.pkl\", \"rb\"))"
   ]
  },
  {
   "cell_type": "markdown",
   "metadata": {},
   "source": [
    "## Without frame_sampling train"
   ]
  },
  {
   "cell_type": "code",
   "execution_count": 11,
   "metadata": {},
   "outputs": [
    {
     "name": "stderr",
     "output_type": "stream",
     "text": [
      "  1%|          | 20/1960 [00:00<00:09, 197.55it/s]/home/fan/anaconda3/envs/keras/lib/python3.6/site-packages/scipy/ndimage/interpolation.py:583: UserWarning: From scipy 0.13.0, the output shape of zoom() is calculated with round() instead of int() - for these inputs the size of the returned array has changed.\n",
      "  \"the returned array has changed.\", UserWarning)\n",
      "100%|██████████| 1960/1960 [00:06<00:00, 317.60it/s]\n"
     ]
    }
   ],
   "source": [
    "X_0 = []\n",
    "X_1 = []\n",
    "Y = []\n",
    "for i in tqdm(range(len(Train['pose']))): \n",
    "    p = np.copy(Train['pose'][i]).reshape([-1,22,3])[:,C.joint_ind,:]\n",
    "    p = zoom(p,target_l=C.frame_l,joints_num=C.joint_n,joints_dim=C.joint_d)\n",
    "    p = normlize_range(p)\n",
    "    \n",
    "    label = np.zeros(C.clc_coarse)\n",
    "    label[Train['coarse_label'][i]-1] = 1   \n",
    "\n",
    "    M = get_CG(p,C)\n",
    "\n",
    "    X_0.append(M)\n",
    "    X_1.append(p)\n",
    "    Y.append(label)\n",
    "\n",
    "X_0 = np.stack(X_0)  \n",
    "X_1 = np.stack(X_1) \n",
    "Y = np.stack(Y)"
   ]
  },
  {
   "cell_type": "code",
   "execution_count": 19,
   "metadata": {},
   "outputs": [
    {
     "name": "stderr",
     "output_type": "stream",
     "text": [
      "  9%|▊         | 72/840 [00:00<00:03, 232.61it/s]/home/fan/anaconda3/envs/keras/lib/python3.6/site-packages/scipy/ndimage/interpolation.py:583: UserWarning: From scipy 0.13.0, the output shape of zoom() is calculated with round() instead of int() - for these inputs the size of the returned array has changed.\n",
      "  \"the returned array has changed.\", UserWarning)\n",
      "100%|██████████| 840/840 [00:02<00:00, 312.30it/s]\n"
     ]
    }
   ],
   "source": [
    "X_test_0 = []\n",
    "X_test_1 = []\n",
    "Y_test = []\n",
    "for i in tqdm(range(len(Test['pose']))): \n",
    "    p = np.copy(Test['pose'][i]).reshape([-1,22,3])[:,C.joint_ind,:]\n",
    "    p = zoom(p,target_l=C.frame_l,joints_num=C.joint_n,joints_dim=C.joint_d)\n",
    "    p = normlize_range(p)\n",
    "    \n",
    "    label = np.zeros(C.clc_coarse)\n",
    "    label[Test['coarse_label'][i]-1] = 1   \n",
    "\n",
    "    M = get_CG(p,C)\n",
    "\n",
    "    X_test_0.append(M)\n",
    "    X_test_1.append(p)\n",
    "    Y_test.append(label)\n",
    "\n",
    "X_test_0 = np.stack(X_test_0) \n",
    "X_test_1 = np.stack(X_test_1)  \n",
    "Y_test = np.stack(Y_test)"
   ]
  },
  {
   "cell_type": "code",
   "execution_count": 25,
   "metadata": {
    "scrolled": true
   },
   "outputs": [
    {
     "name": "stdout",
     "output_type": "stream",
     "text": [
      "Train on 1960 samples, validate on 840 samples\n",
      "Epoch 1/200\n",
      "1960/1960 [==============================] - 5s 3ms/step - loss: 0.0290 - acc: 0.9985 - val_loss: 0.6357 - val_acc: 0.8464\n",
      "Epoch 2/200\n",
      "1960/1960 [==============================] - 0s 83us/step - loss: 0.1957 - acc: 0.9556 - val_loss: 0.5984 - val_acc: 0.8833\n",
      "Epoch 3/200\n",
      "1960/1960 [==============================] - 0s 80us/step - loss: 0.1157 - acc: 0.9791 - val_loss: 0.5002 - val_acc: 0.8881\n",
      "Epoch 4/200\n",
      "1960/1960 [==============================] - 0s 67us/step - loss: 0.1038 - acc: 0.9781 - val_loss: 0.6364 - val_acc: 0.8512\n",
      "Epoch 5/200\n",
      "1960/1960 [==============================] - 0s 67us/step - loss: 0.1671 - acc: 0.9582 - val_loss: 0.5396 - val_acc: 0.8857\n",
      "Epoch 6/200\n",
      "1960/1960 [==============================] - 0s 67us/step - loss: 0.1013 - acc: 0.9811 - val_loss: 0.7155 - val_acc: 0.8714\n",
      "Epoch 7/200\n",
      "1960/1960 [==============================] - 0s 78us/step - loss: 0.0907 - acc: 0.9821 - val_loss: 0.7588 - val_acc: 0.8643\n",
      "Epoch 8/200\n",
      "1960/1960 [==============================] - 0s 67us/step - loss: 0.0936 - acc: 0.9796 - val_loss: 0.7177 - val_acc: 0.8690\n",
      "Epoch 9/200\n",
      "1960/1960 [==============================] - 0s 67us/step - loss: 0.0842 - acc: 0.9837 - val_loss: 0.6465 - val_acc: 0.8726\n",
      "Epoch 10/200\n",
      "1960/1960 [==============================] - 0s 67us/step - loss: 0.0689 - acc: 0.9867 - val_loss: 0.5825 - val_acc: 0.8833\n",
      "Epoch 11/200\n",
      "1960/1960 [==============================] - 0s 65us/step - loss: 0.0579 - acc: 0.9959 - val_loss: 0.5494 - val_acc: 0.8881\n",
      "Epoch 12/200\n",
      "1960/1960 [==============================] - 0s 68us/step - loss: 0.0555 - acc: 0.9908 - val_loss: 0.5316 - val_acc: 0.8917\n",
      "Epoch 13/200\n",
      "1960/1960 [==============================] - 0s 73us/step - loss: 0.0468 - acc: 0.9944 - val_loss: 0.5225 - val_acc: 0.8917\n",
      "Epoch 14/200\n",
      "1960/1960 [==============================] - 0s 67us/step - loss: 0.0496 - acc: 0.9934 - val_loss: 0.5161 - val_acc: 0.8952\n",
      "Epoch 15/200\n",
      "1960/1960 [==============================] - 0s 67us/step - loss: 0.0467 - acc: 0.9944 - val_loss: 0.5185 - val_acc: 0.8893\n",
      "Epoch 16/200\n",
      "1960/1960 [==============================] - 0s 68us/step - loss: 0.0419 - acc: 0.9954 - val_loss: 0.5199 - val_acc: 0.8905\n",
      "Epoch 17/200\n",
      "1960/1960 [==============================] - 0s 67us/step - loss: 0.0400 - acc: 0.9969 - val_loss: 0.5211 - val_acc: 0.8893\n",
      "Epoch 18/200\n",
      "1960/1960 [==============================] - 0s 67us/step - loss: 0.0373 - acc: 0.9974 - val_loss: 0.5198 - val_acc: 0.8857\n",
      "Epoch 19/200\n",
      "1960/1960 [==============================] - 0s 67us/step - loss: 0.0356 - acc: 0.9959 - val_loss: 0.5185 - val_acc: 0.8905\n",
      "Epoch 20/200\n",
      "1960/1960 [==============================] - 0s 67us/step - loss: 0.0351 - acc: 0.9980 - val_loss: 0.5176 - val_acc: 0.8881\n",
      "Epoch 21/200\n",
      "1960/1960 [==============================] - 0s 68us/step - loss: 0.0348 - acc: 0.9980 - val_loss: 0.5188 - val_acc: 0.8881\n",
      "Epoch 22/200\n",
      "1960/1960 [==============================] - 0s 70us/step - loss: 0.0327 - acc: 0.9990 - val_loss: 0.5198 - val_acc: 0.8869\n",
      "Epoch 23/200\n",
      "1960/1960 [==============================] - 0s 67us/step - loss: 0.0333 - acc: 0.9974 - val_loss: 0.5194 - val_acc: 0.8893\n",
      "Epoch 24/200\n",
      "1960/1960 [==============================] - 0s 68us/step - loss: 0.0359 - acc: 0.9974 - val_loss: 0.5173 - val_acc: 0.8881\n",
      "Epoch 25/200\n",
      "1960/1960 [==============================] - 0s 67us/step - loss: 0.0308 - acc: 0.9969 - val_loss: 0.5124 - val_acc: 0.8881\n",
      "Epoch 26/200\n",
      "1960/1960 [==============================] - 0s 65us/step - loss: 0.0338 - acc: 0.9964 - val_loss: 0.5069 - val_acc: 0.8893\n",
      "Epoch 27/200\n",
      "1960/1960 [==============================] - 0s 67us/step - loss: 0.0319 - acc: 0.9969 - val_loss: 0.5006 - val_acc: 0.8893\n",
      "Epoch 28/200\n",
      "1960/1960 [==============================] - 0s 67us/step - loss: 0.0321 - acc: 0.9974 - val_loss: 0.4941 - val_acc: 0.8893\n",
      "Epoch 29/200\n",
      "1960/1960 [==============================] - 0s 67us/step - loss: 0.0314 - acc: 0.9980 - val_loss: 0.4868 - val_acc: 0.8952\n",
      "Epoch 30/200\n",
      "1960/1960 [==============================] - 0s 68us/step - loss: 0.0300 - acc: 0.9985 - val_loss: 0.4790 - val_acc: 0.8988\n",
      "Epoch 31/200\n",
      "1960/1960 [==============================] - 0s 67us/step - loss: 0.0226 - acc: 0.9990 - val_loss: 0.4717 - val_acc: 0.8988\n",
      "Epoch 32/200\n",
      "1960/1960 [==============================] - 0s 68us/step - loss: 0.0298 - acc: 0.9990 - val_loss: 0.4643 - val_acc: 0.9000\n",
      "Epoch 33/200\n",
      "1960/1960 [==============================] - 0s 65us/step - loss: 0.0273 - acc: 0.9990 - val_loss: 0.4569 - val_acc: 0.9012\n",
      "Epoch 34/200\n",
      "1960/1960 [==============================] - 0s 70us/step - loss: 0.0248 - acc: 1.0000 - val_loss: 0.4500 - val_acc: 0.9024\n",
      "Epoch 35/200\n",
      "1960/1960 [==============================] - 0s 68us/step - loss: 0.0265 - acc: 0.9980 - val_loss: 0.4439 - val_acc: 0.9036\n",
      "Epoch 36/200\n",
      "1960/1960 [==============================] - 0s 68us/step - loss: 0.0218 - acc: 0.9995 - val_loss: 0.4386 - val_acc: 0.9024\n",
      "Epoch 37/200\n",
      "1960/1960 [==============================] - 0s 68us/step - loss: 0.0240 - acc: 1.0000 - val_loss: 0.4340 - val_acc: 0.9012\n",
      "Epoch 38/200\n",
      "1960/1960 [==============================] - 0s 70us/step - loss: 0.0228 - acc: 0.9995 - val_loss: 0.4297 - val_acc: 0.9024\n",
      "Epoch 39/200\n",
      "1960/1960 [==============================] - 0s 85us/step - loss: 0.0274 - acc: 0.9980 - val_loss: 0.4248 - val_acc: 0.9036\n",
      "Epoch 40/200\n",
      "1960/1960 [==============================] - 0s 66us/step - loss: 0.0238 - acc: 0.9995 - val_loss: 0.4203 - val_acc: 0.9036\n",
      "Epoch 41/200\n",
      "1960/1960 [==============================] - 0s 68us/step - loss: 0.0249 - acc: 0.9985 - val_loss: 0.4162 - val_acc: 0.9048\n",
      "Epoch 42/200\n",
      "1960/1960 [==============================] - 0s 68us/step - loss: 0.0230 - acc: 0.9990 - val_loss: 0.4128 - val_acc: 0.9060\n",
      "Epoch 43/200\n",
      "1960/1960 [==============================] - 0s 75us/step - loss: 0.0201 - acc: 0.9990 - val_loss: 0.4095 - val_acc: 0.9060\n",
      "Epoch 44/200\n",
      "1960/1960 [==============================] - 0s 82us/step - loss: 0.0227 - acc: 0.9995 - val_loss: 0.4066 - val_acc: 0.9095\n",
      "Epoch 45/200\n",
      "1960/1960 [==============================] - 0s 68us/step - loss: 0.0231 - acc: 0.9995 - val_loss: 0.4035 - val_acc: 0.9107\n",
      "Epoch 46/200\n",
      "1960/1960 [==============================] - 0s 68us/step - loss: 0.0231 - acc: 0.9990 - val_loss: 0.4006 - val_acc: 0.9119\n",
      "Epoch 47/200\n",
      "1960/1960 [==============================] - 0s 63us/step - loss: 0.0252 - acc: 0.9985 - val_loss: 0.3978 - val_acc: 0.9119\n",
      "Epoch 48/200\n",
      "1960/1960 [==============================] - 0s 67us/step - loss: 0.0228 - acc: 0.9980 - val_loss: 0.3951 - val_acc: 0.9143\n",
      "Epoch 49/200\n",
      "1960/1960 [==============================] - 0s 66us/step - loss: 0.0244 - acc: 0.9990 - val_loss: 0.3924 - val_acc: 0.9143\n",
      "Epoch 50/200\n",
      "1960/1960 [==============================] - 0s 68us/step - loss: 0.0241 - acc: 0.9985 - val_loss: 0.3896 - val_acc: 0.9143\n",
      "Epoch 51/200\n",
      "1960/1960 [==============================] - 0s 67us/step - loss: 0.0244 - acc: 0.9985 - val_loss: 0.3873 - val_acc: 0.9143\n",
      "Epoch 52/200\n",
      "1960/1960 [==============================] - 0s 67us/step - loss: 0.0210 - acc: 1.0000 - val_loss: 0.3852 - val_acc: 0.9131\n",
      "Epoch 53/200\n",
      "1960/1960 [==============================] - 0s 68us/step - loss: 0.0216 - acc: 0.9995 - val_loss: 0.3830 - val_acc: 0.9131\n",
      "Epoch 54/200\n",
      "1960/1960 [==============================] - 0s 69us/step - loss: 0.0235 - acc: 0.9995 - val_loss: 0.3809 - val_acc: 0.9143\n",
      "Epoch 55/200\n",
      "1960/1960 [==============================] - 0s 66us/step - loss: 0.0221 - acc: 0.9990 - val_loss: 0.3791 - val_acc: 0.9143\n",
      "Epoch 56/200\n",
      "1960/1960 [==============================] - 0s 67us/step - loss: 0.0200 - acc: 1.0000 - val_loss: 0.3772 - val_acc: 0.9143\n",
      "Epoch 57/200\n",
      "1960/1960 [==============================] - 0s 68us/step - loss: 0.0201 - acc: 1.0000 - val_loss: 0.3755 - val_acc: 0.9143\n",
      "Epoch 58/200\n",
      "1960/1960 [==============================] - 0s 68us/step - loss: 0.0194 - acc: 0.9995 - val_loss: 0.3737 - val_acc: 0.9143\n",
      "Epoch 59/200\n",
      "1960/1960 [==============================] - 0s 67us/step - loss: 0.0267 - acc: 0.9990 - val_loss: 0.3719 - val_acc: 0.9143\n",
      "Epoch 60/200\n",
      "1960/1960 [==============================] - 0s 68us/step - loss: 0.0217 - acc: 1.0000 - val_loss: 0.3700 - val_acc: 0.9143\n"
     ]
    },
    {
     "name": "stdout",
     "output_type": "stream",
     "text": [
      "Epoch 61/200\n",
      "1960/1960 [==============================] - 0s 68us/step - loss: 0.0201 - acc: 1.0000 - val_loss: 0.3683 - val_acc: 0.9143\n",
      "Epoch 62/200\n",
      "1960/1960 [==============================] - 0s 66us/step - loss: 0.0222 - acc: 0.9995 - val_loss: 0.3666 - val_acc: 0.9131\n",
      "Epoch 63/200\n",
      "1960/1960 [==============================] - 0s 68us/step - loss: 0.0208 - acc: 0.9980 - val_loss: 0.3648 - val_acc: 0.9131\n",
      "Epoch 64/200\n",
      "1960/1960 [==============================] - 0s 69us/step - loss: 0.0235 - acc: 0.9990 - val_loss: 0.3634 - val_acc: 0.9143\n",
      "Epoch 65/200\n",
      "1960/1960 [==============================] - 0s 68us/step - loss: 0.0205 - acc: 0.9990 - val_loss: 0.3621 - val_acc: 0.9143\n",
      "Epoch 66/200\n",
      "1960/1960 [==============================] - 0s 75us/step - loss: 0.0211 - acc: 0.9990 - val_loss: 0.3607 - val_acc: 0.9143\n",
      "Epoch 67/200\n",
      "1960/1960 [==============================] - 0s 76us/step - loss: 0.0229 - acc: 0.9990 - val_loss: 0.3594 - val_acc: 0.9155\n",
      "Epoch 68/200\n",
      "1960/1960 [==============================] - 0s 67us/step - loss: 0.0214 - acc: 1.0000 - val_loss: 0.3580 - val_acc: 0.9155\n",
      "Epoch 69/200\n",
      "1960/1960 [==============================] - 0s 66us/step - loss: 0.0197 - acc: 1.0000 - val_loss: 0.3568 - val_acc: 0.9155\n",
      "Epoch 70/200\n",
      "1960/1960 [==============================] - 0s 68us/step - loss: 0.0211 - acc: 0.9990 - val_loss: 0.3555 - val_acc: 0.9155\n",
      "Epoch 71/200\n",
      "1960/1960 [==============================] - 0s 73us/step - loss: 0.0181 - acc: 1.0000 - val_loss: 0.3543 - val_acc: 0.9155\n",
      "Epoch 72/200\n",
      "1960/1960 [==============================] - 0s 71us/step - loss: 0.0201 - acc: 0.9990 - val_loss: 0.3532 - val_acc: 0.9155\n",
      "Epoch 73/200\n",
      "1960/1960 [==============================] - 0s 67us/step - loss: 0.0226 - acc: 0.9990 - val_loss: 0.3521 - val_acc: 0.9155\n",
      "Epoch 74/200\n",
      "1960/1960 [==============================] - 0s 67us/step - loss: 0.0223 - acc: 0.9980 - val_loss: 0.3511 - val_acc: 0.9155\n",
      "Epoch 75/200\n",
      "1960/1960 [==============================] - 0s 68us/step - loss: 0.0246 - acc: 0.9990 - val_loss: 0.3502 - val_acc: 0.9155\n",
      "Epoch 76/200\n",
      "1960/1960 [==============================] - 0s 66us/step - loss: 0.0227 - acc: 0.9990 - val_loss: 0.3493 - val_acc: 0.9167\n",
      "Epoch 77/200\n",
      "1960/1960 [==============================] - 0s 67us/step - loss: 0.0211 - acc: 1.0000 - val_loss: 0.3484 - val_acc: 0.9143\n",
      "Epoch 78/200\n",
      "1960/1960 [==============================] - 0s 67us/step - loss: 0.0218 - acc: 0.9995 - val_loss: 0.3476 - val_acc: 0.9167\n",
      "Epoch 79/200\n",
      "1960/1960 [==============================] - 0s 68us/step - loss: 0.0198 - acc: 1.0000 - val_loss: 0.3467 - val_acc: 0.9179\n",
      "Epoch 80/200\n",
      "1960/1960 [==============================] - 0s 68us/step - loss: 0.0233 - acc: 0.9995 - val_loss: 0.3459 - val_acc: 0.9179\n",
      "Epoch 81/200\n",
      "1960/1960 [==============================] - 0s 68us/step - loss: 0.0216 - acc: 1.0000 - val_loss: 0.3451 - val_acc: 0.9179\n",
      "Epoch 82/200\n",
      "1960/1960 [==============================] - 0s 67us/step - loss: 0.0189 - acc: 1.0000 - val_loss: 0.3442 - val_acc: 0.9167\n",
      "Epoch 83/200\n",
      "1960/1960 [==============================] - 0s 67us/step - loss: 0.0207 - acc: 1.0000 - val_loss: 0.3435 - val_acc: 0.9179\n",
      "Epoch 84/200\n",
      "1960/1960 [==============================] - 0s 66us/step - loss: 0.0229 - acc: 0.9995 - val_loss: 0.3428 - val_acc: 0.9179\n",
      "Epoch 85/200\n",
      "1960/1960 [==============================] - 0s 69us/step - loss: 0.0222 - acc: 0.9995 - val_loss: 0.3421 - val_acc: 0.9179\n",
      "Epoch 86/200\n",
      "1960/1960 [==============================] - 0s 68us/step - loss: 0.0228 - acc: 0.9985 - val_loss: 0.3414 - val_acc: 0.9179\n",
      "Epoch 87/200\n",
      "1960/1960 [==============================] - 0s 67us/step - loss: 0.0228 - acc: 1.0000 - val_loss: 0.3407 - val_acc: 0.9190\n",
      "Epoch 88/200\n",
      "1960/1960 [==============================] - 0s 68us/step - loss: 0.0215 - acc: 1.0000 - val_loss: 0.3401 - val_acc: 0.9202\n",
      "Epoch 89/200\n",
      "1960/1960 [==============================] - 0s 68us/step - loss: 0.0219 - acc: 0.9995 - val_loss: 0.3395 - val_acc: 0.9202\n",
      "Epoch 90/200\n",
      "1960/1960 [==============================] - 0s 68us/step - loss: 0.0208 - acc: 0.9990 - val_loss: 0.3388 - val_acc: 0.9202\n",
      "Epoch 91/200\n",
      "1960/1960 [==============================] - 0s 69us/step - loss: 0.0187 - acc: 0.9995 - val_loss: 0.3383 - val_acc: 0.9202\n",
      "Epoch 92/200\n",
      "1960/1960 [==============================] - 0s 67us/step - loss: 0.0234 - acc: 1.0000 - val_loss: 0.3377 - val_acc: 0.9202\n",
      "Epoch 93/200\n",
      "1960/1960 [==============================] - 0s 68us/step - loss: 0.0202 - acc: 0.9995 - val_loss: 0.3371 - val_acc: 0.9214\n",
      "Epoch 94/200\n",
      "1960/1960 [==============================] - 0s 68us/step - loss: 0.0190 - acc: 1.0000 - val_loss: 0.3366 - val_acc: 0.9214\n",
      "Epoch 95/200\n",
      "1960/1960 [==============================] - 0s 67us/step - loss: 0.0196 - acc: 0.9995 - val_loss: 0.3361 - val_acc: 0.9214\n",
      "Epoch 96/200\n",
      "1960/1960 [==============================] - 0s 68us/step - loss: 0.0202 - acc: 0.9990 - val_loss: 0.3355 - val_acc: 0.9214\n",
      "Epoch 97/200\n",
      "1960/1960 [==============================] - 0s 67us/step - loss: 0.0204 - acc: 0.9990 - val_loss: 0.3350 - val_acc: 0.9214\n",
      "Epoch 98/200\n",
      "1960/1960 [==============================] - 0s 66us/step - loss: 0.0210 - acc: 0.9995 - val_loss: 0.3345 - val_acc: 0.9214\n",
      "Epoch 99/200\n",
      "1960/1960 [==============================] - 0s 65us/step - loss: 0.0208 - acc: 0.9990 - val_loss: 0.3340 - val_acc: 0.9226\n",
      "Epoch 100/200\n",
      "1960/1960 [==============================] - 0s 68us/step - loss: 0.0204 - acc: 0.9990 - val_loss: 0.3335 - val_acc: 0.9226\n",
      "Epoch 101/200\n",
      "1960/1960 [==============================] - 0s 68us/step - loss: 0.0208 - acc: 0.9995 - val_loss: 0.3331 - val_acc: 0.9226\n",
      "Epoch 102/200\n",
      "1960/1960 [==============================] - 0s 68us/step - loss: 0.0208 - acc: 1.0000 - val_loss: 0.3326 - val_acc: 0.9226\n",
      "Epoch 103/200\n",
      "1960/1960 [==============================] - 0s 68us/step - loss: 0.0184 - acc: 1.0000 - val_loss: 0.3321 - val_acc: 0.9226\n",
      "Epoch 104/200\n",
      "1960/1960 [==============================] - 0s 71us/step - loss: 0.0224 - acc: 0.9990 - val_loss: 0.3317 - val_acc: 0.9238\n",
      "Epoch 105/200\n",
      "1960/1960 [==============================] - 0s 80us/step - loss: 0.0204 - acc: 0.9995 - val_loss: 0.3313 - val_acc: 0.9238\n",
      "Epoch 106/200\n",
      "1960/1960 [==============================] - 0s 72us/step - loss: 0.0222 - acc: 1.0000 - val_loss: 0.3309 - val_acc: 0.9238\n",
      "Epoch 107/200\n",
      "1960/1960 [==============================] - 0s 69us/step - loss: 0.0187 - acc: 0.9995 - val_loss: 0.3305 - val_acc: 0.9238\n",
      "Epoch 108/200\n",
      "1960/1960 [==============================] - 0s 69us/step - loss: 0.0215 - acc: 0.9995 - val_loss: 0.3301 - val_acc: 0.9238\n",
      "Epoch 109/200\n",
      "1960/1960 [==============================] - 0s 68us/step - loss: 0.0233 - acc: 0.9990 - val_loss: 0.3298 - val_acc: 0.9238\n",
      "Epoch 110/200\n",
      "1960/1960 [==============================] - 0s 68us/step - loss: 0.0186 - acc: 0.9995 - val_loss: 0.3294 - val_acc: 0.9238\n",
      "Epoch 111/200\n",
      "1960/1960 [==============================] - 0s 69us/step - loss: 0.0230 - acc: 0.9985 - val_loss: 0.3290 - val_acc: 0.9238\n",
      "Epoch 112/200\n",
      "1960/1960 [==============================] - 0s 71us/step - loss: 0.0223 - acc: 0.9995 - val_loss: 0.3286 - val_acc: 0.9238\n",
      "Epoch 113/200\n",
      "1960/1960 [==============================] - 0s 68us/step - loss: 0.0183 - acc: 1.0000 - val_loss: 0.3283 - val_acc: 0.9238\n",
      "Epoch 114/200\n",
      "1960/1960 [==============================] - 0s 74us/step - loss: 0.0209 - acc: 0.9990 - val_loss: 0.3279 - val_acc: 0.9238\n",
      "Epoch 115/200\n",
      "1960/1960 [==============================] - 0s 76us/step - loss: 0.0213 - acc: 0.9985 - val_loss: 0.3275 - val_acc: 0.9238\n",
      "Epoch 116/200\n",
      "1960/1960 [==============================] - 0s 91us/step - loss: 0.0221 - acc: 0.9990 - val_loss: 0.3271 - val_acc: 0.9238\n",
      "Epoch 117/200\n",
      "1960/1960 [==============================] - 0s 70us/step - loss: 0.0217 - acc: 0.9995 - val_loss: 0.3267 - val_acc: 0.9238\n",
      "Epoch 118/200\n",
      "1960/1960 [==============================] - 0s 78us/step - loss: 0.0228 - acc: 0.9990 - val_loss: 0.3264 - val_acc: 0.9238\n",
      "Epoch 119/200\n",
      "1960/1960 [==============================] - 0s 77us/step - loss: 0.0200 - acc: 1.0000 - val_loss: 0.3260 - val_acc: 0.9238\n",
      "Epoch 120/200\n",
      "1960/1960 [==============================] - 0s 75us/step - loss: 0.0199 - acc: 1.0000 - val_loss: 0.3256 - val_acc: 0.9238\n"
     ]
    },
    {
     "name": "stdout",
     "output_type": "stream",
     "text": [
      "Epoch 121/200\n",
      "1960/1960 [==============================] - 0s 68us/step - loss: 0.0201 - acc: 0.9990 - val_loss: 0.3253 - val_acc: 0.9238\n",
      "Epoch 122/200\n",
      "1960/1960 [==============================] - 0s 71us/step - loss: 0.0204 - acc: 0.9995 - val_loss: 0.3250 - val_acc: 0.9238\n",
      "Epoch 123/200\n",
      "1960/1960 [==============================] - 0s 71us/step - loss: 0.0213 - acc: 0.9995 - val_loss: 0.3246 - val_acc: 0.9238\n",
      "Epoch 124/200\n",
      "1960/1960 [==============================] - 0s 74us/step - loss: 0.0204 - acc: 1.0000 - val_loss: 0.3243 - val_acc: 0.9238\n",
      "Epoch 125/200\n",
      "1960/1960 [==============================] - 0s 87us/step - loss: 0.0237 - acc: 0.9990 - val_loss: 0.3239 - val_acc: 0.9238\n",
      "Epoch 126/200\n",
      "1960/1960 [==============================] - 0s 74us/step - loss: 0.0228 - acc: 1.0000 - val_loss: 0.3236 - val_acc: 0.9238\n",
      "Epoch 127/200\n",
      "1960/1960 [==============================] - 0s 68us/step - loss: 0.0207 - acc: 0.9995 - val_loss: 0.3233 - val_acc: 0.9238\n",
      "Epoch 128/200\n",
      "1960/1960 [==============================] - 0s 68us/step - loss: 0.0219 - acc: 0.9990 - val_loss: 0.3230 - val_acc: 0.9238\n",
      "Epoch 129/200\n",
      "1960/1960 [==============================] - 0s 68us/step - loss: 0.0203 - acc: 1.0000 - val_loss: 0.3226 - val_acc: 0.9250\n",
      "Epoch 130/200\n",
      "1960/1960 [==============================] - 0s 69us/step - loss: 0.0205 - acc: 0.9990 - val_loss: 0.3223 - val_acc: 0.9250\n",
      "Epoch 131/200\n",
      "1960/1960 [==============================] - 0s 75us/step - loss: 0.0184 - acc: 1.0000 - val_loss: 0.3219 - val_acc: 0.9250\n",
      "Epoch 132/200\n",
      "1960/1960 [==============================] - 0s 79us/step - loss: 0.0208 - acc: 0.9995 - val_loss: 0.3216 - val_acc: 0.9262\n",
      "Epoch 133/200\n",
      "1960/1960 [==============================] - 0s 72us/step - loss: 0.0212 - acc: 0.9990 - val_loss: 0.3213 - val_acc: 0.9262\n",
      "Epoch 134/200\n",
      "1960/1960 [==============================] - 0s 68us/step - loss: 0.0217 - acc: 0.9995 - val_loss: 0.3210 - val_acc: 0.9262\n",
      "Epoch 135/200\n",
      "1960/1960 [==============================] - 0s 69us/step - loss: 0.0214 - acc: 0.9995 - val_loss: 0.3207 - val_acc: 0.9262\n",
      "Epoch 136/200\n",
      "1960/1960 [==============================] - 0s 66us/step - loss: 0.0199 - acc: 1.0000 - val_loss: 0.3205 - val_acc: 0.9262\n",
      "Epoch 137/200\n",
      "1960/1960 [==============================] - 0s 72us/step - loss: 0.0178 - acc: 1.0000 - val_loss: 0.3203 - val_acc: 0.9262\n",
      "Epoch 138/200\n",
      "1960/1960 [==============================] - 0s 67us/step - loss: 0.0215 - acc: 0.9995 - val_loss: 0.3200 - val_acc: 0.9262\n",
      "Epoch 139/200\n",
      "1960/1960 [==============================] - 0s 69us/step - loss: 0.0187 - acc: 1.0000 - val_loss: 0.3198 - val_acc: 0.9262\n",
      "Epoch 140/200\n",
      "1960/1960 [==============================] - 0s 71us/step - loss: 0.0197 - acc: 1.0000 - val_loss: 0.3195 - val_acc: 0.9262\n",
      "Epoch 141/200\n",
      "1960/1960 [==============================] - 0s 85us/step - loss: 0.0207 - acc: 1.0000 - val_loss: 0.3193 - val_acc: 0.9262\n",
      "Epoch 142/200\n",
      "1960/1960 [==============================] - 0s 83us/step - loss: 0.0217 - acc: 0.9995 - val_loss: 0.3190 - val_acc: 0.9262\n",
      "Epoch 143/200\n",
      "1960/1960 [==============================] - 0s 68us/step - loss: 0.0188 - acc: 1.0000 - val_loss: 0.3188 - val_acc: 0.9262\n",
      "Epoch 144/200\n",
      "1960/1960 [==============================] - 0s 68us/step - loss: 0.0218 - acc: 0.9995 - val_loss: 0.3185 - val_acc: 0.9262\n",
      "Epoch 145/200\n",
      "1960/1960 [==============================] - 0s 68us/step - loss: 0.0193 - acc: 0.9995 - val_loss: 0.3183 - val_acc: 0.9262\n",
      "Epoch 146/200\n",
      "1960/1960 [==============================] - 0s 68us/step - loss: 0.0206 - acc: 1.0000 - val_loss: 0.3181 - val_acc: 0.9262\n",
      "Epoch 147/200\n",
      "1960/1960 [==============================] - 0s 66us/step - loss: 0.0214 - acc: 0.9995 - val_loss: 0.3178 - val_acc: 0.9274\n",
      "Epoch 148/200\n",
      "1960/1960 [==============================] - 0s 68us/step - loss: 0.0197 - acc: 0.9995 - val_loss: 0.3176 - val_acc: 0.9274\n",
      "Epoch 149/200\n",
      "1960/1960 [==============================] - 0s 68us/step - loss: 0.0209 - acc: 0.9995 - val_loss: 0.3174 - val_acc: 0.9274\n",
      "Epoch 150/200\n",
      "1960/1960 [==============================] - 0s 76us/step - loss: 0.0214 - acc: 0.9990 - val_loss: 0.3172 - val_acc: 0.9274\n",
      "Epoch 151/200\n",
      "1960/1960 [==============================] - 0s 78us/step - loss: 0.0219 - acc: 1.0000 - val_loss: 0.3170 - val_acc: 0.9274\n",
      "Epoch 152/200\n",
      "1960/1960 [==============================] - 0s 76us/step - loss: 0.0199 - acc: 0.9985 - val_loss: 0.3168 - val_acc: 0.9274\n",
      "Epoch 153/200\n",
      "1960/1960 [==============================] - 0s 68us/step - loss: 0.0204 - acc: 0.9995 - val_loss: 0.3166 - val_acc: 0.9274\n",
      "Epoch 154/200\n",
      "1960/1960 [==============================] - 0s 65us/step - loss: 0.0242 - acc: 0.9995 - val_loss: 0.3165 - val_acc: 0.9274\n",
      "Epoch 155/200\n",
      "1960/1960 [==============================] - 0s 67us/step - loss: 0.0204 - acc: 0.9985 - val_loss: 0.3163 - val_acc: 0.9274\n",
      "Epoch 156/200\n",
      "1960/1960 [==============================] - 0s 68us/step - loss: 0.0179 - acc: 0.9990 - val_loss: 0.3160 - val_acc: 0.9274\n",
      "Epoch 157/200\n",
      "1960/1960 [==============================] - 0s 68us/step - loss: 0.0197 - acc: 0.9995 - val_loss: 0.3158 - val_acc: 0.9274\n",
      "Epoch 158/200\n",
      "1960/1960 [==============================] - 0s 68us/step - loss: 0.0201 - acc: 0.9995 - val_loss: 0.3157 - val_acc: 0.9274\n",
      "Epoch 159/200\n",
      "1960/1960 [==============================] - 0s 68us/step - loss: 0.0221 - acc: 0.9985 - val_loss: 0.3155 - val_acc: 0.9274\n",
      "Epoch 160/200\n",
      "1960/1960 [==============================] - 0s 70us/step - loss: 0.0167 - acc: 1.0000 - val_loss: 0.3153 - val_acc: 0.9274\n",
      "Epoch 161/200\n",
      "1960/1960 [==============================] - 0s 67us/step - loss: 0.0195 - acc: 0.9995 - val_loss: 0.3152 - val_acc: 0.9274\n",
      "Epoch 162/200\n",
      "1960/1960 [==============================] - 0s 71us/step - loss: 0.0217 - acc: 0.9995 - val_loss: 0.3151 - val_acc: 0.9274\n",
      "Epoch 163/200\n",
      "1960/1960 [==============================] - 0s 68us/step - loss: 0.0208 - acc: 0.9995 - val_loss: 0.3150 - val_acc: 0.9274\n",
      "Epoch 164/200\n",
      "1960/1960 [==============================] - 0s 67us/step - loss: 0.0172 - acc: 1.0000 - val_loss: 0.3149 - val_acc: 0.9274\n",
      "Epoch 165/200\n",
      "1960/1960 [==============================] - 0s 67us/step - loss: 0.0210 - acc: 1.0000 - val_loss: 0.3148 - val_acc: 0.9274\n",
      "Epoch 166/200\n",
      "1960/1960 [==============================] - 0s 69us/step - loss: 0.0209 - acc: 0.9985 - val_loss: 0.3146 - val_acc: 0.9274\n",
      "Epoch 167/200\n",
      "1960/1960 [==============================] - 0s 68us/step - loss: 0.0210 - acc: 0.9995 - val_loss: 0.3145 - val_acc: 0.9274\n",
      "Epoch 168/200\n",
      "1960/1960 [==============================] - 0s 71us/step - loss: 0.0187 - acc: 0.9995 - val_loss: 0.3144 - val_acc: 0.9274\n",
      "Epoch 169/200\n",
      "1960/1960 [==============================] - 0s 80us/step - loss: 0.0212 - acc: 0.9980 - val_loss: 0.3143 - val_acc: 0.9274\n",
      "Epoch 170/200\n",
      "1960/1960 [==============================] - 0s 68us/step - loss: 0.0191 - acc: 0.9995 - val_loss: 0.3142 - val_acc: 0.9274\n",
      "Epoch 171/200\n",
      "1960/1960 [==============================] - 0s 69us/step - loss: 0.0208 - acc: 0.9995 - val_loss: 0.3141 - val_acc: 0.9274\n",
      "Epoch 172/200\n",
      "1960/1960 [==============================] - 0s 67us/step - loss: 0.0186 - acc: 1.0000 - val_loss: 0.3140 - val_acc: 0.9274\n",
      "Epoch 173/200\n",
      "1960/1960 [==============================] - 0s 75us/step - loss: 0.0209 - acc: 1.0000 - val_loss: 0.3139 - val_acc: 0.9274\n",
      "Epoch 174/200\n",
      "1960/1960 [==============================] - 0s 84us/step - loss: 0.0201 - acc: 1.0000 - val_loss: 0.3138 - val_acc: 0.9274\n",
      "Epoch 175/200\n",
      "1960/1960 [==============================] - 0s 67us/step - loss: 0.0200 - acc: 0.9995 - val_loss: 0.3137 - val_acc: 0.9274\n",
      "Epoch 176/200\n",
      "1960/1960 [==============================] - 0s 68us/step - loss: 0.0201 - acc: 0.9995 - val_loss: 0.3136 - val_acc: 0.9274\n",
      "Epoch 177/200\n",
      "1960/1960 [==============================] - 0s 69us/step - loss: 0.0211 - acc: 0.9990 - val_loss: 0.3134 - val_acc: 0.9274\n",
      "Epoch 178/200\n",
      "1960/1960 [==============================] - 0s 68us/step - loss: 0.0200 - acc: 0.9995 - val_loss: 0.3133 - val_acc: 0.9274\n",
      "Epoch 179/200\n",
      "1960/1960 [==============================] - 0s 68us/step - loss: 0.0221 - acc: 0.9990 - val_loss: 0.3132 - val_acc: 0.9274\n",
      "Epoch 180/200\n",
      "1960/1960 [==============================] - 0s 68us/step - loss: 0.0222 - acc: 0.9995 - val_loss: 0.3131 - val_acc: 0.9274\n"
     ]
    },
    {
     "name": "stdout",
     "output_type": "stream",
     "text": [
      "Epoch 181/200\n",
      "1960/1960 [==============================] - 0s 68us/step - loss: 0.0188 - acc: 1.0000 - val_loss: 0.3129 - val_acc: 0.9274\n",
      "Epoch 182/200\n",
      "1960/1960 [==============================] - 0s 67us/step - loss: 0.0218 - acc: 0.9995 - val_loss: 0.3128 - val_acc: 0.9286\n",
      "Epoch 183/200\n",
      "1960/1960 [==============================] - 0s 78us/step - loss: 0.0188 - acc: 1.0000 - val_loss: 0.3127 - val_acc: 0.9286\n",
      "Epoch 184/200\n",
      "1960/1960 [==============================] - 0s 70us/step - loss: 0.0203 - acc: 0.9995 - val_loss: 0.3126 - val_acc: 0.9298\n",
      "Epoch 185/200\n",
      "1960/1960 [==============================] - 0s 68us/step - loss: 0.0214 - acc: 0.9985 - val_loss: 0.3125 - val_acc: 0.9286\n",
      "Epoch 186/200\n",
      "1960/1960 [==============================] - 0s 68us/step - loss: 0.0238 - acc: 0.9990 - val_loss: 0.3124 - val_acc: 0.9286\n",
      "Epoch 187/200\n",
      "1960/1960 [==============================] - 0s 68us/step - loss: 0.0204 - acc: 0.9980 - val_loss: 0.3123 - val_acc: 0.9286\n",
      "Epoch 188/200\n",
      "1960/1960 [==============================] - 0s 69us/step - loss: 0.0207 - acc: 1.0000 - val_loss: 0.3122 - val_acc: 0.9286\n",
      "Epoch 189/200\n",
      "1960/1960 [==============================] - 0s 67us/step - loss: 0.0190 - acc: 0.9995 - val_loss: 0.3121 - val_acc: 0.9286\n",
      "Epoch 190/200\n",
      "1960/1960 [==============================] - 0s 68us/step - loss: 0.0186 - acc: 0.9990 - val_loss: 0.3120 - val_acc: 0.9286\n",
      "Epoch 191/200\n",
      "1960/1960 [==============================] - 0s 75us/step - loss: 0.0204 - acc: 0.9990 - val_loss: 0.3118 - val_acc: 0.9286\n",
      "Epoch 192/200\n",
      "1960/1960 [==============================] - 0s 68us/step - loss: 0.0197 - acc: 1.0000 - val_loss: 0.3118 - val_acc: 0.9286\n",
      "Epoch 193/200\n",
      "1960/1960 [==============================] - 0s 67us/step - loss: 0.0208 - acc: 0.9990 - val_loss: 0.3117 - val_acc: 0.9286\n",
      "Epoch 194/200\n",
      "1960/1960 [==============================] - 0s 68us/step - loss: 0.0218 - acc: 0.9995 - val_loss: 0.3116 - val_acc: 0.9286\n",
      "Epoch 195/200\n",
      "1960/1960 [==============================] - 0s 68us/step - loss: 0.0197 - acc: 0.9995 - val_loss: 0.3115 - val_acc: 0.9286\n",
      "Epoch 196/200\n",
      "1960/1960 [==============================] - 0s 67us/step - loss: 0.0188 - acc: 0.9995 - val_loss: 0.3114 - val_acc: 0.9286\n",
      "Epoch 197/200\n",
      "1960/1960 [==============================] - 0s 66us/step - loss: 0.0194 - acc: 1.0000 - val_loss: 0.3113 - val_acc: 0.9286\n",
      "Epoch 198/200\n",
      "1960/1960 [==============================] - 0s 68us/step - loss: 0.0186 - acc: 1.0000 - val_loss: 0.3112 - val_acc: 0.9286\n",
      "Epoch 199/200\n",
      "1960/1960 [==============================] - 0s 68us/step - loss: 0.0217 - acc: 0.9995 - val_loss: 0.3111 - val_acc: 0.9274\n",
      "Epoch 200/200\n",
      "1960/1960 [==============================] - 0s 68us/step - loss: 0.0191 - acc: 0.9995 - val_loss: 0.3110 - val_acc: 0.9274\n"
     ]
    }
   ],
   "source": [
    "import keras\n",
    "lr = 1e-3\n",
    "AR_single.compile(loss=\"categorical_crossentropy\",optimizer=adam(lr),metrics=['accuracy'])\n",
    "lrScheduler = keras.callbacks.ReduceLROnPlateau(monitor='loss', factor=0.5, patience=5, cooldown=5, min_lr=1e-5)\n",
    "history=AR_single.fit([X_0,X_1],Y,\n",
    "        batch_size=len(Y),\n",
    "        epochs=200,\n",
    "        verbose=True,\n",
    "        shuffle=True,\n",
    "        callbacks=[lrScheduler],\n",
    "        validation_data=([X_test_0,X_test_1],Y_test)      \n",
    "        )"
   ]
  },
  {
   "cell_type": "code",
   "execution_count": 21,
   "metadata": {
    "collapsed": true
   },
   "outputs": [],
   "source": [
    "AR_single.save_weights('weights/coarse_heavy.h5')"
   ]
  },
  {
   "cell_type": "code",
   "execution_count": 15,
   "metadata": {},
   "outputs": [
    {
     "data": {
      "image/png": "[encoded data removed]",
      "text/plain": [
       "<matplotlib.figure.Figure at 0x7f88a11ca5f8>"
      ]
     },
     "metadata": {},
     "output_type": "display_data"
    }
   ],
   "source": [
    "# Plot training & validation accuracy values\n",
    "plt.plot(history.history['acc'])\n",
    "plt.plot(history.history['val_acc'])\n",
    "plt.title('Model accuracy')\n",
    "plt.ylabel('Accuracy')\n",
    "plt.xlabel('Epoch')\n",
    "plt.legend(['Train', 'Test'], loc='upper left')\n",
    "plt.show()"
   ]
  },
  {
   "cell_type": "markdown",
   "metadata": {},
   "source": [
    "## With frame_sampling"
   ]
  },
  {
   "cell_type": "code",
   "execution_count": 26,
   "metadata": {},
   "outputs": [],
   "source": [
    "lr = 5e-6\n",
    "AR_single.compile(loss=\"categorical_crossentropy\",optimizer=adam(lr),metrics=['accuracy'])"
   ]
  },
  {
   "cell_type": "code",
   "execution_count": 27,
   "metadata": {
    "scrolled": true
   },
   "outputs": [
    {
     "name": "stderr",
     "output_type": "stream",
     "text": [
      "  1%|          | 13/1960 [00:00<00:15, 127.40it/s]"
     ]
    },
    {
     "name": "stdout",
     "output_type": "stream",
     "text": [
      "epoch0\n"
     ]
    },
    {
     "name": "stderr",
     "output_type": "stream",
     "text": [
      "/home/fan/anaconda3/envs/keras/lib/python3.6/site-packages/scipy/ndimage/interpolation.py:583: UserWarning: From scipy 0.13.0, the output shape of zoom() is calculated with round() instead of int() - for these inputs the size of the returned array has changed.\n",
      "  \"the returned array has changed.\", UserWarning)\n",
      "100%|██████████| 1960/1960 [00:06<00:00, 289.34it/s]\n"
     ]
    },
    {
     "name": "stdout",
     "output_type": "stream",
     "text": [
      "Train on 1960 samples, validate on 840 samples\n",
      "Epoch 1/1\n",
      "1960/1960 [==============================] - 6s 3ms/step - loss: 0.0540 - acc: 0.9918 - val_loss: 0.3109 - val_acc: 0.9274\n"
     ]
    },
    {
     "name": "stderr",
     "output_type": "stream",
     "text": [
      "  1%|          | 18/1960 [00:00<00:11, 176.54it/s]"
     ]
    },
    {
     "name": "stdout",
     "output_type": "stream",
     "text": [
      "epoch1\n"
     ]
    },
    {
     "name": "stderr",
     "output_type": "stream",
     "text": [
      "100%|██████████| 1960/1960 [00:06<00:00, 291.79it/s]\n"
     ]
    },
    {
     "name": "stdout",
     "output_type": "stream",
     "text": [
      "Train on 1960 samples, validate on 840 samples\n",
      "Epoch 1/1\n",
      "\r",
      "1960/1960 [==============================] - 0s 94us/step - loss: 0.0632 - acc: 0.9893 - val_loss: 0.3111 - val_acc: 0.9274\n"
     ]
    },
    {
     "name": "stderr",
     "output_type": "stream",
     "text": [
      "\r",
      "  0%|          | 0/1960 [00:00<?, ?it/s]"
     ]
    },
    {
     "name": "stdout",
     "output_type": "stream",
     "text": [
      "epoch2\n"
     ]
    },
    {
     "name": "stderr",
     "output_type": "stream",
     "text": [
      "100%|██████████| 1960/1960 [00:07<00:00, 275.68it/s]\n"
     ]
    },
    {
     "name": "stdout",
     "output_type": "stream",
     "text": [
      "Train on 1960 samples, validate on 840 samples\n",
      "Epoch 1/1\n",
      "\r",
      "1960/1960 [==============================] - 0s 88us/step - loss: 0.0516 - acc: 0.9888 - val_loss: 0.3113 - val_acc: 0.9274\n"
     ]
    },
    {
     "name": "stderr",
     "output_type": "stream",
     "text": [
      "\r",
      "  0%|          | 0/1960 [00:00<?, ?it/s]"
     ]
    },
    {
     "name": "stdout",
     "output_type": "stream",
     "text": [
      "epoch3\n"
     ]
    },
    {
     "name": "stderr",
     "output_type": "stream",
     "text": [
      "100%|██████████| 1960/1960 [00:06<00:00, 300.21it/s]\n"
     ]
    },
    {
     "name": "stdout",
     "output_type": "stream",
     "text": [
      "Train on 1960 samples, validate on 840 samples\n",
      "Epoch 1/1\n",
      "\r",
      "1960/1960 [==============================] - 0s 81us/step - loss: 0.0568 - acc: 0.9898 - val_loss: 0.3113 - val_acc: 0.9286\n"
     ]
    },
    {
     "name": "stderr",
     "output_type": "stream",
     "text": [
      "\r",
      "  0%|          | 0/1960 [00:00<?, ?it/s]"
     ]
    },
    {
     "name": "stdout",
     "output_type": "stream",
     "text": [
      "epoch4\n"
     ]
    },
    {
     "name": "stderr",
     "output_type": "stream",
     "text": [
      "100%|██████████| 1960/1960 [00:06<00:00, 298.07it/s]\n"
     ]
    },
    {
     "name": "stdout",
     "output_type": "stream",
     "text": [
      "Train on 1960 samples, validate on 840 samples\n",
      "Epoch 1/1\n",
      "\r",
      "1960/1960 [==============================] - 0s 72us/step - loss: 0.0507 - acc: 0.9913 - val_loss: 0.3112 - val_acc: 0.9298\n"
     ]
    },
    {
     "name": "stderr",
     "output_type": "stream",
     "text": [
      "\r",
      "  0%|          | 0/1960 [00:00<?, ?it/s]"
     ]
    },
    {
     "name": "stdout",
     "output_type": "stream",
     "text": [
      "epoch5\n"
     ]
    },
    {
     "name": "stderr",
     "output_type": "stream",
     "text": [
      "100%|██████████| 1960/1960 [00:06<00:00, 298.81it/s]\n"
     ]
    },
    {
     "name": "stdout",
     "output_type": "stream",
     "text": [
      "Train on 1960 samples, validate on 840 samples\n",
      "Epoch 1/1\n",
      "\r",
      "1960/1960 [==============================] - 0s 64us/step - loss: 0.0590 - acc: 0.9878 - val_loss: 0.3114 - val_acc: 0.9298\n"
     ]
    },
    {
     "name": "stderr",
     "output_type": "stream",
     "text": [
      "\r",
      "  0%|          | 0/1960 [00:00<?, ?it/s]"
     ]
    },
    {
     "name": "stdout",
     "output_type": "stream",
     "text": [
      "epoch6\n"
     ]
    },
    {
     "name": "stderr",
     "output_type": "stream",
     "text": [
      "100%|██████████| 1960/1960 [00:06<00:00, 298.28it/s]\n"
     ]
    },
    {
     "name": "stdout",
     "output_type": "stream",
     "text": [
      "Train on 1960 samples, validate on 840 samples\n",
      "Epoch 1/1\n",
      "\r",
      "1960/1960 [==============================] - 0s 64us/step - loss: 0.0577 - acc: 0.9888 - val_loss: 0.3115 - val_acc: 0.9298\n"
     ]
    },
    {
     "name": "stderr",
     "output_type": "stream",
     "text": [
      "\r",
      "  0%|          | 0/1960 [00:00<?, ?it/s]"
     ]
    },
    {
     "name": "stdout",
     "output_type": "stream",
     "text": [
      "epoch7\n"
     ]
    },
    {
     "name": "stderr",
     "output_type": "stream",
     "text": [
      "100%|██████████| 1960/1960 [00:06<00:00, 300.92it/s]\n"
     ]
    },
    {
     "name": "stdout",
     "output_type": "stream",
     "text": [
      "Train on 1960 samples, validate on 840 samples\n",
      "Epoch 1/1\n",
      "\r",
      "1960/1960 [==============================] - 0s 85us/step - loss: 0.0647 - acc: 0.9888 - val_loss: 0.3118 - val_acc: 0.9298\n"
     ]
    },
    {
     "name": "stderr",
     "output_type": "stream",
     "text": [
      "\r",
      "  0%|          | 0/1960 [00:00<?, ?it/s]"
     ]
    },
    {
     "name": "stdout",
     "output_type": "stream",
     "text": [
      "epoch8\n"
     ]
    },
    {
     "name": "stderr",
     "output_type": "stream",
     "text": [
      "100%|██████████| 1960/1960 [00:06<00:00, 303.42it/s]\n"
     ]
    },
    {
     "name": "stdout",
     "output_type": "stream",
     "text": [
      "Train on 1960 samples, validate on 840 samples\n",
      "Epoch 1/1\n",
      "\r",
      "1960/1960 [==============================] - 0s 67us/step - loss: 0.0513 - acc: 0.9908 - val_loss: 0.3122 - val_acc: 0.9298\n"
     ]
    },
    {
     "name": "stderr",
     "output_type": "stream",
     "text": [
      "\r",
      "  0%|          | 0/1960 [00:00<?, ?it/s]"
     ]
    },
    {
     "name": "stdout",
     "output_type": "stream",
     "text": [
      "epoch9\n"
     ]
    },
    {
     "name": "stderr",
     "output_type": "stream",
     "text": [
      "100%|██████████| 1960/1960 [00:06<00:00, 311.10it/s]\n"
     ]
    },
    {
     "name": "stdout",
     "output_type": "stream",
     "text": [
      "Train on 1960 samples, validate on 840 samples\n",
      "Epoch 1/1\n",
      "\r",
      "1960/1960 [==============================] - 0s 74us/step - loss: 0.0601 - acc: 0.9913 - val_loss: 0.3125 - val_acc: 0.9298\n"
     ]
    },
    {
     "name": "stderr",
     "output_type": "stream",
     "text": [
      "\r",
      "  0%|          | 0/1960 [00:00<?, ?it/s]"
     ]
    },
    {
     "name": "stdout",
     "output_type": "stream",
     "text": [
      "epoch10\n"
     ]
    },
    {
     "name": "stderr",
     "output_type": "stream",
     "text": [
      "100%|██████████| 1960/1960 [00:06<00:00, 297.22it/s]\n"
     ]
    },
    {
     "name": "stdout",
     "output_type": "stream",
     "text": [
      "Train on 1960 samples, validate on 840 samples\n",
      "Epoch 1/1\n",
      "\r",
      "1960/1960 [==============================] - 0s 66us/step - loss: 0.0576 - acc: 0.9878 - val_loss: 0.3129 - val_acc: 0.9286\n"
     ]
    },
    {
     "name": "stderr",
     "output_type": "stream",
     "text": [
      "  1%|          | 18/1960 [00:00<00:11, 175.13it/s]"
     ]
    },
    {
     "name": "stdout",
     "output_type": "stream",
     "text": [
      "epoch11\n"
     ]
    },
    {
     "name": "stderr",
     "output_type": "stream",
     "text": [
      "100%|██████████| 1960/1960 [00:06<00:00, 300.69it/s]\n"
     ]
    },
    {
     "name": "stdout",
     "output_type": "stream",
     "text": [
      "Train on 1960 samples, validate on 840 samples\n",
      "Epoch 1/1\n",
      "\r",
      "1960/1960 [==============================] - 0s 65us/step - loss: 0.0460 - acc: 0.9923 - val_loss: 0.3132 - val_acc: 0.9274\n"
     ]
    },
    {
     "name": "stderr",
     "output_type": "stream",
     "text": [
      "\r",
      "  0%|          | 0/1960 [00:00<?, ?it/s]"
     ]
    },
    {
     "name": "stdout",
     "output_type": "stream",
     "text": [
      "epoch12\n"
     ]
    },
    {
     "name": "stderr",
     "output_type": "stream",
     "text": [
      "100%|██████████| 1960/1960 [00:06<00:00, 298.66it/s]\n"
     ]
    },
    {
     "name": "stdout",
     "output_type": "stream",
     "text": [
      "Train on 1960 samples, validate on 840 samples\n",
      "Epoch 1/1\n",
      "\r",
      "1960/1960 [==============================] - 0s 65us/step - loss: 0.0584 - acc: 0.9888 - val_loss: 0.3135 - val_acc: 0.9274\n"
     ]
    },
    {
     "name": "stderr",
     "output_type": "stream",
     "text": [
      "\r",
      "  0%|          | 0/1960 [00:00<?, ?it/s]"
     ]
    },
    {
     "name": "stdout",
     "output_type": "stream",
     "text": [
      "epoch13\n"
     ]
    },
    {
     "name": "stderr",
     "output_type": "stream",
     "text": [
      "100%|██████████| 1960/1960 [00:06<00:00, 299.66it/s]\n"
     ]
    },
    {
     "name": "stdout",
     "output_type": "stream",
     "text": [
      "Train on 1960 samples, validate on 840 samples\n",
      "Epoch 1/1\n",
      "\r",
      "1960/1960 [==============================] - 0s 79us/step - loss: 0.0615 - acc: 0.9878 - val_loss: 0.3138 - val_acc: 0.9274\n"
     ]
    },
    {
     "name": "stderr",
     "output_type": "stream",
     "text": [
      "\r",
      "  0%|          | 0/1960 [00:00<?, ?it/s]"
     ]
    },
    {
     "name": "stdout",
     "output_type": "stream",
     "text": [
      "epoch14\n"
     ]
    },
    {
     "name": "stderr",
     "output_type": "stream",
     "text": [
      "100%|██████████| 1960/1960 [00:06<00:00, 298.52it/s]\n"
     ]
    },
    {
     "name": "stdout",
     "output_type": "stream",
     "text": [
      "Train on 1960 samples, validate on 840 samples\n",
      "Epoch 1/1\n",
      "\r",
      "1960/1960 [==============================] - 0s 69us/step - loss: 0.0489 - acc: 0.9908 - val_loss: 0.3140 - val_acc: 0.9274\n"
     ]
    },
    {
     "name": "stderr",
     "output_type": "stream",
     "text": [
      "\r",
      "  0%|          | 0/1960 [00:00<?, ?it/s]"
     ]
    },
    {
     "name": "stdout",
     "output_type": "stream",
     "text": [
      "epoch15\n"
     ]
    },
    {
     "name": "stderr",
     "output_type": "stream",
     "text": [
      "100%|██████████| 1960/1960 [00:06<00:00, 294.98it/s]\n"
     ]
    },
    {
     "name": "stdout",
     "output_type": "stream",
     "text": [
      "Train on 1960 samples, validate on 840 samples\n",
      "Epoch 1/1\n",
      "\r",
      "1960/1960 [==============================] - 0s 65us/step - loss: 0.0556 - acc: 0.9888 - val_loss: 0.3142 - val_acc: 0.9274\n"
     ]
    },
    {
     "name": "stderr",
     "output_type": "stream",
     "text": [
      "\r",
      "  0%|          | 0/1960 [00:00<?, ?it/s]"
     ]
    },
    {
     "name": "stdout",
     "output_type": "stream",
     "text": [
      "epoch16\n"
     ]
    },
    {
     "name": "stderr",
     "output_type": "stream",
     "text": [
      "100%|██████████| 1960/1960 [00:06<00:00, 296.69it/s]\n"
     ]
    },
    {
     "name": "stdout",
     "output_type": "stream",
     "text": [
      "Train on 1960 samples, validate on 840 samples\n",
      "Epoch 1/1\n",
      "\r",
      "1960/1960 [==============================] - 0s 71us/step - loss: 0.0546 - acc: 0.9913 - val_loss: 0.3145 - val_acc: 0.9274\n"
     ]
    },
    {
     "name": "stderr",
     "output_type": "stream",
     "text": [
      "\r",
      "  0%|          | 0/1960 [00:00<?, ?it/s]"
     ]
    },
    {
     "name": "stdout",
     "output_type": "stream",
     "text": [
      "epoch17\n"
     ]
    },
    {
     "name": "stderr",
     "output_type": "stream",
     "text": [
      "100%|██████████| 1960/1960 [00:06<00:00, 298.20it/s]\n"
     ]
    },
    {
     "name": "stdout",
     "output_type": "stream",
     "text": [
      "Train on 1960 samples, validate on 840 samples\n",
      "Epoch 1/1\n",
      "\r",
      "1960/1960 [==============================] - 0s 64us/step - loss: 0.0442 - acc: 0.9939 - val_loss: 0.3146 - val_acc: 0.9274\n"
     ]
    },
    {
     "name": "stderr",
     "output_type": "stream",
     "text": [
      "\r",
      "  0%|          | 0/1960 [00:00<?, ?it/s]"
     ]
    },
    {
     "name": "stdout",
     "output_type": "stream",
     "text": [
      "epoch18\n"
     ]
    },
    {
     "name": "stderr",
     "output_type": "stream",
     "text": [
      "100%|██████████| 1960/1960 [00:06<00:00, 290.28it/s]\n"
     ]
    },
    {
     "name": "stdout",
     "output_type": "stream",
     "text": [
      "Train on 1960 samples, validate on 840 samples\n",
      "Epoch 1/1\n",
      "\r",
      "1960/1960 [==============================] - 0s 65us/step - loss: 0.0567 - acc: 0.9872 - val_loss: 0.3147 - val_acc: 0.9274\n"
     ]
    },
    {
     "name": "stderr",
     "output_type": "stream",
     "text": [
      "\r",
      "  0%|          | 0/1960 [00:00<?, ?it/s]"
     ]
    },
    {
     "name": "stdout",
     "output_type": "stream",
     "text": [
      "epoch19\n"
     ]
    },
    {
     "name": "stderr",
     "output_type": "stream",
     "text": [
      "100%|██████████| 1960/1960 [00:06<00:00, 311.45it/s]\n"
     ]
    },
    {
     "name": "stdout",
     "output_type": "stream",
     "text": [
      "Train on 1960 samples, validate on 840 samples\n",
      "Epoch 1/1\n",
      "\r",
      "1960/1960 [==============================] - 0s 64us/step - loss: 0.0606 - acc: 0.9878 - val_loss: 0.3149 - val_acc: 0.9274\n"
     ]
    },
    {
     "name": "stderr",
     "output_type": "stream",
     "text": [
      "\r",
      "  0%|          | 0/1960 [00:00<?, ?it/s]"
     ]
    },
    {
     "name": "stdout",
     "output_type": "stream",
     "text": [
      "epoch20\n"
     ]
    },
    {
     "name": "stderr",
     "output_type": "stream",
     "text": [
      "100%|██████████| 1960/1960 [00:06<00:00, 315.86it/s]\n"
     ]
    },
    {
     "name": "stdout",
     "output_type": "stream",
     "text": [
      "Train on 1960 samples, validate on 840 samples\n",
      "Epoch 1/1\n",
      "\r",
      "1960/1960 [==============================] - 0s 78us/step - loss: 0.0582 - acc: 0.9898 - val_loss: 0.3152 - val_acc: 0.9274\n"
     ]
    },
    {
     "name": "stderr",
     "output_type": "stream",
     "text": [
      "  1%|          | 18/1960 [00:00<00:11, 176.16it/s]"
     ]
    },
    {
     "name": "stdout",
     "output_type": "stream",
     "text": [
      "epoch21\n"
     ]
    },
    {
     "name": "stderr",
     "output_type": "stream",
     "text": [
      "100%|██████████| 1960/1960 [00:06<00:00, 307.57it/s]\n"
     ]
    },
    {
     "name": "stdout",
     "output_type": "stream",
     "text": [
      "Train on 1960 samples, validate on 840 samples\n",
      "Epoch 1/1\n",
      "\r",
      "1960/1960 [==============================] - 0s 69us/step - loss: 0.0484 - acc: 0.9923 - val_loss: 0.3155 - val_acc: 0.9262\n"
     ]
    },
    {
     "name": "stderr",
     "output_type": "stream",
     "text": [
      "\r",
      "  0%|          | 0/1960 [00:00<?, ?it/s]"
     ]
    },
    {
     "name": "stdout",
     "output_type": "stream",
     "text": [
      "epoch22\n"
     ]
    },
    {
     "name": "stderr",
     "output_type": "stream",
     "text": [
      "100%|██████████| 1960/1960 [00:06<00:00, 310.24it/s]\n"
     ]
    },
    {
     "name": "stdout",
     "output_type": "stream",
     "text": [
      "Train on 1960 samples, validate on 840 samples\n",
      "Epoch 1/1\n",
      "\r",
      "1960/1960 [==============================] - 0s 67us/step - loss: 0.0518 - acc: 0.9913 - val_loss: 0.3157 - val_acc: 0.9262\n"
     ]
    },
    {
     "name": "stderr",
     "output_type": "stream",
     "text": [
      "\r",
      "  0%|          | 0/1960 [00:00<?, ?it/s]"
     ]
    },
    {
     "name": "stdout",
     "output_type": "stream",
     "text": [
      "epoch23\n"
     ]
    },
    {
     "name": "stderr",
     "output_type": "stream",
     "text": [
      "100%|██████████| 1960/1960 [00:06<00:00, 311.19it/s]\n"
     ]
    },
    {
     "name": "stdout",
     "output_type": "stream",
     "text": [
      "Train on 1960 samples, validate on 840 samples\n",
      "Epoch 1/1\n",
      "\r",
      "1960/1960 [==============================] - 0s 64us/step - loss: 0.0489 - acc: 0.9949 - val_loss: 0.3160 - val_acc: 0.9250\n"
     ]
    },
    {
     "name": "stderr",
     "output_type": "stream",
     "text": [
      "\r",
      "  0%|          | 0/1960 [00:00<?, ?it/s]"
     ]
    },
    {
     "name": "stdout",
     "output_type": "stream",
     "text": [
      "epoch24\n"
     ]
    },
    {
     "name": "stderr",
     "output_type": "stream",
     "text": [
      "100%|██████████| 1960/1960 [00:06<00:00, 315.88it/s]\n"
     ]
    },
    {
     "name": "stdout",
     "output_type": "stream",
     "text": [
      "Train on 1960 samples, validate on 840 samples\n",
      "Epoch 1/1\n",
      "\r",
      "1960/1960 [==============================] - 0s 75us/step - loss: 0.0475 - acc: 0.9918 - val_loss: 0.3163 - val_acc: 0.9250\n"
     ]
    },
    {
     "name": "stderr",
     "output_type": "stream",
     "text": [
      "\r",
      "  0%|          | 0/1960 [00:00<?, ?it/s]"
     ]
    },
    {
     "name": "stdout",
     "output_type": "stream",
     "text": [
      "epoch25\n"
     ]
    },
    {
     "name": "stderr",
     "output_type": "stream",
     "text": [
      "100%|██████████| 1960/1960 [00:06<00:00, 310.60it/s]\n"
     ]
    },
    {
     "name": "stdout",
     "output_type": "stream",
     "text": [
      "Train on 1960 samples, validate on 840 samples\n",
      "Epoch 1/1\n",
      "\r",
      "1960/1960 [==============================] - 0s 64us/step - loss: 0.0538 - acc: 0.9908 - val_loss: 0.3166 - val_acc: 0.9250\n"
     ]
    },
    {
     "name": "stderr",
     "output_type": "stream",
     "text": [
      "\r",
      "  0%|          | 0/1960 [00:00<?, ?it/s]"
     ]
    },
    {
     "name": "stdout",
     "output_type": "stream",
     "text": [
      "epoch26\n"
     ]
    },
    {
     "name": "stderr",
     "output_type": "stream",
     "text": [
      "100%|██████████| 1960/1960 [00:06<00:00, 309.23it/s]\n"
     ]
    },
    {
     "name": "stdout",
     "output_type": "stream",
     "text": [
      "Train on 1960 samples, validate on 840 samples\n",
      "Epoch 1/1\n",
      "\r",
      "1960/1960 [==============================] - 0s 64us/step - loss: 0.0479 - acc: 0.9918 - val_loss: 0.3169 - val_acc: 0.9250\n"
     ]
    },
    {
     "name": "stderr",
     "output_type": "stream",
     "text": [
      "\r",
      "  0%|          | 0/1960 [00:00<?, ?it/s]"
     ]
    },
    {
     "name": "stdout",
     "output_type": "stream",
     "text": [
      "epoch27\n"
     ]
    },
    {
     "name": "stderr",
     "output_type": "stream",
     "text": [
      "100%|██████████| 1960/1960 [00:06<00:00, 306.90it/s]\n"
     ]
    },
    {
     "name": "stdout",
     "output_type": "stream",
     "text": [
      "Train on 1960 samples, validate on 840 samples\n",
      "Epoch 1/1\n",
      "\r",
      "1960/1960 [==============================] - 0s 65us/step - loss: 0.0456 - acc: 0.9918 - val_loss: 0.3171 - val_acc: 0.9250\n"
     ]
    },
    {
     "name": "stderr",
     "output_type": "stream",
     "text": [
      "\r",
      "  0%|          | 0/1960 [00:00<?, ?it/s]"
     ]
    },
    {
     "name": "stdout",
     "output_type": "stream",
     "text": [
      "epoch28\n"
     ]
    },
    {
     "name": "stderr",
     "output_type": "stream",
     "text": [
      "100%|██████████| 1960/1960 [00:06<00:00, 310.14it/s]\n"
     ]
    },
    {
     "name": "stdout",
     "output_type": "stream",
     "text": [
      "Train on 1960 samples, validate on 840 samples\n",
      "Epoch 1/1\n",
      "\r",
      "1960/1960 [==============================] - 0s 68us/step - loss: 0.0474 - acc: 0.9934 - val_loss: 0.3174 - val_acc: 0.9250\n"
     ]
    },
    {
     "name": "stderr",
     "output_type": "stream",
     "text": [
      "\r",
      "  0%|          | 0/1960 [00:00<?, ?it/s]"
     ]
    },
    {
     "name": "stdout",
     "output_type": "stream",
     "text": [
      "epoch29\n"
     ]
    },
    {
     "name": "stderr",
     "output_type": "stream",
     "text": [
      "100%|██████████| 1960/1960 [00:06<00:00, 283.82it/s]\n"
     ]
    },
    {
     "name": "stdout",
     "output_type": "stream",
     "text": [
      "Train on 1960 samples, validate on 840 samples\n",
      "Epoch 1/1\n",
      "\r",
      "1960/1960 [==============================] - 0s 87us/step - loss: 0.0505 - acc: 0.9903 - val_loss: 0.3175 - val_acc: 0.9250\n"
     ]
    },
    {
     "name": "stderr",
     "output_type": "stream",
     "text": [
      "\r",
      "  0%|          | 0/1960 [00:00<?, ?it/s]"
     ]
    },
    {
     "name": "stdout",
     "output_type": "stream",
     "text": [
      "epoch30\n"
     ]
    },
    {
     "name": "stderr",
     "output_type": "stream",
     "text": [
      "100%|██████████| 1960/1960 [00:06<00:00, 310.47it/s]\n"
     ]
    },
    {
     "name": "stdout",
     "output_type": "stream",
     "text": [
      "Train on 1960 samples, validate on 840 samples\n",
      "Epoch 1/1\n",
      "\r",
      "1960/1960 [==============================] - 0s 64us/step - loss: 0.0394 - acc: 0.9934 - val_loss: 0.3176 - val_acc: 0.9250\n"
     ]
    },
    {
     "name": "stderr",
     "output_type": "stream",
     "text": [
      "  1%|          | 18/1960 [00:00<00:10, 179.22it/s]"
     ]
    },
    {
     "name": "stdout",
     "output_type": "stream",
     "text": [
      "epoch31\n"
     ]
    },
    {
     "name": "stderr",
     "output_type": "stream",
     "text": [
      "100%|██████████| 1960/1960 [00:06<00:00, 306.20it/s]\n"
     ]
    },
    {
     "name": "stdout",
     "output_type": "stream",
     "text": [
      "Train on 1960 samples, validate on 840 samples\n",
      "Epoch 1/1\n",
      "\r",
      "1960/1960 [==============================] - 0s 64us/step - loss: 0.0560 - acc: 0.9908 - val_loss: 0.3176 - val_acc: 0.9250\n"
     ]
    },
    {
     "name": "stderr",
     "output_type": "stream",
     "text": [
      "\r",
      "  0%|          | 0/1960 [00:00<?, ?it/s]"
     ]
    },
    {
     "name": "stdout",
     "output_type": "stream",
     "text": [
      "epoch32\n"
     ]
    },
    {
     "name": "stderr",
     "output_type": "stream",
     "text": [
      "100%|██████████| 1960/1960 [00:06<00:00, 302.92it/s]\n"
     ]
    },
    {
     "name": "stdout",
     "output_type": "stream",
     "text": [
      "Train on 1960 samples, validate on 840 samples\n",
      "Epoch 1/1\n",
      "\r",
      "1960/1960 [==============================] - 0s 72us/step - loss: 0.0552 - acc: 0.9883 - val_loss: 0.3177 - val_acc: 0.9250\n"
     ]
    },
    {
     "name": "stderr",
     "output_type": "stream",
     "text": [
      "\r",
      "  0%|          | 0/1960 [00:00<?, ?it/s]"
     ]
    },
    {
     "name": "stdout",
     "output_type": "stream",
     "text": [
      "epoch33\n"
     ]
    },
    {
     "name": "stderr",
     "output_type": "stream",
     "text": [
      "100%|██████████| 1960/1960 [00:06<00:00, 300.61it/s]\n"
     ]
    },
    {
     "name": "stdout",
     "output_type": "stream",
     "text": [
      "Train on 1960 samples, validate on 840 samples\n",
      "Epoch 1/1\n",
      "\r",
      "1960/1960 [==============================] - 0s 64us/step - loss: 0.0458 - acc: 0.9903 - val_loss: 0.3177 - val_acc: 0.9250\n"
     ]
    },
    {
     "name": "stderr",
     "output_type": "stream",
     "text": [
      "\r",
      "  0%|          | 0/1960 [00:00<?, ?it/s]"
     ]
    },
    {
     "name": "stdout",
     "output_type": "stream",
     "text": [
      "epoch34\n"
     ]
    },
    {
     "name": "stderr",
     "output_type": "stream",
     "text": [
      "100%|██████████| 1960/1960 [00:06<00:00, 294.68it/s]\n"
     ]
    },
    {
     "name": "stdout",
     "output_type": "stream",
     "text": [
      "Train on 1960 samples, validate on 840 samples\n",
      "Epoch 1/1\n",
      "\r",
      "1960/1960 [==============================] - 0s 64us/step - loss: 0.0511 - acc: 0.9929 - val_loss: 0.3178 - val_acc: 0.9250\n"
     ]
    },
    {
     "name": "stderr",
     "output_type": "stream",
     "text": [
      "\r",
      "  0%|          | 0/1960 [00:00<?, ?it/s]"
     ]
    },
    {
     "name": "stdout",
     "output_type": "stream",
     "text": [
      "epoch35\n"
     ]
    },
    {
     "name": "stderr",
     "output_type": "stream",
     "text": [
      "100%|██████████| 1960/1960 [00:06<00:00, 299.03it/s]\n"
     ]
    },
    {
     "name": "stdout",
     "output_type": "stream",
     "text": [
      "Train on 1960 samples, validate on 840 samples\n",
      "Epoch 1/1\n",
      "\r",
      "1960/1960 [==============================] - 0s 69us/step - loss: 0.0552 - acc: 0.9903 - val_loss: 0.3179 - val_acc: 0.9250\n"
     ]
    },
    {
     "name": "stderr",
     "output_type": "stream",
     "text": [
      "\r",
      "  0%|          | 0/1960 [00:00<?, ?it/s]"
     ]
    },
    {
     "name": "stdout",
     "output_type": "stream",
     "text": [
      "epoch36\n"
     ]
    },
    {
     "name": "stderr",
     "output_type": "stream",
     "text": [
      "100%|██████████| 1960/1960 [00:06<00:00, 295.01it/s]\n"
     ]
    },
    {
     "name": "stdout",
     "output_type": "stream",
     "text": [
      "Train on 1960 samples, validate on 840 samples\n",
      "Epoch 1/1\n",
      "\r",
      "1960/1960 [==============================] - 0s 91us/step - loss: 0.0424 - acc: 0.9923 - val_loss: 0.3179 - val_acc: 0.9250\n"
     ]
    },
    {
     "name": "stderr",
     "output_type": "stream",
     "text": [
      "\r",
      "  0%|          | 0/1960 [00:00<?, ?it/s]"
     ]
    },
    {
     "name": "stdout",
     "output_type": "stream",
     "text": [
      "epoch37\n"
     ]
    },
    {
     "name": "stderr",
     "output_type": "stream",
     "text": [
      "100%|██████████| 1960/1960 [00:06<00:00, 305.59it/s]\n"
     ]
    },
    {
     "name": "stdout",
     "output_type": "stream",
     "text": [
      "Train on 1960 samples, validate on 840 samples\n",
      "Epoch 1/1\n",
      "\r",
      "1960/1960 [==============================] - 0s 68us/step - loss: 0.0632 - acc: 0.9862 - val_loss: 0.3180 - val_acc: 0.9250\n"
     ]
    },
    {
     "name": "stderr",
     "output_type": "stream",
     "text": [
      "\r",
      "  0%|          | 0/1960 [00:00<?, ?it/s]"
     ]
    },
    {
     "name": "stdout",
     "output_type": "stream",
     "text": [
      "epoch38\n"
     ]
    },
    {
     "name": "stderr",
     "output_type": "stream",
     "text": [
      "100%|██████████| 1960/1960 [00:06<00:00, 303.31it/s]\n"
     ]
    },
    {
     "name": "stdout",
     "output_type": "stream",
     "text": [
      "Train on 1960 samples, validate on 840 samples\n",
      "Epoch 1/1\n",
      "\r",
      "1960/1960 [==============================] - 0s 66us/step - loss: 0.0448 - acc: 0.9929 - val_loss: 0.3181 - val_acc: 0.9250\n"
     ]
    },
    {
     "name": "stderr",
     "output_type": "stream",
     "text": [
      "\r",
      "  0%|          | 0/1960 [00:00<?, ?it/s]"
     ]
    },
    {
     "name": "stdout",
     "output_type": "stream",
     "text": [
      "epoch39\n"
     ]
    },
    {
     "name": "stderr",
     "output_type": "stream",
     "text": [
      "100%|██████████| 1960/1960 [00:06<00:00, 303.11it/s]\n"
     ]
    },
    {
     "name": "stdout",
     "output_type": "stream",
     "text": [
      "Train on 1960 samples, validate on 840 samples\n",
      "Epoch 1/1\n",
      "\r",
      "1960/1960 [==============================] - 0s 67us/step - loss: 0.0611 - acc: 0.9872 - val_loss: 0.3181 - val_acc: 0.9250\n"
     ]
    },
    {
     "name": "stderr",
     "output_type": "stream",
     "text": [
      "\r",
      "  0%|          | 0/1960 [00:00<?, ?it/s]"
     ]
    },
    {
     "name": "stdout",
     "output_type": "stream",
     "text": [
      "epoch40\n"
     ]
    },
    {
     "name": "stderr",
     "output_type": "stream",
     "text": [
      "100%|██████████| 1960/1960 [00:06<00:00, 303.32it/s]\n"
     ]
    },
    {
     "name": "stdout",
     "output_type": "stream",
     "text": [
      "Train on 1960 samples, validate on 840 samples\n",
      "Epoch 1/1\n",
      "\r",
      "1960/1960 [==============================] - 0s 72us/step - loss: 0.0540 - acc: 0.9878 - val_loss: 0.3180 - val_acc: 0.9250\n"
     ]
    },
    {
     "name": "stderr",
     "output_type": "stream",
     "text": [
      "  1%|          | 18/1960 [00:00<00:10, 178.21it/s]"
     ]
    },
    {
     "name": "stdout",
     "output_type": "stream",
     "text": [
      "epoch41\n"
     ]
    },
    {
     "name": "stderr",
     "output_type": "stream",
     "text": [
      "100%|██████████| 1960/1960 [00:06<00:00, 311.83it/s]\n"
     ]
    },
    {
     "name": "stdout",
     "output_type": "stream",
     "text": [
      "Train on 1960 samples, validate on 840 samples\n",
      "Epoch 1/1\n",
      "\r",
      "1960/1960 [==============================] - 0s 64us/step - loss: 0.0634 - acc: 0.9883 - val_loss: 0.3179 - val_acc: 0.9250\n"
     ]
    },
    {
     "name": "stderr",
     "output_type": "stream",
     "text": [
      "\r",
      "  0%|          | 0/1960 [00:00<?, ?it/s]"
     ]
    },
    {
     "name": "stdout",
     "output_type": "stream",
     "text": [
      "epoch42\n"
     ]
    },
    {
     "name": "stderr",
     "output_type": "stream",
     "text": [
      "100%|██████████| 1960/1960 [00:06<00:00, 312.59it/s]\n"
     ]
    },
    {
     "name": "stdout",
     "output_type": "stream",
     "text": [
      "Train on 1960 samples, validate on 840 samples\n",
      "Epoch 1/1\n",
      "\r",
      "1960/1960 [==============================] - 0s 68us/step - loss: 0.0631 - acc: 0.9898 - val_loss: 0.3179 - val_acc: 0.9250\n"
     ]
    },
    {
     "name": "stderr",
     "output_type": "stream",
     "text": [
      "\r",
      "  0%|          | 0/1960 [00:00<?, ?it/s]"
     ]
    },
    {
     "name": "stdout",
     "output_type": "stream",
     "text": [
      "epoch43\n"
     ]
    },
    {
     "name": "stderr",
     "output_type": "stream",
     "text": [
      "100%|██████████| 1960/1960 [00:06<00:00, 305.26it/s]\n"
     ]
    },
    {
     "name": "stdout",
     "output_type": "stream",
     "text": [
      "Train on 1960 samples, validate on 840 samples\n",
      "Epoch 1/1\n",
      "\r",
      "1960/1960 [==============================] - 0s 69us/step - loss: 0.0502 - acc: 0.9888 - val_loss: 0.3179 - val_acc: 0.9250\n"
     ]
    },
    {
     "name": "stderr",
     "output_type": "stream",
     "text": [
      "\r",
      "  0%|          | 0/1960 [00:00<?, ?it/s]"
     ]
    },
    {
     "name": "stdout",
     "output_type": "stream",
     "text": [
      "epoch44\n"
     ]
    },
    {
     "name": "stderr",
     "output_type": "stream",
     "text": [
      "100%|██████████| 1960/1960 [00:06<00:00, 312.68it/s]\n"
     ]
    },
    {
     "name": "stdout",
     "output_type": "stream",
     "text": [
      "Train on 1960 samples, validate on 840 samples\n",
      "Epoch 1/1\n",
      "\r",
      "1960/1960 [==============================] - 0s 66us/step - loss: 0.0450 - acc: 0.9908 - val_loss: 0.3178 - val_acc: 0.9250\n"
     ]
    },
    {
     "name": "stderr",
     "output_type": "stream",
     "text": [
      "\r",
      "  0%|          | 0/1960 [00:00<?, ?it/s]"
     ]
    },
    {
     "name": "stdout",
     "output_type": "stream",
     "text": [
      "epoch45\n"
     ]
    },
    {
     "name": "stderr",
     "output_type": "stream",
     "text": [
      "100%|██████████| 1960/1960 [00:06<00:00, 313.84it/s]\n"
     ]
    },
    {
     "name": "stdout",
     "output_type": "stream",
     "text": [
      "Train on 1960 samples, validate on 840 samples\n",
      "Epoch 1/1\n",
      "\r",
      "1960/1960 [==============================] - 0s 81us/step - loss: 0.0544 - acc: 0.9878 - val_loss: 0.3177 - val_acc: 0.9250\n"
     ]
    },
    {
     "name": "stderr",
     "output_type": "stream",
     "text": [
      "\r",
      "  0%|          | 0/1960 [00:00<?, ?it/s]"
     ]
    },
    {
     "name": "stdout",
     "output_type": "stream",
     "text": [
      "epoch46\n"
     ]
    },
    {
     "name": "stderr",
     "output_type": "stream",
     "text": [
      "100%|██████████| 1960/1960 [00:06<00:00, 314.16it/s]\n"
     ]
    },
    {
     "name": "stdout",
     "output_type": "stream",
     "text": [
      "Train on 1960 samples, validate on 840 samples\n",
      "Epoch 1/1\n",
      "\r",
      "1960/1960 [==============================] - 0s 64us/step - loss: 0.0385 - acc: 0.9944 - val_loss: 0.3175 - val_acc: 0.9250\n"
     ]
    },
    {
     "name": "stderr",
     "output_type": "stream",
     "text": [
      "\r",
      "  0%|          | 0/1960 [00:00<?, ?it/s]"
     ]
    },
    {
     "name": "stdout",
     "output_type": "stream",
     "text": [
      "epoch47\n"
     ]
    },
    {
     "name": "stderr",
     "output_type": "stream",
     "text": [
      "100%|██████████| 1960/1960 [00:06<00:00, 294.64it/s]\n"
     ]
    },
    {
     "name": "stdout",
     "output_type": "stream",
     "text": [
      "Train on 1960 samples, validate on 840 samples\n",
      "Epoch 1/1\n",
      "\r",
      "1960/1960 [==============================] - 0s 64us/step - loss: 0.0479 - acc: 0.9929 - val_loss: 0.3175 - val_acc: 0.9250\n"
     ]
    },
    {
     "name": "stderr",
     "output_type": "stream",
     "text": [
      "\r",
      "  0%|          | 0/1960 [00:00<?, ?it/s]"
     ]
    },
    {
     "name": "stdout",
     "output_type": "stream",
     "text": [
      "epoch48\n"
     ]
    },
    {
     "name": "stderr",
     "output_type": "stream",
     "text": [
      "100%|██████████| 1960/1960 [00:06<00:00, 288.64it/s]\n"
     ]
    },
    {
     "name": "stdout",
     "output_type": "stream",
     "text": [
      "Train on 1960 samples, validate on 840 samples\n",
      "Epoch 1/1\n",
      "\r",
      "1960/1960 [==============================] - 0s 71us/step - loss: 0.0562 - acc: 0.9908 - val_loss: 0.3174 - val_acc: 0.9250\n"
     ]
    },
    {
     "name": "stderr",
     "output_type": "stream",
     "text": [
      "\r",
      "  0%|          | 0/1960 [00:00<?, ?it/s]"
     ]
    },
    {
     "name": "stdout",
     "output_type": "stream",
     "text": [
      "epoch49\n"
     ]
    },
    {
     "name": "stderr",
     "output_type": "stream",
     "text": [
      "100%|██████████| 1960/1960 [00:06<00:00, 299.82it/s]\n"
     ]
    },
    {
     "name": "stdout",
     "output_type": "stream",
     "text": [
      "Train on 1960 samples, validate on 840 samples\n",
      "Epoch 1/1\n",
      "\r",
      "1960/1960 [==============================] - 0s 67us/step - loss: 0.0488 - acc: 0.9929 - val_loss: 0.3173 - val_acc: 0.9250\n"
     ]
    }
   ],
   "source": [
    "epochs = 50\n",
    "for e in range(epochs):\n",
    "    print('epoch{}'.format(e))\n",
    "    X_0 = []\n",
    "    X_1 = []\n",
    "    Y = []\n",
    "    \n",
    "    for i in tqdm(range(len(Train['pose']))): \n",
    "    #for i in range(len(Train['pose'])): \n",
    "    \n",
    "        label = np.zeros(C.clc_coarse)\n",
    "        label[Train['coarse_label'][i]-1] = 1 \n",
    "        \n",
    "        p = np.copy(Train['pose'][i]).reshape([-1,22,3])[:,C.joint_ind,:]\n",
    "        p = sampling_frame(p,C)\n",
    "       \n",
    "        #rotation\n",
    "        x_angle = np.random.uniform(-0.2,0.2)\n",
    "        y_angle = np.random.uniform(-0.2,0.2)\n",
    "        z_angle = np.random.uniform(-0.2,0.2)\n",
    "        R = euler2mat(x_angle, y_angle, z_angle, 'sxyz')\n",
    "        p = rotaion_one(p,R)\n",
    "         \n",
    "        p[:,:,0] = p[:,:,0]*random.uniform(0.9, 1.1)+p[:,:,0]*random.uniform(-0.1,0.1)\n",
    "        p[:,:,1] = p[:,:,1]*random.uniform(0.9, 1.1)+p[:,:,1]*random.uniform(-0.1,0.1)\n",
    "        p[:,:,2] = p[:,:,2]*random.uniform(0.9, 1.1)+p[:,:,2]*random.uniform(-0.1,0.1)\n",
    "     \n",
    "        p = normlize_range(p)\n",
    "        M = get_CG(p,C)\n",
    "        \n",
    "        X_0.append(M)\n",
    "        X_1.append(p)\n",
    "        Y.append(label)\n",
    "\n",
    "    X_0 = np.stack(X_0)  \n",
    "    X_1 = np.stack(X_1) \n",
    "    Y = np.stack(Y)\n",
    "   \n",
    "\n",
    "    AR_single.fit([X_0,X_1],Y,\n",
    "            batch_size=len(Y),\n",
    "            epochs=1,\n",
    "            verbose=True,\n",
    "            shuffle=True,\n",
    "            validation_data=([X_test_0,X_test_1],Y_test)      \n",
    "            )\n",
    "\n",
    "    if e%10==0:\n",
    "        AR_single.save_weights('weights/coarse_1D_heavy_aug.h5')\n",
    "        \n"
   ]
  },
  {
   "cell_type": "code",
   "execution_count": 20,
   "metadata": {},
   "outputs": [
    {
     "data": {
      "image/png": "[encoded data removed]",
      "text/plain": [
       "<matplotlib.figure.Figure at 0x7f88c81d8d30>"
      ]
     },
     "metadata": {},
     "output_type": "display_data"
    }
   ],
   "source": [
    "import matplotlib.pyplot as plt\n",
    "from sklearn.metrics import confusion_matrix\n",
    "\n",
    "Y_pred = AR_single.predict([X_test_0,X_test_1])\n",
    "cnf_matrix = confusion_matrix(np.argmax(Y_test,axis=1),np.argmax(Y_pred,axis=1))\n",
    "plt.figure(figsize=(10,10))\n",
    "plt.imshow(cnf_matrix)\n",
    "plt.show()"
   ]
  },
  {
   "cell_type": "code",
   "execution_count": null,
   "metadata": {
    "collapsed": true
   },
   "outputs": [],
   "source": []
  }
 ],
 "metadata": {
  "kernelspec": {
   "display_name": "Python 3",
   "language": "python",
   "name": "python3"
  },
  "language_info": {
   "codemirror_mode": {
    "name": "ipython",
    "version": 3
   },
   "file_extension": ".py",
   "mimetype": "text/x-python",
   "name": "python",
   "nbconvert_exporter": "python",
   "pygments_lexer": "ipython3",
   "version": "3.6.6"
  }
 },
 "nbformat": 4,
 "nbformat_minor": 2
}
