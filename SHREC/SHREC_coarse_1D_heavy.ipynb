{
 "cells": [
  {
   "cell_type": "code",
   "execution_count": 1,
   "metadata": {},
   "outputs": [
    {
     "name": "stderr",
     "output_type": "stream",
     "text": [
      "/home/fan/anaconda3/envs/cv2/lib/python3.6/site-packages/h5py/__init__.py:34: FutureWarning: Conversion of the second argument of issubdtype from `float` to `np.floating` is deprecated. In future, it will be treated as `np.float64 == np.dtype(float).type`.\n",
      "  from ._conv import register_converters as _register_converters\n",
      "Using TensorFlow backend.\n"
     ]
    }
   ],
   "source": [
    "import numpy as np\n",
    "import math\n",
    "import random\n",
    "import pandas as pd\n",
    "import os\n",
    "import matplotlib.pyplot as plt\n",
    "import cv2\n",
    "import glob\n",
    "import gc\n",
    "from utils import *\n",
    "from tqdm import tqdm\n",
    "import pickle\n",
    "\n",
    "from keras.optimizers import *\n",
    "from keras.models import Model\n",
    "from keras.layers import *\n",
    "from keras.layers.core import *\n",
    "from keras.layers.convolutional import *\n",
    "from keras import backend as K\n",
    "import tensorflow as tf"
   ]
  },
  {
   "cell_type": "markdown",
   "metadata": {},
   "source": [
    "# Initialize the setting"
   ]
  },
  {
   "cell_type": "code",
   "execution_count": 2,
   "metadata": {
    "collapsed": true
   },
   "outputs": [],
   "source": [
    "os.environ[\"CUDA_DEVICE_ORDER\"]=\"PCI_BUS_ID\"   \n",
    "os.environ[\"CUDA_VISIBLE_DEVICES\"]=\"3\""
   ]
  },
  {
   "cell_type": "code",
   "execution_count": 3,
   "metadata": {
    "collapsed": true
   },
   "outputs": [],
   "source": [
    "class Config():\n",
    "    def __init__(self):\n",
    "        self.frame_l = 32 # the length of frames\n",
    "        self.joint_n = 12 # the number of joints\n",
    "        self.joint_d = 3 # the dimension of joints\n",
    "        self.clc_coarse = 14 # the number of coarse class\n",
    "        self.clc_fine = 28 # the number of fine-grained class\n",
    "        self.feat_d = 90\n",
    "        self.filters = 64\n",
    "        self.joint_ind = np.array([0,1,2,5,6,9,10,13,14,17,18,21])\n",
    "        self.data_dir = '/mnt/nasbi/homes/fan/projects/action/skeleton/data/SHREC/'\n",
    "C = Config()"
   ]
  },
  {
   "cell_type": "code",
   "execution_count": 4,
   "metadata": {
    "collapsed": true
   },
   "outputs": [],
   "source": [
    "from scipy.spatial.distance import cdist\n",
    "def get_CG(p,C):\n",
    "    M = []\n",
    "    iu = np.triu_indices(C.joint_n,0,C.joint_n+1)\n",
    "    for f in range(C.frame_l):\n",
    "        #distance max \n",
    "        d_m = cdist(p[f],np.concatenate([p[f],np.zeros([1,C.joint_d])]),'euclidean')       \n",
    "        d_m = d_m[iu] \n",
    "        M.append(d_m)\n",
    "    M = np.stack(M)   \n",
    "    return M"
   ]
  },
  {
   "cell_type": "markdown",
   "metadata": {},
   "source": [
    "# Building the model"
   ]
  },
  {
   "cell_type": "code",
   "execution_count": 5,
   "metadata": {
    "collapsed": true
   },
   "outputs": [],
   "source": [
    "def poses_diff(x):\n",
    "    H, W = x.get_shape()[1],x.get_shape()[2]\n",
    "    x = tf.subtract(x[:,:1,...],x[:,:-1,...])\n",
    "    x = tf.image.resize_nearest_neighbor(x,size=[H.value,W.value],align_corners=False) # should not alignment here\n",
    "    return x\n",
    "\n",
    "def pose_motion(P,frame_l):\n",
    "    P_diff_slow = Lambda(lambda x: poses_diff(x))(P)\n",
    "    P_diff_slow = Reshape((frame_l,-1))(P_diff_slow)\n",
    "    P_fast = Lambda(lambda x: x[:,::2,...])(P)\n",
    "    P_diff_fast = Lambda(lambda x: poses_diff(x))(P_fast)\n",
    "    P_diff_fast = Reshape((int(frame_l/2),-1))(P_diff_fast)\n",
    "    return P_diff_slow,P_diff_fast\n",
    "    \n",
    "def c1D(x,filters,kernel):\n",
    "    x = Conv1D(filters, kernel_size=kernel,padding='same',use_bias=False)(x)\n",
    "    x = BatchNormalization()(x)\n",
    "    x = LeakyReLU(alpha=0.2)(x)\n",
    "    return x\n",
    "\n",
    "def block(x,filters):\n",
    "    x = c1D(x,filters,3)\n",
    "    x = c1D(x,filters,3)\n",
    "    return x\n",
    "    \n",
    "def d1D(x,filters):\n",
    "    x = Dense(filters,use_bias=False)(x)\n",
    "    x = BatchNormalization()(x)\n",
    "    x = LeakyReLU(alpha=0.2)(x)\n",
    "    return x\n",
    "\n",
    "def build_FM(frame_l=32,joint_n=12,joint_d=3,feat_d=90,filters=16):   \n",
    "    M = Input(shape=(frame_l,feat_d))\n",
    "    P = Input(shape=(frame_l,joint_n,joint_d))\n",
    "    \n",
    "    diff_slow,diff_fast = pose_motion(P,frame_l)\n",
    "    \n",
    "    x = block(M,filters)\n",
    "    x = MaxPool1D(2)(x)\n",
    "    \n",
    "    x_d_slow = block(diff_slow,filters)\n",
    "    x_d_slow = MaxPool1D(2)(x_d_slow)\n",
    "    \n",
    "    x_d_fast = block(diff_fast,filters)\n",
    "   \n",
    "    x = concatenate([x,x_d_slow,x_d_fast])\n",
    "    x = block(x,filters*2)\n",
    "    x = MaxPool1D(2)(x)\n",
    "    x = SpatialDropout1D(0.1)(x)\n",
    "    \n",
    "    x = block(x,filters*4)\n",
    "    x = MaxPool1D(2)(x)\n",
    "    x = SpatialDropout1D(0.2)(x)\n",
    "    \n",
    "    x = block(x,filters*8)\n",
    "    x = SpatialDropout1D(0.2)(x)\n",
    "    \n",
    "    return Model(inputs=[M,P],outputs=x)\n"
   ]
  },
  {
   "cell_type": "code",
   "execution_count": 6,
   "metadata": {
    "collapsed": true
   },
   "outputs": [],
   "source": [
    "def build_AR_single(frame_l=32,joint_n=22,joint_d=3,feat_d=90,clc_num=14,filters=16):\n",
    "    M = Input(name='M', shape=(frame_l,feat_d))  \n",
    "    P = Input(name='P', shape=(frame_l,joint_n,joint_d)) \n",
    "    \n",
    "    FM = build_FM(frame_l,joint_n,joint_d,feat_d,filters)\n",
    "    \n",
    "    x = FM([M,P])\n",
    "\n",
    "    x = GlobalMaxPool1D()(x)\n",
    "    \n",
    "    x = d1D(x,128)\n",
    "    x = Dropout(0.5)(x)\n",
    "    x = d1D(x,128)\n",
    "    x = Dropout(0.5)(x)\n",
    "    x = Dense(clc_num, activation='softmax')(x)\n",
    "    \n",
    "    ######################Self-supervised part\n",
    "    model = Model(inputs=[M,P],outputs=x)\n",
    "    return model"
   ]
  },
  {
   "cell_type": "code",
   "execution_count": 7,
   "metadata": {
    "collapsed": true,
    "scrolled": true
   },
   "outputs": [],
   "source": [
    "AR_single = build_AR_single(C.frame_l,C.joint_n,C.joint_d,C.feat_d,C.clc_coarse,C.filters)"
   ]
  },
  {
   "cell_type": "code",
   "execution_count": 8,
   "metadata": {
    "scrolled": true
   },
   "outputs": [
    {
     "name": "stdout",
     "output_type": "stream",
     "text": [
      "__________________________________________________________________________________________________\n",
      "Layer (type)                    Output Shape         Param #     Connected to                     \n",
      "==================================================================================================\n",
      "M (InputLayer)                  (None, 32, 90)       0                                            \n",
      "__________________________________________________________________________________________________\n",
      "P (InputLayer)                  (None, 32, 12, 3)    0                                            \n",
      "__________________________________________________________________________________________________\n",
      "model_1 (Model)                 (None, 4, 512)       1674112     M[0][0]                          \n",
      "                                                                 P[0][0]                          \n",
      "__________________________________________________________________________________________________\n",
      "global_max_pooling1d_1 (GlobalM (None, 512)          0           model_1[1][0]                    \n",
      "__________________________________________________________________________________________________\n",
      "dense_1 (Dense)                 (None, 128)          65536       global_max_pooling1d_1[0][0]     \n",
      "__________________________________________________________________________________________________\n",
      "batch_normalization_13 (BatchNo (None, 128)          512         dense_1[0][0]                    \n",
      "__________________________________________________________________________________________________\n",
      "leaky_re_lu_13 (LeakyReLU)      (None, 128)          0           batch_normalization_13[0][0]     \n",
      "__________________________________________________________________________________________________\n",
      "dropout_1 (Dropout)             (None, 128)          0           leaky_re_lu_13[0][0]             \n",
      "__________________________________________________________________________________________________\n",
      "dense_2 (Dense)                 (None, 128)          16384       dropout_1[0][0]                  \n",
      "__________________________________________________________________________________________________\n",
      "batch_normalization_14 (BatchNo (None, 128)          512         dense_2[0][0]                    \n",
      "__________________________________________________________________________________________________\n",
      "leaky_re_lu_14 (LeakyReLU)      (None, 128)          0           batch_normalization_14[0][0]     \n",
      "__________________________________________________________________________________________________\n",
      "dropout_2 (Dropout)             (None, 128)          0           leaky_re_lu_14[0][0]             \n",
      "__________________________________________________________________________________________________\n",
      "dense_3 (Dense)                 (None, 14)           1806        dropout_2[0][0]                  \n",
      "==================================================================================================\n",
      "Total params: 1,758,862\n",
      "Trainable params: 1,753,998\n",
      "Non-trainable params: 4,864\n",
      "__________________________________________________________________________________________________\n"
     ]
    }
   ],
   "source": [
    "AR_single.summary()"
   ]
  },
  {
   "cell_type": "code",
   "execution_count": null,
   "metadata": {
    "collapsed": true,
    "scrolled": true
   },
   "outputs": [],
   "source": [
    "AR_single.load_weights('weights/coarse_heavy.h5')"
   ]
  },
  {
   "cell_type": "markdown",
   "metadata": {},
   "source": [
    "## load data"
   ]
  },
  {
   "cell_type": "code",
   "execution_count": 9,
   "metadata": {
    "collapsed": true
   },
   "outputs": [],
   "source": [
    "Train = pickle.load(open(C.data_dir+\"train.pkl\", \"rb\"))\n",
    "Test = pickle.load(open(C.data_dir+\"test.pkl\", \"rb\"))"
   ]
  },
  {
   "cell_type": "code",
   "execution_count": 10,
   "metadata": {
    "collapsed": true
   },
   "outputs": [],
   "source": [
    "def normlize_range(p):\n",
    "    # normolize to start point, use the center for hand case\n",
    "    p[:,:,0] = p[:,:,0]-np.mean(p[:,:,0])\n",
    "    p[:,:,1] = p[:,:,1]-np.mean(p[:,:,1])\n",
    "    p[:,:,2] = p[:,:,2]-np.mean(p[:,:,2])\n",
    "    return p"
   ]
  },
  {
   "cell_type": "markdown",
   "metadata": {},
   "source": [
    "## Without frame_sampling train"
   ]
  },
  {
   "cell_type": "code",
   "execution_count": 11,
   "metadata": {},
   "outputs": [
    {
     "name": "stderr",
     "output_type": "stream",
     "text": [
      "  1%|          | 21/1960 [00:00<00:09, 209.11it/s]/home/fan/anaconda3/envs/cv2/lib/python3.6/site-packages/scipy/ndimage/interpolation.py:583: UserWarning: From scipy 0.13.0, the output shape of zoom() is calculated with round() instead of int() - for these inputs the size of the returned array has changed.\n",
      "  \"the returned array has changed.\", UserWarning)\n",
      "100%|██████████| 1960/1960 [00:04<00:00, 420.17it/s]\n"
     ]
    }
   ],
   "source": [
    "X_0 = []\n",
    "X_1 = []\n",
    "Y = []\n",
    "for i in tqdm(range(len(Train['pose']))): \n",
    "    p = np.copy(Train['pose'][i]).reshape([-1,22,3])[:,C.joint_ind,:]\n",
    "    p = zoom(p,target_l=C.frame_l,joints_num=C.joint_n,joints_dim=C.joint_d)\n",
    "    p = normlize_range(p)\n",
    "    \n",
    "    label = np.zeros(C.clc_coarse)\n",
    "    label[Train['coarse_label'][i]-1] = 1   \n",
    "\n",
    "    M = get_CG(p,C)\n",
    "\n",
    "    X_0.append(M)\n",
    "    X_1.append(p)\n",
    "    Y.append(label)\n",
    "\n",
    "X_0 = np.stack(X_0)  \n",
    "X_1 = np.stack(X_1) \n",
    "Y = np.stack(Y)"
   ]
  },
  {
   "cell_type": "code",
   "execution_count": 12,
   "metadata": {},
   "outputs": [
    {
     "name": "stderr",
     "output_type": "stream",
     "text": [
      "  5%|▌         | 44/840 [00:00<00:01, 439.43it/s]/home/fan/anaconda3/envs/cv2/lib/python3.6/site-packages/scipy/ndimage/interpolation.py:583: UserWarning: From scipy 0.13.0, the output shape of zoom() is calculated with round() instead of int() - for these inputs the size of the returned array has changed.\n",
      "  \"the returned array has changed.\", UserWarning)\n",
      "100%|██████████| 840/840 [00:01<00:00, 436.59it/s]\n"
     ]
    }
   ],
   "source": [
    "X_test_0 = []\n",
    "X_test_1 = []\n",
    "Y_test = []\n",
    "for i in tqdm(range(len(Test['pose']))): \n",
    "    p = np.copy(Test['pose'][i]).reshape([-1,22,3])[:,C.joint_ind,:]\n",
    "    p = zoom(p,target_l=C.frame_l,joints_num=C.joint_n,joints_dim=C.joint_d)\n",
    "    p = normlize_range(p)\n",
    "    \n",
    "    label = np.zeros(C.clc_coarse)\n",
    "    label[Test['coarse_label'][i]-1] = 1   \n",
    "\n",
    "    M = get_CG(p,C)\n",
    "\n",
    "    X_test_0.append(M)\n",
    "    X_test_1.append(p)\n",
    "    Y_test.append(label)\n",
    "\n",
    "X_test_0 = np.stack(X_test_0) \n",
    "X_test_1 = np.stack(X_test_1)  \n",
    "Y_test = np.stack(Y_test)"
   ]
  },
  {
   "cell_type": "code",
   "execution_count": 13,
   "metadata": {
    "scrolled": true
   },
   "outputs": [
    {
     "name": "stdout",
     "output_type": "stream",
     "text": [
      "Train on 1960 samples, validate on 840 samples\n",
      "Epoch 1/400\n",
      "1960/1960 [==============================] - 7s 4ms/step - loss: 3.2154 - acc: 0.0888 - val_loss: 1.9010 - val_acc: 0.4321\n",
      "Epoch 2/400\n",
      "1960/1960 [==============================] - 0s 71us/step - loss: 2.4816 - acc: 0.2046 - val_loss: 1.6046 - val_acc: 0.4988\n",
      "Epoch 3/400\n",
      "1960/1960 [==============================] - 0s 68us/step - loss: 2.0848 - acc: 0.3230 - val_loss: 1.5673 - val_acc: 0.5310\n",
      "Epoch 4/400\n",
      "1960/1960 [==============================] - 0s 72us/step - loss: 1.8495 - acc: 0.3995 - val_loss: 1.4916 - val_acc: 0.5560\n",
      "Epoch 5/400\n",
      "1960/1960 [==============================] - 0s 71us/step - loss: 1.7112 - acc: 0.4546 - val_loss: 1.3434 - val_acc: 0.5833\n",
      "Epoch 6/400\n",
      "1960/1960 [==============================] - 0s 69us/step - loss: 1.5149 - acc: 0.5367 - val_loss: 1.1558 - val_acc: 0.6333\n",
      "Epoch 7/400\n",
      "1960/1960 [==============================] - 0s 71us/step - loss: 1.3859 - acc: 0.5801 - val_loss: 0.9868 - val_acc: 0.6929\n",
      "Epoch 8/400\n",
      "1960/1960 [==============================] - 0s 69us/step - loss: 1.3191 - acc: 0.6133 - val_loss: 0.8633 - val_acc: 0.7369\n",
      "Epoch 9/400\n",
      "1960/1960 [==============================] - 0s 71us/step - loss: 1.2252 - acc: 0.6485 - val_loss: 0.7684 - val_acc: 0.7583\n",
      "Epoch 10/400\n",
      "1960/1960 [==============================] - 0s 64us/step - loss: 1.0799 - acc: 0.6913 - val_loss: 0.6767 - val_acc: 0.7810\n",
      "Epoch 11/400\n",
      "1960/1960 [==============================] - 0s 66us/step - loss: 1.0154 - acc: 0.7219 - val_loss: 0.5975 - val_acc: 0.8036\n",
      "Epoch 12/400\n",
      "1960/1960 [==============================] - 0s 63us/step - loss: 0.9433 - acc: 0.7526 - val_loss: 0.5480 - val_acc: 0.8262\n",
      "Epoch 13/400\n",
      "1960/1960 [==============================] - 0s 72us/step - loss: 0.8666 - acc: 0.7806 - val_loss: 0.5227 - val_acc: 0.8345\n",
      "Epoch 14/400\n",
      "1960/1960 [==============================] - 0s 71us/step - loss: 0.8120 - acc: 0.7954 - val_loss: 0.5105 - val_acc: 0.8452\n",
      "Epoch 15/400\n",
      "1960/1960 [==============================] - 0s 70us/step - loss: 0.7214 - acc: 0.8332 - val_loss: 0.5064 - val_acc: 0.8500\n",
      "Epoch 16/400\n",
      "1960/1960 [==============================] - 0s 68us/step - loss: 0.7006 - acc: 0.8301 - val_loss: 0.5134 - val_acc: 0.8417\n",
      "Epoch 17/400\n",
      "1960/1960 [==============================] - 0s 65us/step - loss: 0.6431 - acc: 0.8607 - val_loss: 0.5105 - val_acc: 0.8405\n",
      "Epoch 18/400\n",
      "1960/1960 [==============================] - 0s 70us/step - loss: 0.5879 - acc: 0.8781 - val_loss: 0.4975 - val_acc: 0.8488\n",
      "Epoch 19/400\n",
      "1960/1960 [==============================] - 0s 64us/step - loss: 0.5398 - acc: 0.8842 - val_loss: 0.4769 - val_acc: 0.8512\n",
      "Epoch 20/400\n",
      "1960/1960 [==============================] - 0s 70us/step - loss: 0.5270 - acc: 0.8898 - val_loss: 0.4630 - val_acc: 0.8583\n",
      "Epoch 21/400\n",
      "1960/1960 [==============================] - 0s 66us/step - loss: 0.4976 - acc: 0.8974 - val_loss: 0.4592 - val_acc: 0.8607\n",
      "Epoch 22/400\n",
      "1960/1960 [==============================] - 0s 69us/step - loss: 0.4616 - acc: 0.9015 - val_loss: 0.4651 - val_acc: 0.8595\n",
      "Epoch 23/400\n",
      "1960/1960 [==============================] - 0s 65us/step - loss: 0.4252 - acc: 0.9194 - val_loss: 0.4834 - val_acc: 0.8560\n",
      "Epoch 24/400\n",
      "1960/1960 [==============================] - 0s 70us/step - loss: 0.4082 - acc: 0.9235 - val_loss: 0.5027 - val_acc: 0.8512\n",
      "Epoch 25/400\n",
      "1960/1960 [==============================] - 0s 70us/step - loss: 0.3736 - acc: 0.9362 - val_loss: 0.5190 - val_acc: 0.8440\n",
      "Epoch 26/400\n",
      "1960/1960 [==============================] - 0s 70us/step - loss: 0.3535 - acc: 0.9362 - val_loss: 0.5360 - val_acc: 0.8417\n",
      "Epoch 27/400\n",
      "1960/1960 [==============================] - 0s 70us/step - loss: 0.3415 - acc: 0.9393 - val_loss: 0.5481 - val_acc: 0.8417\n",
      "Epoch 28/400\n",
      "1960/1960 [==============================] - 0s 67us/step - loss: 0.3104 - acc: 0.9444 - val_loss: 0.5460 - val_acc: 0.8440\n",
      "Epoch 29/400\n",
      "1960/1960 [==============================] - 0s 61us/step - loss: 0.3097 - acc: 0.9459 - val_loss: 0.5335 - val_acc: 0.8571\n",
      "Epoch 30/400\n",
      "1960/1960 [==============================] - 0s 68us/step - loss: 0.2874 - acc: 0.9490 - val_loss: 0.5462 - val_acc: 0.8524\n",
      "Epoch 31/400\n",
      "1960/1960 [==============================] - 0s 70us/step - loss: 0.2672 - acc: 0.9546 - val_loss: 0.5526 - val_acc: 0.8560\n",
      "Epoch 32/400\n",
      "1960/1960 [==============================] - 0s 70us/step - loss: 0.2573 - acc: 0.9556 - val_loss: 0.5431 - val_acc: 0.8607\n",
      "Epoch 33/400\n",
      "1960/1960 [==============================] - 0s 67us/step - loss: 0.2433 - acc: 0.9602 - val_loss: 0.5225 - val_acc: 0.8667\n",
      "Epoch 34/400\n",
      "1960/1960 [==============================] - 0s 65us/step - loss: 0.2310 - acc: 0.9668 - val_loss: 0.5145 - val_acc: 0.8714\n",
      "Epoch 35/400\n",
      "1960/1960 [==============================] - 0s 70us/step - loss: 0.2119 - acc: 0.9684 - val_loss: 0.5218 - val_acc: 0.8690\n",
      "Epoch 36/400\n",
      "1960/1960 [==============================] - 0s 65us/step - loss: 0.2036 - acc: 0.9740 - val_loss: 0.5449 - val_acc: 0.8643\n",
      "Epoch 37/400\n",
      "1960/1960 [==============================] - 0s 66us/step - loss: 0.1997 - acc: 0.9719 - val_loss: 0.5525 - val_acc: 0.8679\n",
      "Epoch 38/400\n",
      "1960/1960 [==============================] - 0s 70us/step - loss: 0.1787 - acc: 0.9791 - val_loss: 0.5505 - val_acc: 0.8690\n",
      "Epoch 39/400\n",
      "1960/1960 [==============================] - 0s 70us/step - loss: 0.1779 - acc: 0.9750 - val_loss: 0.5198 - val_acc: 0.8762\n",
      "Epoch 40/400\n",
      "1960/1960 [==============================] - 0s 69us/step - loss: 0.1710 - acc: 0.9770 - val_loss: 0.4925 - val_acc: 0.8845\n",
      "Epoch 41/400\n",
      "1960/1960 [==============================] - 0s 69us/step - loss: 0.1656 - acc: 0.9776 - val_loss: 0.4736 - val_acc: 0.8893\n",
      "Epoch 42/400\n",
      "1960/1960 [==============================] - 0s 69us/step - loss: 0.1489 - acc: 0.9791 - val_loss: 0.4600 - val_acc: 0.8893\n",
      "Epoch 43/400\n",
      "1960/1960 [==============================] - 0s 70us/step - loss: 0.1522 - acc: 0.9801 - val_loss: 0.4595 - val_acc: 0.8869\n",
      "Epoch 44/400\n",
      "1960/1960 [==============================] - 0s 67us/step - loss: 0.1465 - acc: 0.9842 - val_loss: 0.4719 - val_acc: 0.8738\n",
      "Epoch 45/400\n",
      "1960/1960 [==============================] - 0s 63us/step - loss: 0.1262 - acc: 0.9867 - val_loss: 0.4790 - val_acc: 0.8750\n",
      "Epoch 46/400\n",
      "1960/1960 [==============================] - 0s 61us/step - loss: 0.1363 - acc: 0.9852 - val_loss: 0.4806 - val_acc: 0.8774\n",
      "Epoch 47/400\n",
      "1960/1960 [==============================] - 0s 60us/step - loss: 0.1249 - acc: 0.9872 - val_loss: 0.4745 - val_acc: 0.8798\n",
      "Epoch 48/400\n",
      "1960/1960 [==============================] - 0s 62us/step - loss: 0.1176 - acc: 0.9898 - val_loss: 0.4665 - val_acc: 0.8798\n",
      "Epoch 49/400\n",
      "1960/1960 [==============================] - 0s 71us/step - loss: 0.1079 - acc: 0.9903 - val_loss: 0.4548 - val_acc: 0.8845\n",
      "Epoch 50/400\n",
      "1960/1960 [==============================] - 0s 69us/step - loss: 0.1099 - acc: 0.9903 - val_loss: 0.4432 - val_acc: 0.8857\n",
      "Epoch 51/400\n",
      "1960/1960 [==============================] - 0s 71us/step - loss: 0.0995 - acc: 0.9888 - val_loss: 0.4363 - val_acc: 0.8881\n",
      "Epoch 52/400\n",
      "1960/1960 [==============================] - 0s 66us/step - loss: 0.1018 - acc: 0.9898 - val_loss: 0.4261 - val_acc: 0.8929\n",
      "Epoch 53/400\n",
      "1960/1960 [==============================] - 0s 65us/step - loss: 0.1017 - acc: 0.9918 - val_loss: 0.4162 - val_acc: 0.8952\n",
      "Epoch 54/400\n",
      "1960/1960 [==============================] - 0s 69us/step - loss: 0.1001 - acc: 0.9903 - val_loss: 0.4039 - val_acc: 0.8940\n",
      "Epoch 55/400\n",
      "1960/1960 [==============================] - 0s 71us/step - loss: 0.0945 - acc: 0.9878 - val_loss: 0.3972 - val_acc: 0.8952\n",
      "Epoch 56/400\n",
      "1960/1960 [==============================] - 0s 70us/step - loss: 0.0880 - acc: 0.9918 - val_loss: 0.3918 - val_acc: 0.8988\n",
      "Epoch 57/400\n",
      "1960/1960 [==============================] - 0s 66us/step - loss: 0.0835 - acc: 0.9934 - val_loss: 0.3885 - val_acc: 0.8952\n",
      "Epoch 58/400\n",
      "1960/1960 [==============================] - 0s 62us/step - loss: 0.0878 - acc: 0.9913 - val_loss: 0.3757 - val_acc: 0.9000\n",
      "Epoch 59/400\n",
      "1960/1960 [==============================] - 0s 65us/step - loss: 0.0771 - acc: 0.9949 - val_loss: 0.3634 - val_acc: 0.9036\n",
      "Epoch 60/400\n",
      "1960/1960 [==============================] - 0s 69us/step - loss: 0.0715 - acc: 0.9954 - val_loss: 0.3467 - val_acc: 0.9083\n"
     ]
    },
    {
     "name": "stdout",
     "output_type": "stream",
     "text": [
      "Epoch 61/400\n",
      "1960/1960 [==============================] - 0s 70us/step - loss: 0.0785 - acc: 0.9939 - val_loss: 0.3353 - val_acc: 0.9083\n",
      "Epoch 62/400\n",
      "1960/1960 [==============================] - 0s 71us/step - loss: 0.0702 - acc: 0.9964 - val_loss: 0.3286 - val_acc: 0.9107\n",
      "Epoch 63/400\n",
      "1960/1960 [==============================] - 0s 71us/step - loss: 0.0704 - acc: 0.9959 - val_loss: 0.3251 - val_acc: 0.9143\n",
      "Epoch 64/400\n",
      "1960/1960 [==============================] - 0s 69us/step - loss: 0.0697 - acc: 0.9934 - val_loss: 0.3326 - val_acc: 0.9131\n",
      "Epoch 65/400\n",
      "1960/1960 [==============================] - 0s 68us/step - loss: 0.0655 - acc: 0.9934 - val_loss: 0.3483 - val_acc: 0.9107\n",
      "Epoch 66/400\n",
      "1960/1960 [==============================] - 0s 69us/step - loss: 0.0639 - acc: 0.9954 - val_loss: 0.3566 - val_acc: 0.9095\n",
      "Epoch 67/400\n",
      "1960/1960 [==============================] - 0s 64us/step - loss: 0.0618 - acc: 0.9964 - val_loss: 0.3576 - val_acc: 0.9095\n",
      "Epoch 68/400\n",
      "1960/1960 [==============================] - 0s 65us/step - loss: 0.0595 - acc: 0.9959 - val_loss: 0.3538 - val_acc: 0.9107\n",
      "Epoch 69/400\n",
      "1960/1960 [==============================] - 0s 70us/step - loss: 0.0539 - acc: 0.9969 - val_loss: 0.3435 - val_acc: 0.9143\n",
      "Epoch 70/400\n",
      "1960/1960 [==============================] - 0s 68us/step - loss: 0.0534 - acc: 0.9964 - val_loss: 0.3367 - val_acc: 0.9155\n",
      "Epoch 71/400\n",
      "1960/1960 [==============================] - 0s 63us/step - loss: 0.0554 - acc: 0.9959 - val_loss: 0.3302 - val_acc: 0.9155\n",
      "Epoch 72/400\n",
      "1960/1960 [==============================] - 0s 65us/step - loss: 0.0564 - acc: 0.9954 - val_loss: 0.3231 - val_acc: 0.9155\n",
      "Epoch 73/400\n",
      "1960/1960 [==============================] - 0s 72us/step - loss: 0.0493 - acc: 0.9974 - val_loss: 0.3202 - val_acc: 0.9190\n",
      "Epoch 74/400\n",
      "1960/1960 [==============================] - 0s 70us/step - loss: 0.0468 - acc: 0.9969 - val_loss: 0.3278 - val_acc: 0.9155\n",
      "Epoch 75/400\n",
      "1960/1960 [==============================] - 0s 69us/step - loss: 0.0489 - acc: 0.9974 - val_loss: 0.3298 - val_acc: 0.9143\n",
      "Epoch 76/400\n",
      "1960/1960 [==============================] - 0s 69us/step - loss: 0.0464 - acc: 0.9974 - val_loss: 0.3308 - val_acc: 0.9167\n",
      "Epoch 77/400\n",
      "1960/1960 [==============================] - 0s 70us/step - loss: 0.0477 - acc: 0.9969 - val_loss: 0.3347 - val_acc: 0.9179\n",
      "Epoch 78/400\n",
      "1960/1960 [==============================] - 0s 69us/step - loss: 0.0492 - acc: 0.9985 - val_loss: 0.3402 - val_acc: 0.9143\n",
      "Epoch 79/400\n",
      "1960/1960 [==============================] - 0s 66us/step - loss: 0.0414 - acc: 0.9980 - val_loss: 0.3479 - val_acc: 0.9095\n",
      "Epoch 80/400\n",
      "1960/1960 [==============================] - 0s 61us/step - loss: 0.0462 - acc: 0.9959 - val_loss: 0.3550 - val_acc: 0.9071\n",
      "Epoch 81/400\n",
      "1960/1960 [==============================] - 0s 63us/step - loss: 0.0441 - acc: 0.9969 - val_loss: 0.3603 - val_acc: 0.9095\n",
      "Epoch 82/400\n",
      "1960/1960 [==============================] - 0s 72us/step - loss: 0.0455 - acc: 0.9980 - val_loss: 0.3603 - val_acc: 0.9119\n",
      "Epoch 83/400\n",
      "1960/1960 [==============================] - 0s 71us/step - loss: 0.0416 - acc: 0.9974 - val_loss: 0.3587 - val_acc: 0.9119\n",
      "Epoch 84/400\n",
      "1960/1960 [==============================] - 0s 70us/step - loss: 0.0410 - acc: 0.9980 - val_loss: 0.3511 - val_acc: 0.9167\n",
      "Epoch 85/400\n",
      "1960/1960 [==============================] - 0s 63us/step - loss: 0.0384 - acc: 0.9980 - val_loss: 0.3431 - val_acc: 0.9143\n",
      "Epoch 86/400\n",
      "1960/1960 [==============================] - 0s 66us/step - loss: 0.0422 - acc: 0.9980 - val_loss: 0.3373 - val_acc: 0.9155\n",
      "Epoch 87/400\n",
      "1960/1960 [==============================] - 0s 69us/step - loss: 0.0422 - acc: 0.9990 - val_loss: 0.3459 - val_acc: 0.9095\n",
      "Epoch 88/400\n",
      "1960/1960 [==============================] - 0s 69us/step - loss: 0.0362 - acc: 0.9990 - val_loss: 0.3638 - val_acc: 0.9095\n",
      "Epoch 89/400\n",
      "1960/1960 [==============================] - 0s 70us/step - loss: 0.0359 - acc: 0.9969 - val_loss: 0.3553 - val_acc: 0.9083\n",
      "Epoch 90/400\n",
      "1960/1960 [==============================] - 0s 65us/step - loss: 0.0368 - acc: 0.9980 - val_loss: 0.3505 - val_acc: 0.9131\n",
      "Epoch 91/400\n",
      "1960/1960 [==============================] - 0s 70us/step - loss: 0.0353 - acc: 1.0000 - val_loss: 0.3543 - val_acc: 0.9131\n",
      "Epoch 92/400\n",
      "1960/1960 [==============================] - 0s 66us/step - loss: 0.0358 - acc: 0.9974 - val_loss: 0.3619 - val_acc: 0.9095\n",
      "Epoch 93/400\n",
      "1960/1960 [==============================] - 0s 61us/step - loss: 0.0322 - acc: 0.9985 - val_loss: 0.3644 - val_acc: 0.9095\n",
      "Epoch 94/400\n",
      "1960/1960 [==============================] - 0s 59us/step - loss: 0.0313 - acc: 0.9990 - val_loss: 0.3628 - val_acc: 0.9083\n",
      "Epoch 95/400\n",
      "1960/1960 [==============================] - 0s 60us/step - loss: 0.0344 - acc: 0.9995 - val_loss: 0.3466 - val_acc: 0.9131\n",
      "Epoch 96/400\n",
      "1960/1960 [==============================] - 0s 62us/step - loss: 0.0310 - acc: 0.9990 - val_loss: 0.3276 - val_acc: 0.9155\n",
      "Epoch 97/400\n",
      "1960/1960 [==============================] - 0s 65us/step - loss: 0.0317 - acc: 0.9995 - val_loss: 0.3210 - val_acc: 0.9167\n",
      "Epoch 98/400\n",
      "1960/1960 [==============================] - 0s 68us/step - loss: 0.0307 - acc: 0.9990 - val_loss: 0.3192 - val_acc: 0.9190\n",
      "Epoch 99/400\n",
      "1960/1960 [==============================] - 0s 70us/step - loss: 0.0318 - acc: 0.9985 - val_loss: 0.3217 - val_acc: 0.9202\n",
      "Epoch 100/400\n",
      "1960/1960 [==============================] - 0s 67us/step - loss: 0.0333 - acc: 0.9974 - val_loss: 0.3246 - val_acc: 0.9190\n",
      "Epoch 101/400\n",
      "1960/1960 [==============================] - 0s 67us/step - loss: 0.0325 - acc: 0.9990 - val_loss: 0.3285 - val_acc: 0.9179\n",
      "Epoch 102/400\n",
      "1960/1960 [==============================] - 0s 61us/step - loss: 0.0295 - acc: 0.9995 - val_loss: 0.3362 - val_acc: 0.9155\n",
      "Epoch 103/400\n",
      "1960/1960 [==============================] - 0s 61us/step - loss: 0.0303 - acc: 0.9990 - val_loss: 0.3431 - val_acc: 0.9107\n",
      "Epoch 104/400\n",
      "1960/1960 [==============================] - 0s 66us/step - loss: 0.0325 - acc: 0.9974 - val_loss: 0.3382 - val_acc: 0.9143\n",
      "Epoch 105/400\n",
      "1960/1960 [==============================] - 0s 70us/step - loss: 0.0272 - acc: 0.9990 - val_loss: 0.3417 - val_acc: 0.9131\n",
      "Epoch 106/400\n",
      "1960/1960 [==============================] - 0s 65us/step - loss: 0.0253 - acc: 0.9995 - val_loss: 0.3450 - val_acc: 0.9155\n",
      "Epoch 107/400\n",
      "1960/1960 [==============================] - 0s 70us/step - loss: 0.0266 - acc: 0.9995 - val_loss: 0.3308 - val_acc: 0.9202\n",
      "Epoch 108/400\n",
      "1960/1960 [==============================] - 0s 64us/step - loss: 0.0255 - acc: 0.9995 - val_loss: 0.3287 - val_acc: 0.9238\n",
      "Epoch 109/400\n",
      "1960/1960 [==============================] - 0s 65us/step - loss: 0.0249 - acc: 0.9995 - val_loss: 0.3305 - val_acc: 0.9226\n",
      "Epoch 110/400\n",
      "1960/1960 [==============================] - 0s 69us/step - loss: 0.0234 - acc: 1.0000 - val_loss: 0.3362 - val_acc: 0.9226\n",
      "Epoch 111/400\n",
      "1960/1960 [==============================] - 0s 65us/step - loss: 0.0269 - acc: 0.9985 - val_loss: 0.3245 - val_acc: 0.9226\n",
      "Epoch 112/400\n",
      "1960/1960 [==============================] - 0s 70us/step - loss: 0.0263 - acc: 0.9990 - val_loss: 0.3210 - val_acc: 0.9214\n",
      "Epoch 113/400\n",
      "1960/1960 [==============================] - 0s 70us/step - loss: 0.0236 - acc: 1.0000 - val_loss: 0.3239 - val_acc: 0.9214\n",
      "Epoch 114/400\n",
      "1960/1960 [==============================] - 0s 68us/step - loss: 0.0207 - acc: 1.0000 - val_loss: 0.3267 - val_acc: 0.9202\n",
      "Epoch 115/400\n",
      "1960/1960 [==============================] - 0s 65us/step - loss: 0.0236 - acc: 1.0000 - val_loss: 0.3262 - val_acc: 0.9226\n",
      "Epoch 116/400\n",
      "1960/1960 [==============================] - 0s 71us/step - loss: 0.0245 - acc: 1.0000 - val_loss: 0.3278 - val_acc: 0.9167\n",
      "Epoch 117/400\n",
      "1960/1960 [==============================] - 0s 70us/step - loss: 0.0196 - acc: 0.9995 - val_loss: 0.3336 - val_acc: 0.9119\n",
      "Epoch 118/400\n",
      "1960/1960 [==============================] - 0s 68us/step - loss: 0.0217 - acc: 1.0000 - val_loss: 0.3415 - val_acc: 0.9155\n",
      "Epoch 119/400\n",
      "1960/1960 [==============================] - 0s 71us/step - loss: 0.0244 - acc: 0.9995 - val_loss: 0.3447 - val_acc: 0.9179\n",
      "Epoch 120/400\n",
      "1960/1960 [==============================] - 0s 71us/step - loss: 0.0209 - acc: 0.9995 - val_loss: 0.3479 - val_acc: 0.9190\n"
     ]
    },
    {
     "name": "stdout",
     "output_type": "stream",
     "text": [
      "Epoch 121/400\n",
      "1960/1960 [==============================] - 0s 70us/step - loss: 0.0204 - acc: 1.0000 - val_loss: 0.3416 - val_acc: 0.9179\n",
      "Epoch 122/400\n",
      "1960/1960 [==============================] - 0s 71us/step - loss: 0.0248 - acc: 0.9995 - val_loss: 0.3424 - val_acc: 0.9250\n",
      "Epoch 123/400\n",
      "1960/1960 [==============================] - 0s 62us/step - loss: 0.0216 - acc: 0.9995 - val_loss: 0.3434 - val_acc: 0.9262\n",
      "Epoch 124/400\n",
      "1960/1960 [==============================] - 0s 61us/step - loss: 0.0217 - acc: 0.9995 - val_loss: 0.3434 - val_acc: 0.9274\n",
      "Epoch 125/400\n",
      "1960/1960 [==============================] - 0s 64us/step - loss: 0.0222 - acc: 0.9995 - val_loss: 0.3424 - val_acc: 0.9262\n",
      "Epoch 126/400\n",
      "1960/1960 [==============================] - 0s 69us/step - loss: 0.0216 - acc: 0.9995 - val_loss: 0.3434 - val_acc: 0.9238\n",
      "Epoch 127/400\n",
      "1960/1960 [==============================] - 0s 72us/step - loss: 0.0187 - acc: 1.0000 - val_loss: 0.3453 - val_acc: 0.9214\n",
      "Epoch 128/400\n",
      "1960/1960 [==============================] - 0s 71us/step - loss: 0.0196 - acc: 0.9995 - val_loss: 0.3480 - val_acc: 0.9214\n",
      "Epoch 129/400\n",
      "1960/1960 [==============================] - 0s 67us/step - loss: 0.0189 - acc: 1.0000 - val_loss: 0.3509 - val_acc: 0.9238\n",
      "Epoch 130/400\n",
      "1960/1960 [==============================] - 0s 70us/step - loss: 0.0195 - acc: 1.0000 - val_loss: 0.3516 - val_acc: 0.9214\n",
      "Epoch 131/400\n",
      "1960/1960 [==============================] - 0s 64us/step - loss: 0.0198 - acc: 1.0000 - val_loss: 0.3512 - val_acc: 0.9190\n",
      "Epoch 132/400\n",
      "1960/1960 [==============================] - 0s 59us/step - loss: 0.0192 - acc: 1.0000 - val_loss: 0.3496 - val_acc: 0.9190\n",
      "Epoch 133/400\n",
      "1960/1960 [==============================] - 0s 60us/step - loss: 0.0191 - acc: 1.0000 - val_loss: 0.3472 - val_acc: 0.9214\n",
      "Epoch 134/400\n",
      "1960/1960 [==============================] - 0s 61us/step - loss: 0.0209 - acc: 1.0000 - val_loss: 0.3438 - val_acc: 0.9214\n",
      "Epoch 135/400\n",
      "1960/1960 [==============================] - 0s 60us/step - loss: 0.0208 - acc: 0.9995 - val_loss: 0.3408 - val_acc: 0.9214\n",
      "Epoch 136/400\n",
      "1960/1960 [==============================] - 0s 62us/step - loss: 0.0181 - acc: 1.0000 - val_loss: 0.3363 - val_acc: 0.9214\n",
      "Epoch 137/400\n",
      "1960/1960 [==============================] - 0s 64us/step - loss: 0.0197 - acc: 1.0000 - val_loss: 0.3308 - val_acc: 0.9226\n",
      "Epoch 138/400\n",
      "1960/1960 [==============================] - 0s 69us/step - loss: 0.0181 - acc: 1.0000 - val_loss: 0.3243 - val_acc: 0.9262\n",
      "Epoch 139/400\n",
      "1960/1960 [==============================] - 0s 70us/step - loss: 0.0183 - acc: 0.9995 - val_loss: 0.3190 - val_acc: 0.9274\n",
      "Epoch 140/400\n",
      "1960/1960 [==============================] - 0s 71us/step - loss: 0.0197 - acc: 1.0000 - val_loss: 0.3152 - val_acc: 0.9298\n",
      "Epoch 141/400\n",
      "1960/1960 [==============================] - 0s 71us/step - loss: 0.0195 - acc: 1.0000 - val_loss: 0.3122 - val_acc: 0.9321\n",
      "Epoch 142/400\n",
      "1960/1960 [==============================] - 0s 70us/step - loss: 0.0184 - acc: 1.0000 - val_loss: 0.3106 - val_acc: 0.9357\n",
      "Epoch 143/400\n",
      "1960/1960 [==============================] - 0s 71us/step - loss: 0.0188 - acc: 1.0000 - val_loss: 0.3095 - val_acc: 0.9357\n",
      "Epoch 144/400\n",
      "1960/1960 [==============================] - 0s 70us/step - loss: 0.0185 - acc: 1.0000 - val_loss: 0.3086 - val_acc: 0.9369\n",
      "Epoch 145/400\n",
      "1960/1960 [==============================] - 0s 65us/step - loss: 0.0189 - acc: 1.0000 - val_loss: 0.3079 - val_acc: 0.9345\n",
      "Epoch 146/400\n",
      "1960/1960 [==============================] - 0s 61us/step - loss: 0.0203 - acc: 1.0000 - val_loss: 0.3077 - val_acc: 0.9345\n",
      "Epoch 147/400\n",
      "1960/1960 [==============================] - 0s 71us/step - loss: 0.0182 - acc: 1.0000 - val_loss: 0.3075 - val_acc: 0.9345\n",
      "Epoch 148/400\n",
      "1960/1960 [==============================] - 0s 70us/step - loss: 0.0191 - acc: 1.0000 - val_loss: 0.3071 - val_acc: 0.9345\n",
      "Epoch 149/400\n",
      "1960/1960 [==============================] - 0s 70us/step - loss: 0.0192 - acc: 1.0000 - val_loss: 0.3073 - val_acc: 0.9345\n",
      "Epoch 150/400\n",
      "1960/1960 [==============================] - 0s 69us/step - loss: 0.0204 - acc: 0.9995 - val_loss: 0.3077 - val_acc: 0.9357\n",
      "Epoch 151/400\n",
      "1960/1960 [==============================] - 0s 65us/step - loss: 0.0185 - acc: 1.0000 - val_loss: 0.3075 - val_acc: 0.9345\n",
      "Epoch 152/400\n",
      "1960/1960 [==============================] - 0s 69us/step - loss: 0.0183 - acc: 1.0000 - val_loss: 0.3072 - val_acc: 0.9345\n",
      "Epoch 153/400\n",
      "1960/1960 [==============================] - 0s 66us/step - loss: 0.0190 - acc: 1.0000 - val_loss: 0.3070 - val_acc: 0.9345\n",
      "Epoch 154/400\n",
      "1960/1960 [==============================] - 0s 71us/step - loss: 0.0211 - acc: 0.9995 - val_loss: 0.3070 - val_acc: 0.9345\n",
      "Epoch 155/400\n",
      "1960/1960 [==============================] - 0s 71us/step - loss: 0.0178 - acc: 1.0000 - val_loss: 0.3072 - val_acc: 0.9345\n",
      "Epoch 156/400\n",
      "1960/1960 [==============================] - 0s 69us/step - loss: 0.0166 - acc: 1.0000 - val_loss: 0.3072 - val_acc: 0.9345\n",
      "Epoch 157/400\n",
      "1960/1960 [==============================] - 0s 69us/step - loss: 0.0189 - acc: 1.0000 - val_loss: 0.3074 - val_acc: 0.9345\n",
      "Epoch 158/400\n",
      "1960/1960 [==============================] - 0s 63us/step - loss: 0.0182 - acc: 1.0000 - val_loss: 0.3075 - val_acc: 0.9345\n",
      "Epoch 159/400\n",
      "1960/1960 [==============================] - 0s 64us/step - loss: 0.0205 - acc: 0.9985 - val_loss: 0.3076 - val_acc: 0.9345\n",
      "Epoch 160/400\n",
      "1960/1960 [==============================] - 0s 70us/step - loss: 0.0177 - acc: 1.0000 - val_loss: 0.3077 - val_acc: 0.9345\n",
      "Epoch 161/400\n",
      "1960/1960 [==============================] - 0s 71us/step - loss: 0.0194 - acc: 0.9995 - val_loss: 0.3077 - val_acc: 0.9333\n",
      "Epoch 162/400\n",
      "1960/1960 [==============================] - 0s 62us/step - loss: 0.0168 - acc: 1.0000 - val_loss: 0.3074 - val_acc: 0.9333\n",
      "Epoch 163/400\n",
      "1960/1960 [==============================] - 0s 61us/step - loss: 0.0190 - acc: 0.9995 - val_loss: 0.3071 - val_acc: 0.9345\n",
      "Epoch 164/400\n",
      "1960/1960 [==============================] - 0s 64us/step - loss: 0.0209 - acc: 0.9990 - val_loss: 0.3069 - val_acc: 0.9345\n",
      "Epoch 165/400\n",
      "1960/1960 [==============================] - 0s 63us/step - loss: 0.0159 - acc: 1.0000 - val_loss: 0.3066 - val_acc: 0.9345\n",
      "Epoch 166/400\n",
      "1960/1960 [==============================] - 0s 69us/step - loss: 0.0196 - acc: 1.0000 - val_loss: 0.3063 - val_acc: 0.9345\n",
      "Epoch 167/400\n",
      "1960/1960 [==============================] - 0s 60us/step - loss: 0.0194 - acc: 1.0000 - val_loss: 0.3060 - val_acc: 0.9345\n",
      "Epoch 168/400\n",
      "1960/1960 [==============================] - 0s 72us/step - loss: 0.0218 - acc: 0.9995 - val_loss: 0.3057 - val_acc: 0.9345\n",
      "Epoch 169/400\n",
      "1960/1960 [==============================] - 0s 67us/step - loss: 0.0190 - acc: 0.9995 - val_loss: 0.3054 - val_acc: 0.9345\n",
      "Epoch 170/400\n",
      "1960/1960 [==============================] - 0s 66us/step - loss: 0.0181 - acc: 1.0000 - val_loss: 0.3050 - val_acc: 0.9345\n",
      "Epoch 171/400\n",
      "1960/1960 [==============================] - 0s 69us/step - loss: 0.0163 - acc: 1.0000 - val_loss: 0.3046 - val_acc: 0.9345\n",
      "Epoch 172/400\n",
      "1960/1960 [==============================] - 0s 70us/step - loss: 0.0179 - acc: 1.0000 - val_loss: 0.3041 - val_acc: 0.9345\n",
      "Epoch 173/400\n",
      "1960/1960 [==============================] - 0s 70us/step - loss: 0.0196 - acc: 0.9995 - val_loss: 0.3036 - val_acc: 0.9345\n",
      "Epoch 174/400\n",
      "1960/1960 [==============================] - 0s 69us/step - loss: 0.0186 - acc: 0.9995 - val_loss: 0.3031 - val_acc: 0.9345\n",
      "Epoch 175/400\n",
      "1960/1960 [==============================] - 0s 70us/step - loss: 0.0192 - acc: 0.9980 - val_loss: 0.3026 - val_acc: 0.9345\n",
      "Epoch 176/400\n",
      "1960/1960 [==============================] - 0s 69us/step - loss: 0.0194 - acc: 0.9995 - val_loss: 0.3020 - val_acc: 0.9345\n",
      "Epoch 177/400\n",
      "1960/1960 [==============================] - 0s 68us/step - loss: 0.0194 - acc: 0.9995 - val_loss: 0.3015 - val_acc: 0.9345\n",
      "Epoch 178/400\n",
      "1960/1960 [==============================] - 0s 67us/step - loss: 0.0180 - acc: 0.9995 - val_loss: 0.3011 - val_acc: 0.9345\n",
      "Epoch 179/400\n",
      "1960/1960 [==============================] - 0s 70us/step - loss: 0.0179 - acc: 1.0000 - val_loss: 0.3007 - val_acc: 0.9345\n",
      "Epoch 180/400\n",
      "1960/1960 [==============================] - 0s 62us/step - loss: 0.0173 - acc: 1.0000 - val_loss: 0.3003 - val_acc: 0.9345\n"
     ]
    },
    {
     "name": "stdout",
     "output_type": "stream",
     "text": [
      "Epoch 181/400\n",
      "1960/1960 [==============================] - 0s 70us/step - loss: 0.0183 - acc: 1.0000 - val_loss: 0.3000 - val_acc: 0.9345\n",
      "Epoch 182/400\n",
      "1960/1960 [==============================] - 0s 67us/step - loss: 0.0182 - acc: 1.0000 - val_loss: 0.2996 - val_acc: 0.9357\n",
      "Epoch 183/400\n",
      "1960/1960 [==============================] - 0s 67us/step - loss: 0.0181 - acc: 1.0000 - val_loss: 0.2992 - val_acc: 0.9357\n",
      "Epoch 184/400\n",
      "1960/1960 [==============================] - 0s 65us/step - loss: 0.0175 - acc: 1.0000 - val_loss: 0.2989 - val_acc: 0.9369\n",
      "Epoch 185/400\n",
      "1960/1960 [==============================] - 0s 66us/step - loss: 0.0180 - acc: 0.9995 - val_loss: 0.2986 - val_acc: 0.9369\n",
      "Epoch 186/400\n",
      "1960/1960 [==============================] - 0s 64us/step - loss: 0.0181 - acc: 1.0000 - val_loss: 0.2983 - val_acc: 0.9369\n",
      "Epoch 187/400\n",
      "1960/1960 [==============================] - 0s 65us/step - loss: 0.0160 - acc: 1.0000 - val_loss: 0.2980 - val_acc: 0.9369\n",
      "Epoch 188/400\n",
      "1960/1960 [==============================] - 0s 70us/step - loss: 0.0189 - acc: 1.0000 - val_loss: 0.2977 - val_acc: 0.9369\n",
      "Epoch 189/400\n",
      "1960/1960 [==============================] - 0s 70us/step - loss: 0.0184 - acc: 1.0000 - val_loss: 0.2974 - val_acc: 0.9369\n",
      "Epoch 190/400\n",
      "1960/1960 [==============================] - 0s 66us/step - loss: 0.0168 - acc: 1.0000 - val_loss: 0.2972 - val_acc: 0.9369\n",
      "Epoch 191/400\n",
      "1960/1960 [==============================] - 0s 70us/step - loss: 0.0174 - acc: 0.9995 - val_loss: 0.2969 - val_acc: 0.9369\n",
      "Epoch 192/400\n",
      "1960/1960 [==============================] - 0s 65us/step - loss: 0.0187 - acc: 0.9995 - val_loss: 0.2966 - val_acc: 0.9369\n",
      "Epoch 193/400\n",
      "1960/1960 [==============================] - 0s 69us/step - loss: 0.0156 - acc: 0.9995 - val_loss: 0.2964 - val_acc: 0.9369\n",
      "Epoch 194/400\n",
      "1960/1960 [==============================] - 0s 72us/step - loss: 0.0190 - acc: 0.9995 - val_loss: 0.2961 - val_acc: 0.9369\n",
      "Epoch 195/400\n",
      "1960/1960 [==============================] - 0s 70us/step - loss: 0.0187 - acc: 1.0000 - val_loss: 0.2959 - val_acc: 0.9369\n",
      "Epoch 196/400\n",
      "1960/1960 [==============================] - 0s 72us/step - loss: 0.0178 - acc: 0.9995 - val_loss: 0.2956 - val_acc: 0.9369\n",
      "Epoch 197/400\n",
      "1960/1960 [==============================] - 0s 70us/step - loss: 0.0191 - acc: 1.0000 - val_loss: 0.2954 - val_acc: 0.9369\n",
      "Epoch 198/400\n",
      "1960/1960 [==============================] - 0s 71us/step - loss: 0.0190 - acc: 0.9995 - val_loss: 0.2952 - val_acc: 0.9369\n",
      "Epoch 199/400\n",
      "1960/1960 [==============================] - 0s 70us/step - loss: 0.0204 - acc: 0.9985 - val_loss: 0.2950 - val_acc: 0.9369\n",
      "Epoch 200/400\n",
      "1960/1960 [==============================] - 0s 67us/step - loss: 0.0175 - acc: 0.9995 - val_loss: 0.2948 - val_acc: 0.9369\n",
      "Epoch 201/400\n",
      "1960/1960 [==============================] - 0s 64us/step - loss: 0.0198 - acc: 1.0000 - val_loss: 0.2946 - val_acc: 0.9369\n",
      "Epoch 202/400\n",
      "1960/1960 [==============================] - 0s 70us/step - loss: 0.0182 - acc: 1.0000 - val_loss: 0.2944 - val_acc: 0.9369\n",
      "Epoch 203/400\n",
      "1960/1960 [==============================] - 0s 66us/step - loss: 0.0165 - acc: 1.0000 - val_loss: 0.2942 - val_acc: 0.9381\n",
      "Epoch 204/400\n",
      "1960/1960 [==============================] - 0s 67us/step - loss: 0.0206 - acc: 0.9990 - val_loss: 0.2940 - val_acc: 0.9381\n",
      "Epoch 205/400\n",
      "1960/1960 [==============================] - 0s 69us/step - loss: 0.0197 - acc: 0.9995 - val_loss: 0.2938 - val_acc: 0.9381\n",
      "Epoch 206/400\n",
      "1960/1960 [==============================] - 0s 66us/step - loss: 0.0195 - acc: 0.9990 - val_loss: 0.2936 - val_acc: 0.9393\n",
      "Epoch 207/400\n",
      "1960/1960 [==============================] - 0s 69us/step - loss: 0.0174 - acc: 1.0000 - val_loss: 0.2934 - val_acc: 0.9405\n",
      "Epoch 208/400\n",
      "1960/1960 [==============================] - 0s 64us/step - loss: 0.0182 - acc: 0.9995 - val_loss: 0.2933 - val_acc: 0.9405\n",
      "Epoch 209/400\n",
      "1960/1960 [==============================] - 0s 71us/step - loss: 0.0201 - acc: 0.9990 - val_loss: 0.2931 - val_acc: 0.9393\n",
      "Epoch 210/400\n",
      "1960/1960 [==============================] - 0s 70us/step - loss: 0.0177 - acc: 1.0000 - val_loss: 0.2929 - val_acc: 0.9393\n",
      "Epoch 211/400\n",
      "1960/1960 [==============================] - 0s 70us/step - loss: 0.0200 - acc: 0.9995 - val_loss: 0.2927 - val_acc: 0.9393\n",
      "Epoch 212/400\n",
      "1960/1960 [==============================] - 0s 70us/step - loss: 0.0202 - acc: 0.9995 - val_loss: 0.2925 - val_acc: 0.9393\n",
      "Epoch 213/400\n",
      "1960/1960 [==============================] - 0s 66us/step - loss: 0.0175 - acc: 1.0000 - val_loss: 0.2923 - val_acc: 0.9393\n",
      "Epoch 214/400\n",
      "1960/1960 [==============================] - 0s 71us/step - loss: 0.0174 - acc: 1.0000 - val_loss: 0.2922 - val_acc: 0.9393\n",
      "Epoch 215/400\n",
      "1960/1960 [==============================] - 0s 68us/step - loss: 0.0162 - acc: 1.0000 - val_loss: 0.2920 - val_acc: 0.9393\n",
      "Epoch 216/400\n",
      "1960/1960 [==============================] - 0s 65us/step - loss: 0.0185 - acc: 0.9995 - val_loss: 0.2918 - val_acc: 0.9393\n",
      "Epoch 217/400\n",
      "1960/1960 [==============================] - 0s 71us/step - loss: 0.0193 - acc: 0.9995 - val_loss: 0.2917 - val_acc: 0.9393\n",
      "Epoch 218/400\n",
      "1960/1960 [==============================] - 0s 72us/step - loss: 0.0178 - acc: 1.0000 - val_loss: 0.2915 - val_acc: 0.9393\n",
      "Epoch 219/400\n",
      "1960/1960 [==============================] - 0s 70us/step - loss: 0.0163 - acc: 1.0000 - val_loss: 0.2913 - val_acc: 0.9393\n",
      "Epoch 220/400\n",
      "1960/1960 [==============================] - 0s 71us/step - loss: 0.0164 - acc: 0.9990 - val_loss: 0.2911 - val_acc: 0.9393\n",
      "Epoch 221/400\n",
      "1960/1960 [==============================] - 0s 72us/step - loss: 0.0188 - acc: 0.9995 - val_loss: 0.2910 - val_acc: 0.9393\n",
      "Epoch 222/400\n",
      "1960/1960 [==============================] - 0s 71us/step - loss: 0.0176 - acc: 1.0000 - val_loss: 0.2908 - val_acc: 0.9393\n",
      "Epoch 223/400\n",
      "1960/1960 [==============================] - 0s 72us/step - loss: 0.0176 - acc: 1.0000 - val_loss: 0.2906 - val_acc: 0.9393\n",
      "Epoch 224/400\n",
      "1960/1960 [==============================] - 0s 71us/step - loss: 0.0183 - acc: 1.0000 - val_loss: 0.2905 - val_acc: 0.9393\n",
      "Epoch 225/400\n",
      "1960/1960 [==============================] - 0s 69us/step - loss: 0.0187 - acc: 0.9995 - val_loss: 0.2903 - val_acc: 0.9393\n",
      "Epoch 226/400\n",
      "1960/1960 [==============================] - 0s 67us/step - loss: 0.0178 - acc: 1.0000 - val_loss: 0.2902 - val_acc: 0.9393\n",
      "Epoch 227/400\n",
      "1960/1960 [==============================] - 0s 70us/step - loss: 0.0176 - acc: 1.0000 - val_loss: 0.2900 - val_acc: 0.9393\n",
      "Epoch 228/400\n",
      "1960/1960 [==============================] - 0s 66us/step - loss: 0.0173 - acc: 1.0000 - val_loss: 0.2899 - val_acc: 0.9393\n",
      "Epoch 229/400\n",
      "1960/1960 [==============================] - 0s 71us/step - loss: 0.0173 - acc: 0.9995 - val_loss: 0.2898 - val_acc: 0.9393\n",
      "Epoch 230/400\n",
      "1960/1960 [==============================] - 0s 70us/step - loss: 0.0179 - acc: 1.0000 - val_loss: 0.2897 - val_acc: 0.9405\n",
      "Epoch 231/400\n",
      "1960/1960 [==============================] - 0s 68us/step - loss: 0.0220 - acc: 0.9985 - val_loss: 0.2895 - val_acc: 0.9405\n",
      "Epoch 232/400\n",
      "1960/1960 [==============================] - 0s 67us/step - loss: 0.0202 - acc: 0.9990 - val_loss: 0.2893 - val_acc: 0.9405\n",
      "Epoch 233/400\n",
      "1960/1960 [==============================] - 0s 69us/step - loss: 0.0168 - acc: 0.9995 - val_loss: 0.2892 - val_acc: 0.9405\n",
      "Epoch 234/400\n",
      "1960/1960 [==============================] - 0s 70us/step - loss: 0.0190 - acc: 1.0000 - val_loss: 0.2890 - val_acc: 0.9405\n",
      "Epoch 235/400\n",
      "1960/1960 [==============================] - 0s 71us/step - loss: 0.0183 - acc: 1.0000 - val_loss: 0.2889 - val_acc: 0.9405\n",
      "Epoch 236/400\n",
      "1960/1960 [==============================] - 0s 68us/step - loss: 0.0194 - acc: 0.9995 - val_loss: 0.2888 - val_acc: 0.9405\n",
      "Epoch 237/400\n",
      "1960/1960 [==============================] - 0s 71us/step - loss: 0.0191 - acc: 0.9995 - val_loss: 0.2886 - val_acc: 0.9405\n",
      "Epoch 238/400\n",
      "1960/1960 [==============================] - 0s 67us/step - loss: 0.0178 - acc: 1.0000 - val_loss: 0.2885 - val_acc: 0.9405\n",
      "Epoch 239/400\n",
      "1960/1960 [==============================] - 0s 72us/step - loss: 0.0194 - acc: 0.9990 - val_loss: 0.2884 - val_acc: 0.9405\n",
      "Epoch 240/400\n",
      "1960/1960 [==============================] - 0s 71us/step - loss: 0.0183 - acc: 1.0000 - val_loss: 0.2882 - val_acc: 0.9405\n"
     ]
    },
    {
     "name": "stdout",
     "output_type": "stream",
     "text": [
      "Epoch 241/400\n",
      "1960/1960 [==============================] - 0s 69us/step - loss: 0.0197 - acc: 0.9990 - val_loss: 0.2881 - val_acc: 0.9393\n",
      "Epoch 242/400\n",
      "1960/1960 [==============================] - 0s 63us/step - loss: 0.0188 - acc: 0.9995 - val_loss: 0.2880 - val_acc: 0.9393\n",
      "Epoch 243/400\n",
      "1960/1960 [==============================] - 0s 71us/step - loss: 0.0180 - acc: 1.0000 - val_loss: 0.2879 - val_acc: 0.9393\n",
      "Epoch 244/400\n",
      "1960/1960 [==============================] - 0s 67us/step - loss: 0.0176 - acc: 1.0000 - val_loss: 0.2877 - val_acc: 0.9393\n",
      "Epoch 245/400\n",
      "1960/1960 [==============================] - 0s 69us/step - loss: 0.0197 - acc: 1.0000 - val_loss: 0.2876 - val_acc: 0.9393\n",
      "Epoch 246/400\n",
      "1960/1960 [==============================] - 0s 72us/step - loss: 0.0196 - acc: 0.9985 - val_loss: 0.2875 - val_acc: 0.9393\n",
      "Epoch 247/400\n",
      "1960/1960 [==============================] - 0s 68us/step - loss: 0.0171 - acc: 1.0000 - val_loss: 0.2874 - val_acc: 0.9393\n",
      "Epoch 248/400\n",
      "1960/1960 [==============================] - 0s 71us/step - loss: 0.0173 - acc: 1.0000 - val_loss: 0.2872 - val_acc: 0.9393\n",
      "Epoch 249/400\n",
      "1960/1960 [==============================] - 0s 69us/step - loss: 0.0168 - acc: 1.0000 - val_loss: 0.2871 - val_acc: 0.9393\n",
      "Epoch 250/400\n",
      "1960/1960 [==============================] - 0s 68us/step - loss: 0.0184 - acc: 0.9995 - val_loss: 0.2870 - val_acc: 0.9393\n",
      "Epoch 251/400\n",
      "1960/1960 [==============================] - 0s 62us/step - loss: 0.0171 - acc: 1.0000 - val_loss: 0.2869 - val_acc: 0.9393\n",
      "Epoch 252/400\n",
      "1960/1960 [==============================] - 0s 63us/step - loss: 0.0212 - acc: 0.9990 - val_loss: 0.2868 - val_acc: 0.9393\n",
      "Epoch 253/400\n",
      "1960/1960 [==============================] - 0s 60us/step - loss: 0.0182 - acc: 0.9995 - val_loss: 0.2867 - val_acc: 0.9393\n",
      "Epoch 254/400\n",
      "1960/1960 [==============================] - 0s 71us/step - loss: 0.0190 - acc: 1.0000 - val_loss: 0.2866 - val_acc: 0.9393\n",
      "Epoch 255/400\n",
      "1960/1960 [==============================] - 0s 73us/step - loss: 0.0189 - acc: 1.0000 - val_loss: 0.2865 - val_acc: 0.9393\n",
      "Epoch 256/400\n",
      "1960/1960 [==============================] - 0s 66us/step - loss: 0.0189 - acc: 0.9995 - val_loss: 0.2864 - val_acc: 0.9405\n",
      "Epoch 257/400\n",
      "1960/1960 [==============================] - 0s 61us/step - loss: 0.0174 - acc: 1.0000 - val_loss: 0.2863 - val_acc: 0.9405\n",
      "Epoch 258/400\n",
      "1960/1960 [==============================] - 0s 68us/step - loss: 0.0182 - acc: 1.0000 - val_loss: 0.2863 - val_acc: 0.9405\n",
      "Epoch 259/400\n",
      "1960/1960 [==============================] - 0s 72us/step - loss: 0.0199 - acc: 0.9995 - val_loss: 0.2861 - val_acc: 0.9405\n",
      "Epoch 260/400\n",
      "1960/1960 [==============================] - 0s 66us/step - loss: 0.0190 - acc: 1.0000 - val_loss: 0.2861 - val_acc: 0.9405\n",
      "Epoch 261/400\n",
      "1960/1960 [==============================] - 0s 64us/step - loss: 0.0177 - acc: 1.0000 - val_loss: 0.2860 - val_acc: 0.9405\n",
      "Epoch 262/400\n",
      "1960/1960 [==============================] - 0s 72us/step - loss: 0.0184 - acc: 0.9995 - val_loss: 0.2859 - val_acc: 0.9405\n",
      "Epoch 263/400\n",
      "1960/1960 [==============================] - 0s 70us/step - loss: 0.0214 - acc: 0.9995 - val_loss: 0.2858 - val_acc: 0.9405\n",
      "Epoch 264/400\n",
      "1960/1960 [==============================] - 0s 72us/step - loss: 0.0178 - acc: 0.9995 - val_loss: 0.2858 - val_acc: 0.9405\n",
      "Epoch 265/400\n",
      "1960/1960 [==============================] - 0s 72us/step - loss: 0.0160 - acc: 1.0000 - val_loss: 0.2857 - val_acc: 0.9405\n",
      "Epoch 266/400\n",
      "1960/1960 [==============================] - 0s 74us/step - loss: 0.0172 - acc: 0.9995 - val_loss: 0.2856 - val_acc: 0.9405\n",
      "Epoch 267/400\n",
      "1960/1960 [==============================] - 0s 71us/step - loss: 0.0170 - acc: 1.0000 - val_loss: 0.2855 - val_acc: 0.9405\n",
      "Epoch 268/400\n",
      "1960/1960 [==============================] - 0s 69us/step - loss: 0.0194 - acc: 0.9995 - val_loss: 0.2855 - val_acc: 0.9405\n",
      "Epoch 269/400\n",
      "1960/1960 [==============================] - 0s 64us/step - loss: 0.0212 - acc: 1.0000 - val_loss: 0.2854 - val_acc: 0.9405\n",
      "Epoch 270/400\n",
      "1960/1960 [==============================] - 0s 72us/step - loss: 0.0174 - acc: 1.0000 - val_loss: 0.2853 - val_acc: 0.9405\n",
      "Epoch 271/400\n",
      "1960/1960 [==============================] - 0s 71us/step - loss: 0.0201 - acc: 0.9995 - val_loss: 0.2853 - val_acc: 0.9405\n",
      "Epoch 272/400\n",
      "1960/1960 [==============================] - 0s 75us/step - loss: 0.0172 - acc: 1.0000 - val_loss: 0.2852 - val_acc: 0.9405\n",
      "Epoch 273/400\n",
      "1960/1960 [==============================] - 0s 74us/step - loss: 0.0182 - acc: 0.9995 - val_loss: 0.2851 - val_acc: 0.9405\n",
      "Epoch 274/400\n",
      "1960/1960 [==============================] - 0s 71us/step - loss: 0.0172 - acc: 1.0000 - val_loss: 0.2851 - val_acc: 0.9405\n",
      "Epoch 275/400\n",
      "1960/1960 [==============================] - 0s 68us/step - loss: 0.0190 - acc: 0.9995 - val_loss: 0.2851 - val_acc: 0.9405\n",
      "Epoch 276/400\n",
      "1960/1960 [==============================] - 0s 71us/step - loss: 0.0165 - acc: 1.0000 - val_loss: 0.2850 - val_acc: 0.9405\n",
      "Epoch 277/400\n",
      "1960/1960 [==============================] - 0s 66us/step - loss: 0.0177 - acc: 0.9990 - val_loss: 0.2850 - val_acc: 0.9405\n",
      "Epoch 278/400\n",
      "1960/1960 [==============================] - 0s 70us/step - loss: 0.0182 - acc: 1.0000 - val_loss: 0.2850 - val_acc: 0.9405\n",
      "Epoch 279/400\n",
      "1960/1960 [==============================] - 0s 66us/step - loss: 0.0179 - acc: 1.0000 - val_loss: 0.2850 - val_acc: 0.9405\n",
      "Epoch 280/400\n",
      "1960/1960 [==============================] - 0s 61us/step - loss: 0.0193 - acc: 1.0000 - val_loss: 0.2850 - val_acc: 0.9405\n",
      "Epoch 281/400\n",
      "1960/1960 [==============================] - 0s 71us/step - loss: 0.0173 - acc: 1.0000 - val_loss: 0.2849 - val_acc: 0.9405\n",
      "Epoch 282/400\n",
      "1960/1960 [==============================] - 0s 69us/step - loss: 0.0207 - acc: 1.0000 - val_loss: 0.2849 - val_acc: 0.9405\n",
      "Epoch 283/400\n",
      "1960/1960 [==============================] - 0s 71us/step - loss: 0.0168 - acc: 0.9995 - val_loss: 0.2849 - val_acc: 0.9405\n",
      "Epoch 284/400\n",
      "1960/1960 [==============================] - 0s 68us/step - loss: 0.0197 - acc: 0.9995 - val_loss: 0.2848 - val_acc: 0.9405\n",
      "Epoch 285/400\n",
      "1960/1960 [==============================] - 0s 69us/step - loss: 0.0205 - acc: 1.0000 - val_loss: 0.2848 - val_acc: 0.9405\n",
      "Epoch 286/400\n",
      "1960/1960 [==============================] - 0s 71us/step - loss: 0.0185 - acc: 1.0000 - val_loss: 0.2848 - val_acc: 0.9405\n",
      "Epoch 287/400\n",
      "1960/1960 [==============================] - 0s 67us/step - loss: 0.0162 - acc: 1.0000 - val_loss: 0.2847 - val_acc: 0.9405\n",
      "Epoch 288/400\n",
      "1960/1960 [==============================] - 0s 62us/step - loss: 0.0197 - acc: 0.9995 - val_loss: 0.2847 - val_acc: 0.9405\n",
      "Epoch 289/400\n",
      "1960/1960 [==============================] - 0s 71us/step - loss: 0.0179 - acc: 1.0000 - val_loss: 0.2847 - val_acc: 0.9405\n",
      "Epoch 290/400\n",
      "1960/1960 [==============================] - 0s 68us/step - loss: 0.0178 - acc: 1.0000 - val_loss: 0.2846 - val_acc: 0.9405\n",
      "Epoch 291/400\n",
      "1960/1960 [==============================] - 0s 70us/step - loss: 0.0173 - acc: 1.0000 - val_loss: 0.2846 - val_acc: 0.9405\n",
      "Epoch 292/400\n",
      "1960/1960 [==============================] - 0s 62us/step - loss: 0.0211 - acc: 0.9985 - val_loss: 0.2845 - val_acc: 0.9405\n",
      "Epoch 293/400\n",
      "1960/1960 [==============================] - 0s 65us/step - loss: 0.0157 - acc: 1.0000 - val_loss: 0.2845 - val_acc: 0.9405\n",
      "Epoch 294/400\n",
      "1960/1960 [==============================] - 0s 68us/step - loss: 0.0188 - acc: 1.0000 - val_loss: 0.2845 - val_acc: 0.9405\n",
      "Epoch 295/400\n",
      "1960/1960 [==============================] - 0s 69us/step - loss: 0.0179 - acc: 0.9990 - val_loss: 0.2844 - val_acc: 0.9405\n",
      "Epoch 296/400\n",
      "1960/1960 [==============================] - 0s 66us/step - loss: 0.0197 - acc: 1.0000 - val_loss: 0.2844 - val_acc: 0.9405\n",
      "Epoch 297/400\n",
      "1960/1960 [==============================] - 0s 71us/step - loss: 0.0173 - acc: 1.0000 - val_loss: 0.2844 - val_acc: 0.9405\n",
      "Epoch 298/400\n",
      "1960/1960 [==============================] - 0s 72us/step - loss: 0.0175 - acc: 1.0000 - val_loss: 0.2843 - val_acc: 0.9405\n",
      "Epoch 299/400\n",
      "1960/1960 [==============================] - 0s 70us/step - loss: 0.0177 - acc: 1.0000 - val_loss: 0.2843 - val_acc: 0.9405\n",
      "Epoch 300/400\n",
      "1960/1960 [==============================] - 0s 71us/step - loss: 0.0199 - acc: 0.9995 - val_loss: 0.2843 - val_acc: 0.9405\n"
     ]
    },
    {
     "name": "stdout",
     "output_type": "stream",
     "text": [
      "Epoch 301/400\n",
      "1960/1960 [==============================] - 0s 67us/step - loss: 0.0158 - acc: 1.0000 - val_loss: 0.2842 - val_acc: 0.9405\n",
      "Epoch 302/400\n",
      "1960/1960 [==============================] - 0s 62us/step - loss: 0.0174 - acc: 0.9995 - val_loss: 0.2841 - val_acc: 0.9405\n",
      "Epoch 303/400\n",
      "1960/1960 [==============================] - 0s 66us/step - loss: 0.0188 - acc: 0.9995 - val_loss: 0.2841 - val_acc: 0.9405\n",
      "Epoch 304/400\n",
      "1960/1960 [==============================] - 0s 70us/step - loss: 0.0206 - acc: 0.9995 - val_loss: 0.2840 - val_acc: 0.9405\n",
      "Epoch 305/400\n",
      "1960/1960 [==============================] - 0s 69us/step - loss: 0.0210 - acc: 0.9995 - val_loss: 0.2840 - val_acc: 0.9405\n",
      "Epoch 306/400\n",
      "1960/1960 [==============================] - 0s 65us/step - loss: 0.0166 - acc: 1.0000 - val_loss: 0.2839 - val_acc: 0.9405\n",
      "Epoch 307/400\n",
      "1960/1960 [==============================] - 0s 71us/step - loss: 0.0175 - acc: 1.0000 - val_loss: 0.2839 - val_acc: 0.9405\n",
      "Epoch 308/400\n",
      "1960/1960 [==============================] - 0s 67us/step - loss: 0.0179 - acc: 1.0000 - val_loss: 0.2839 - val_acc: 0.9405\n",
      "Epoch 309/400\n",
      "1960/1960 [==============================] - 0s 63us/step - loss: 0.0176 - acc: 1.0000 - val_loss: 0.2839 - val_acc: 0.9405\n",
      "Epoch 310/400\n",
      "1960/1960 [==============================] - 0s 65us/step - loss: 0.0195 - acc: 1.0000 - val_loss: 0.2839 - val_acc: 0.9405\n",
      "Epoch 311/400\n",
      "1960/1960 [==============================] - 0s 70us/step - loss: 0.0186 - acc: 0.9995 - val_loss: 0.2838 - val_acc: 0.9405\n",
      "Epoch 312/400\n",
      "1960/1960 [==============================] - 0s 69us/step - loss: 0.0185 - acc: 1.0000 - val_loss: 0.2838 - val_acc: 0.9405\n",
      "Epoch 313/400\n",
      "1960/1960 [==============================] - 0s 65us/step - loss: 0.0177 - acc: 1.0000 - val_loss: 0.2837 - val_acc: 0.9405\n",
      "Epoch 314/400\n",
      "1960/1960 [==============================] - 0s 64us/step - loss: 0.0168 - acc: 1.0000 - val_loss: 0.2837 - val_acc: 0.9405\n",
      "Epoch 315/400\n",
      "1960/1960 [==============================] - 0s 72us/step - loss: 0.0181 - acc: 1.0000 - val_loss: 0.2836 - val_acc: 0.9405\n",
      "Epoch 316/400\n",
      "1960/1960 [==============================] - 0s 71us/step - loss: 0.0181 - acc: 0.9995 - val_loss: 0.2836 - val_acc: 0.9405\n",
      "Epoch 317/400\n",
      "1960/1960 [==============================] - 0s 70us/step - loss: 0.0178 - acc: 1.0000 - val_loss: 0.2835 - val_acc: 0.9405\n",
      "Epoch 318/400\n",
      "1960/1960 [==============================] - 0s 71us/step - loss: 0.0186 - acc: 1.0000 - val_loss: 0.2834 - val_acc: 0.9405\n",
      "Epoch 319/400\n",
      "1960/1960 [==============================] - 0s 71us/step - loss: 0.0167 - acc: 1.0000 - val_loss: 0.2833 - val_acc: 0.9405\n",
      "Epoch 320/400\n",
      "1960/1960 [==============================] - 0s 69us/step - loss: 0.0192 - acc: 0.9990 - val_loss: 0.2832 - val_acc: 0.9405\n",
      "Epoch 321/400\n",
      "1960/1960 [==============================] - 0s 64us/step - loss: 0.0185 - acc: 1.0000 - val_loss: 0.2832 - val_acc: 0.9405\n",
      "Epoch 322/400\n",
      "1960/1960 [==============================] - 0s 70us/step - loss: 0.0180 - acc: 0.9995 - val_loss: 0.2831 - val_acc: 0.9405\n",
      "Epoch 323/400\n",
      "1960/1960 [==============================] - 0s 71us/step - loss: 0.0177 - acc: 0.9995 - val_loss: 0.2831 - val_acc: 0.9405\n",
      "Epoch 324/400\n",
      "1960/1960 [==============================] - 0s 70us/step - loss: 0.0188 - acc: 0.9990 - val_loss: 0.2831 - val_acc: 0.9405\n",
      "Epoch 325/400\n",
      "1960/1960 [==============================] - 0s 71us/step - loss: 0.0187 - acc: 0.9990 - val_loss: 0.2830 - val_acc: 0.9405\n",
      "Epoch 326/400\n",
      "1960/1960 [==============================] - 0s 69us/step - loss: 0.0204 - acc: 1.0000 - val_loss: 0.2830 - val_acc: 0.9405\n",
      "Epoch 327/400\n",
      "1960/1960 [==============================] - 0s 65us/step - loss: 0.0197 - acc: 0.9995 - val_loss: 0.2830 - val_acc: 0.9405\n",
      "Epoch 328/400\n",
      "1960/1960 [==============================] - 0s 70us/step - loss: 0.0200 - acc: 0.9990 - val_loss: 0.2830 - val_acc: 0.9405\n",
      "Epoch 329/400\n",
      "1960/1960 [==============================] - 0s 72us/step - loss: 0.0158 - acc: 1.0000 - val_loss: 0.2830 - val_acc: 0.9405\n",
      "Epoch 330/400\n",
      "1960/1960 [==============================] - 0s 70us/step - loss: 0.0177 - acc: 0.9995 - val_loss: 0.2830 - val_acc: 0.9405\n",
      "Epoch 331/400\n",
      "1960/1960 [==============================] - 0s 69us/step - loss: 0.0159 - acc: 1.0000 - val_loss: 0.2830 - val_acc: 0.9405\n",
      "Epoch 332/400\n",
      "1960/1960 [==============================] - 0s 69us/step - loss: 0.0163 - acc: 1.0000 - val_loss: 0.2830 - val_acc: 0.9405\n",
      "Epoch 333/400\n",
      "1960/1960 [==============================] - 0s 68us/step - loss: 0.0172 - acc: 0.9995 - val_loss: 0.2830 - val_acc: 0.9405\n",
      "Epoch 334/400\n",
      "1960/1960 [==============================] - 0s 68us/step - loss: 0.0178 - acc: 0.9995 - val_loss: 0.2830 - val_acc: 0.9405\n",
      "Epoch 335/400\n",
      "1960/1960 [==============================] - 0s 66us/step - loss: 0.0185 - acc: 0.9995 - val_loss: 0.2830 - val_acc: 0.9405\n",
      "Epoch 336/400\n",
      "1960/1960 [==============================] - 0s 63us/step - loss: 0.0177 - acc: 0.9995 - val_loss: 0.2830 - val_acc: 0.9405\n",
      "Epoch 337/400\n",
      "1960/1960 [==============================] - 0s 63us/step - loss: 0.0199 - acc: 1.0000 - val_loss: 0.2830 - val_acc: 0.9405\n",
      "Epoch 338/400\n",
      "1960/1960 [==============================] - 0s 65us/step - loss: 0.0169 - acc: 1.0000 - val_loss: 0.2830 - val_acc: 0.9405\n",
      "Epoch 339/400\n",
      "1960/1960 [==============================] - 0s 71us/step - loss: 0.0189 - acc: 0.9990 - val_loss: 0.2829 - val_acc: 0.9405\n",
      "Epoch 340/400\n",
      "1960/1960 [==============================] - 0s 70us/step - loss: 0.0176 - acc: 1.0000 - val_loss: 0.2829 - val_acc: 0.9405\n",
      "Epoch 341/400\n",
      "1960/1960 [==============================] - 0s 71us/step - loss: 0.0172 - acc: 1.0000 - val_loss: 0.2829 - val_acc: 0.9405\n",
      "Epoch 342/400\n",
      "1960/1960 [==============================] - 0s 71us/step - loss: 0.0184 - acc: 0.9995 - val_loss: 0.2829 - val_acc: 0.9405\n",
      "Epoch 343/400\n",
      "1960/1960 [==============================] - 0s 71us/step - loss: 0.0166 - acc: 1.0000 - val_loss: 0.2829 - val_acc: 0.9405\n",
      "Epoch 344/400\n",
      "1960/1960 [==============================] - 0s 69us/step - loss: 0.0201 - acc: 1.0000 - val_loss: 0.2828 - val_acc: 0.9405\n",
      "Epoch 345/400\n",
      "1960/1960 [==============================] - 0s 70us/step - loss: 0.0196 - acc: 0.9990 - val_loss: 0.2828 - val_acc: 0.9405\n",
      "Epoch 346/400\n",
      "1960/1960 [==============================] - 0s 65us/step - loss: 0.0175 - acc: 1.0000 - val_loss: 0.2828 - val_acc: 0.9405\n",
      "Epoch 347/400\n",
      "1960/1960 [==============================] - 0s 64us/step - loss: 0.0172 - acc: 1.0000 - val_loss: 0.2828 - val_acc: 0.9405\n",
      "Epoch 348/400\n",
      "1960/1960 [==============================] - 0s 65us/step - loss: 0.0169 - acc: 1.0000 - val_loss: 0.2828 - val_acc: 0.9405\n",
      "Epoch 349/400\n",
      "1960/1960 [==============================] - 0s 69us/step - loss: 0.0188 - acc: 1.0000 - val_loss: 0.2828 - val_acc: 0.9405\n",
      "Epoch 350/400\n",
      "1960/1960 [==============================] - 0s 59us/step - loss: 0.0187 - acc: 1.0000 - val_loss: 0.2828 - val_acc: 0.9405\n",
      "Epoch 351/400\n",
      "1960/1960 [==============================] - 0s 61us/step - loss: 0.0182 - acc: 0.9995 - val_loss: 0.2828 - val_acc: 0.9405\n",
      "Epoch 352/400\n",
      "1960/1960 [==============================] - 0s 65us/step - loss: 0.0193 - acc: 1.0000 - val_loss: 0.2827 - val_acc: 0.9405\n",
      "Epoch 353/400\n",
      "1960/1960 [==============================] - 0s 59us/step - loss: 0.0179 - acc: 1.0000 - val_loss: 0.2827 - val_acc: 0.9405\n",
      "Epoch 354/400\n",
      "1960/1960 [==============================] - 0s 71us/step - loss: 0.0213 - acc: 1.0000 - val_loss: 0.2827 - val_acc: 0.9405\n",
      "Epoch 355/400\n",
      "1960/1960 [==============================] - 0s 70us/step - loss: 0.0199 - acc: 0.9995 - val_loss: 0.2827 - val_acc: 0.9405\n",
      "Epoch 356/400\n",
      "1960/1960 [==============================] - 0s 71us/step - loss: 0.0175 - acc: 0.9995 - val_loss: 0.2827 - val_acc: 0.9405\n",
      "Epoch 357/400\n",
      "1960/1960 [==============================] - 0s 71us/step - loss: 0.0180 - acc: 1.0000 - val_loss: 0.2826 - val_acc: 0.9405\n",
      "Epoch 358/400\n",
      "1960/1960 [==============================] - 0s 70us/step - loss: 0.0186 - acc: 1.0000 - val_loss: 0.2826 - val_acc: 0.9405\n",
      "Epoch 359/400\n",
      "1960/1960 [==============================] - 0s 68us/step - loss: 0.0190 - acc: 0.9995 - val_loss: 0.2826 - val_acc: 0.9405\n",
      "Epoch 360/400\n",
      "1960/1960 [==============================] - 0s 68us/step - loss: 0.0190 - acc: 0.9980 - val_loss: 0.2825 - val_acc: 0.9405\n"
     ]
    },
    {
     "name": "stdout",
     "output_type": "stream",
     "text": [
      "Epoch 361/400\n",
      "1960/1960 [==============================] - 0s 63us/step - loss: 0.0193 - acc: 0.9990 - val_loss: 0.2824 - val_acc: 0.9405\n",
      "Epoch 362/400\n",
      "1960/1960 [==============================] - 0s 67us/step - loss: 0.0193 - acc: 1.0000 - val_loss: 0.2824 - val_acc: 0.9405\n",
      "Epoch 363/400\n",
      "1960/1960 [==============================] - 0s 62us/step - loss: 0.0178 - acc: 0.9995 - val_loss: 0.2823 - val_acc: 0.9405\n",
      "Epoch 364/400\n",
      "1960/1960 [==============================] - 0s 69us/step - loss: 0.0187 - acc: 0.9990 - val_loss: 0.2823 - val_acc: 0.9405\n",
      "Epoch 365/400\n",
      "1960/1960 [==============================] - 0s 68us/step - loss: 0.0195 - acc: 0.9990 - val_loss: 0.2822 - val_acc: 0.9405\n",
      "Epoch 366/400\n",
      "1960/1960 [==============================] - 0s 70us/step - loss: 0.0188 - acc: 1.0000 - val_loss: 0.2822 - val_acc: 0.9405\n",
      "Epoch 367/400\n",
      "1960/1960 [==============================] - 0s 68us/step - loss: 0.0183 - acc: 1.0000 - val_loss: 0.2822 - val_acc: 0.9405\n",
      "Epoch 368/400\n",
      "1960/1960 [==============================] - 0s 68us/step - loss: 0.0181 - acc: 0.9990 - val_loss: 0.2822 - val_acc: 0.9405\n",
      "Epoch 369/400\n",
      "1960/1960 [==============================] - 0s 69us/step - loss: 0.0184 - acc: 1.0000 - val_loss: 0.2822 - val_acc: 0.9405\n",
      "Epoch 370/400\n",
      "1960/1960 [==============================] - 0s 66us/step - loss: 0.0190 - acc: 1.0000 - val_loss: 0.2821 - val_acc: 0.9405\n",
      "Epoch 371/400\n",
      "1960/1960 [==============================] - 0s 60us/step - loss: 0.0185 - acc: 1.0000 - val_loss: 0.2821 - val_acc: 0.9405\n",
      "Epoch 372/400\n",
      "1960/1960 [==============================] - 0s 64us/step - loss: 0.0179 - acc: 1.0000 - val_loss: 0.2821 - val_acc: 0.9405\n",
      "Epoch 373/400\n",
      "1960/1960 [==============================] - 0s 70us/step - loss: 0.0160 - acc: 1.0000 - val_loss: 0.2822 - val_acc: 0.9405\n",
      "Epoch 374/400\n",
      "1960/1960 [==============================] - 0s 69us/step - loss: 0.0177 - acc: 0.9995 - val_loss: 0.2822 - val_acc: 0.9405\n",
      "Epoch 375/400\n",
      "1960/1960 [==============================] - 0s 70us/step - loss: 0.0172 - acc: 0.9995 - val_loss: 0.2822 - val_acc: 0.9405\n",
      "Epoch 376/400\n",
      "1960/1960 [==============================] - 0s 66us/step - loss: 0.0180 - acc: 0.9995 - val_loss: 0.2822 - val_acc: 0.9405\n",
      "Epoch 377/400\n",
      "1960/1960 [==============================] - 0s 63us/step - loss: 0.0182 - acc: 1.0000 - val_loss: 0.2823 - val_acc: 0.9405\n",
      "Epoch 378/400\n",
      "1960/1960 [==============================] - 0s 67us/step - loss: 0.0175 - acc: 0.9995 - val_loss: 0.2823 - val_acc: 0.9405\n",
      "Epoch 379/400\n",
      "1960/1960 [==============================] - 0s 73us/step - loss: 0.0197 - acc: 0.9995 - val_loss: 0.2823 - val_acc: 0.9405\n",
      "Epoch 380/400\n",
      "1960/1960 [==============================] - 0s 74us/step - loss: 0.0174 - acc: 1.0000 - val_loss: 0.2823 - val_acc: 0.9405\n",
      "Epoch 381/400\n",
      "1960/1960 [==============================] - 0s 68us/step - loss: 0.0181 - acc: 1.0000 - val_loss: 0.2823 - val_acc: 0.9405\n",
      "Epoch 382/400\n",
      "1960/1960 [==============================] - 0s 69us/step - loss: 0.0185 - acc: 0.9995 - val_loss: 0.2823 - val_acc: 0.9405\n",
      "Epoch 383/400\n",
      "1960/1960 [==============================] - 0s 67us/step - loss: 0.0192 - acc: 1.0000 - val_loss: 0.2824 - val_acc: 0.9405\n",
      "Epoch 384/400\n",
      "1960/1960 [==============================] - 0s 69us/step - loss: 0.0173 - acc: 0.9995 - val_loss: 0.2824 - val_acc: 0.9405\n",
      "Epoch 385/400\n",
      "1960/1960 [==============================] - 0s 66us/step - loss: 0.0196 - acc: 0.9990 - val_loss: 0.2824 - val_acc: 0.9405\n",
      "Epoch 386/400\n",
      "1960/1960 [==============================] - 0s 70us/step - loss: 0.0187 - acc: 1.0000 - val_loss: 0.2825 - val_acc: 0.9405\n",
      "Epoch 387/400\n",
      "1960/1960 [==============================] - 0s 70us/step - loss: 0.0203 - acc: 1.0000 - val_loss: 0.2825 - val_acc: 0.9405\n",
      "Epoch 388/400\n",
      "1960/1960 [==============================] - 0s 71us/step - loss: 0.0181 - acc: 0.9995 - val_loss: 0.2825 - val_acc: 0.9405\n",
      "Epoch 389/400\n",
      "1960/1960 [==============================] - 0s 69us/step - loss: 0.0171 - acc: 1.0000 - val_loss: 0.2826 - val_acc: 0.9405\n",
      "Epoch 390/400\n",
      "1960/1960 [==============================] - 0s 70us/step - loss: 0.0193 - acc: 1.0000 - val_loss: 0.2826 - val_acc: 0.9405\n",
      "Epoch 391/400\n",
      "1960/1960 [==============================] - 0s 68us/step - loss: 0.0185 - acc: 1.0000 - val_loss: 0.2826 - val_acc: 0.9405\n",
      "Epoch 392/400\n",
      "1960/1960 [==============================] - 0s 66us/step - loss: 0.0186 - acc: 1.0000 - val_loss: 0.2826 - val_acc: 0.9405\n",
      "Epoch 393/400\n",
      "1960/1960 [==============================] - 0s 68us/step - loss: 0.0168 - acc: 1.0000 - val_loss: 0.2827 - val_acc: 0.9405\n",
      "Epoch 394/400\n",
      "1960/1960 [==============================] - 0s 69us/step - loss: 0.0180 - acc: 1.0000 - val_loss: 0.2827 - val_acc: 0.9405\n",
      "Epoch 395/400\n",
      "1960/1960 [==============================] - 0s 68us/step - loss: 0.0173 - acc: 1.0000 - val_loss: 0.2827 - val_acc: 0.9393\n",
      "Epoch 396/400\n",
      "1960/1960 [==============================] - 0s 67us/step - loss: 0.0170 - acc: 0.9995 - val_loss: 0.2827 - val_acc: 0.9393\n",
      "Epoch 397/400\n",
      "1960/1960 [==============================] - 0s 64us/step - loss: 0.0166 - acc: 1.0000 - val_loss: 0.2827 - val_acc: 0.9393\n",
      "Epoch 398/400\n",
      "1960/1960 [==============================] - 0s 71us/step - loss: 0.0185 - acc: 1.0000 - val_loss: 0.2827 - val_acc: 0.9393\n",
      "Epoch 399/400\n",
      "1960/1960 [==============================] - 0s 70us/step - loss: 0.0188 - acc: 1.0000 - val_loss: 0.2827 - val_acc: 0.9393\n",
      "Epoch 400/400\n",
      "1960/1960 [==============================] - 0s 63us/step - loss: 0.0172 - acc: 0.9995 - val_loss: 0.2826 - val_acc: 0.9393\n"
     ]
    }
   ],
   "source": [
    "import keras\n",
    "lr = 1e-3\n",
    "AR_single.compile(loss=\"categorical_crossentropy\",optimizer=adam(lr),metrics=['accuracy'])\n",
    "lrScheduler = keras.callbacks.ReduceLROnPlateau(monitor='loss', factor=0.5, patience=5, cooldown=5, min_lr=5e-6)\n",
    "history=AR_single.fit([X_0,X_1],Y,\n",
    "        batch_size=len(Y),\n",
    "        epochs=400,\n",
    "        verbose=True,\n",
    "        shuffle=True,\n",
    "        callbacks=[lrScheduler],\n",
    "        validation_data=([X_test_0,X_test_1],Y_test)      \n",
    "        )"
   ]
  },
  {
   "cell_type": "code",
   "execution_count": 21,
   "metadata": {
    "collapsed": true
   },
   "outputs": [],
   "source": [
    "AR_single.save_weights('weights/coarse_heavy.h5')"
   ]
  },
  {
   "cell_type": "code",
   "execution_count": 15,
   "metadata": {},
   "outputs": [
    {
     "data": {
      "image/png": "[encoded data removed]",
      "text/plain": [
       "<matplotlib.figure.Figure at 0x7f88a11ca5f8>"
      ]
     },
     "metadata": {},
     "output_type": "display_data"
    }
   ],
   "source": [
    "# Plot training & validation accuracy values\n",
    "plt.plot(history.history['acc'])\n",
    "plt.plot(history.history['val_acc'])\n",
    "plt.title('Model accuracy')\n",
    "plt.ylabel('Accuracy')\n",
    "plt.xlabel('Epoch')\n",
    "plt.legend(['Train', 'Test'], loc='upper left')\n",
    "plt.show()"
   ]
  },
  {
   "cell_type": "markdown",
   "metadata": {},
   "source": [
    "## With frame_sampling"
   ]
  },
  {
   "cell_type": "code",
   "execution_count": 16,
   "metadata": {
    "collapsed": true
   },
   "outputs": [],
   "source": [
    "from transforms3d.euler import euler2mat, mat2euler\n",
    "def rotaion_one(p,R):\n",
    "    p_new = np.zeros_like(p)\n",
    "    for i in range(len(p)):\n",
    "        p_new[i] = np.dot(R,p[i].T).T\n",
    "    return p_new\n",
    "\n",
    "def sampling_frame(p,C):\n",
    "    full_l = p.shape[0] # full length\n",
    "    if random.uniform(0,1)<0.5: # aligment sampling\n",
    "        valid_l = np.round(np.random.uniform(0.9,1)*full_l)\n",
    "        s = random.randint(0, full_l-int(valid_l))\n",
    "        e = s+valid_l # sample end point\n",
    "        p = p[int(s):int(e),:,:]    \n",
    "    else: # without aligment sampling\n",
    "        valid_l = np.round(np.random.uniform(0.9,1)*full_l)\n",
    "        index = np.sort(np.random.choice(range(0,full_l),int(valid_l),replace=False))\n",
    "        p = p[index,:,:]\n",
    "    p = zoom(p,C.frame_l,C.joint_n,C.joint_d)\n",
    "    return p"
   ]
  },
  {
   "cell_type": "code",
   "execution_count": 17,
   "metadata": {
    "collapsed": true
   },
   "outputs": [],
   "source": [
    "lr = 5e-6\n",
    "AR_single.compile(loss=\"categorical_crossentropy\",optimizer=adam(lr),metrics=['accuracy'])"
   ]
  },
  {
   "cell_type": "code",
   "execution_count": 18,
   "metadata": {
    "scrolled": true
   },
   "outputs": [
    {
     "name": "stderr",
     "output_type": "stream",
     "text": [
      "  1%|          | 22/1960 [00:00<00:09, 213.96it/s]"
     ]
    },
    {
     "name": "stdout",
     "output_type": "stream",
     "text": [
      "epoch0\n"
     ]
    },
    {
     "name": "stderr",
     "output_type": "stream",
     "text": [
      "/home/fan/anaconda3/envs/cv2/lib/python3.6/site-packages/scipy/ndimage/interpolation.py:583: UserWarning: From scipy 0.13.0, the output shape of zoom() is calculated with round() instead of int() - for these inputs the size of the returned array has changed.\n",
      "  \"the returned array has changed.\", UserWarning)\n",
      "100%|██████████| 1960/1960 [00:05<00:00, 380.05it/s]\n"
     ]
    },
    {
     "name": "stdout",
     "output_type": "stream",
     "text": [
      "Train on 1960 samples, validate on 840 samples\n",
      "Epoch 1/1\n",
      "1960/1960 [==============================] - 3s 2ms/step - loss: 0.0332 - acc: 0.9939 - val_loss: 0.2825 - val_acc: 0.9405\n"
     ]
    },
    {
     "name": "stderr",
     "output_type": "stream",
     "text": [
      "  1%|          | 24/1960 [00:00<00:08, 237.42it/s]"
     ]
    },
    {
     "name": "stdout",
     "output_type": "stream",
     "text": [
      "epoch1\n"
     ]
    },
    {
     "name": "stderr",
     "output_type": "stream",
     "text": [
      "100%|██████████| 1960/1960 [00:05<00:00, 377.38it/s]\n"
     ]
    },
    {
     "name": "stdout",
     "output_type": "stream",
     "text": [
      "Train on 1960 samples, validate on 840 samples\n",
      "Epoch 1/1\n",
      "\r",
      "1960/1960 [==============================] - 0s 62us/step - loss: 0.0430 - acc: 0.9918 - val_loss: 0.2825 - val_acc: 0.9405\n"
     ]
    },
    {
     "name": "stderr",
     "output_type": "stream",
     "text": [
      "\r",
      "  0%|          | 0/1960 [00:00<?, ?it/s]"
     ]
    },
    {
     "name": "stdout",
     "output_type": "stream",
     "text": [
      "epoch2\n"
     ]
    },
    {
     "name": "stderr",
     "output_type": "stream",
     "text": [
      "100%|██████████| 1960/1960 [00:05<00:00, 370.04it/s]\n"
     ]
    },
    {
     "name": "stdout",
     "output_type": "stream",
     "text": [
      "Train on 1960 samples, validate on 840 samples\n",
      "Epoch 1/1\n",
      "\r",
      "1960/1960 [==============================] - 0s 63us/step - loss: 0.0390 - acc: 0.9944 - val_loss: 0.2826 - val_acc: 0.9405\n"
     ]
    },
    {
     "name": "stderr",
     "output_type": "stream",
     "text": [
      "\r",
      "  0%|          | 0/1960 [00:00<?, ?it/s]"
     ]
    },
    {
     "name": "stdout",
     "output_type": "stream",
     "text": [
      "epoch3\n"
     ]
    },
    {
     "name": "stderr",
     "output_type": "stream",
     "text": [
      "100%|██████████| 1960/1960 [00:05<00:00, 383.18it/s]\n"
     ]
    },
    {
     "name": "stdout",
     "output_type": "stream",
     "text": [
      "Train on 1960 samples, validate on 840 samples\n",
      "Epoch 1/1\n",
      "\r",
      "1960/1960 [==============================] - 0s 62us/step - loss: 0.0445 - acc: 0.9949 - val_loss: 0.2826 - val_acc: 0.9405\n"
     ]
    },
    {
     "name": "stderr",
     "output_type": "stream",
     "text": [
      "\r",
      "  0%|          | 0/1960 [00:00<?, ?it/s]"
     ]
    },
    {
     "name": "stdout",
     "output_type": "stream",
     "text": [
      "epoch4\n"
     ]
    },
    {
     "name": "stderr",
     "output_type": "stream",
     "text": [
      "100%|██████████| 1960/1960 [00:05<00:00, 379.09it/s]\n"
     ]
    },
    {
     "name": "stdout",
     "output_type": "stream",
     "text": [
      "Train on 1960 samples, validate on 840 samples\n",
      "Epoch 1/1\n",
      "\r",
      "1960/1960 [==============================] - 0s 58us/step - loss: 0.0377 - acc: 0.9944 - val_loss: 0.2825 - val_acc: 0.9405\n"
     ]
    },
    {
     "name": "stderr",
     "output_type": "stream",
     "text": [
      "\r",
      "  0%|          | 0/1960 [00:00<?, ?it/s]"
     ]
    },
    {
     "name": "stdout",
     "output_type": "stream",
     "text": [
      "epoch5\n"
     ]
    },
    {
     "name": "stderr",
     "output_type": "stream",
     "text": [
      "100%|██████████| 1960/1960 [00:05<00:00, 387.32it/s]\n"
     ]
    },
    {
     "name": "stdout",
     "output_type": "stream",
     "text": [
      "Train on 1960 samples, validate on 840 samples\n",
      "Epoch 1/1\n",
      "\r",
      "1960/1960 [==============================] - 0s 59us/step - loss: 0.0415 - acc: 0.9908 - val_loss: 0.2826 - val_acc: 0.9405\n"
     ]
    },
    {
     "name": "stderr",
     "output_type": "stream",
     "text": [
      "\r",
      "  0%|          | 0/1960 [00:00<?, ?it/s]"
     ]
    },
    {
     "name": "stdout",
     "output_type": "stream",
     "text": [
      "epoch6\n"
     ]
    },
    {
     "name": "stderr",
     "output_type": "stream",
     "text": [
      "100%|██████████| 1960/1960 [00:05<00:00, 364.86it/s]\n"
     ]
    },
    {
     "name": "stdout",
     "output_type": "stream",
     "text": [
      "Train on 1960 samples, validate on 840 samples\n",
      "Epoch 1/1\n",
      "\r",
      "1960/1960 [==============================] - 0s 57us/step - loss: 0.0389 - acc: 0.9944 - val_loss: 0.2828 - val_acc: 0.9405\n"
     ]
    },
    {
     "name": "stderr",
     "output_type": "stream",
     "text": [
      "\r",
      "  0%|          | 0/1960 [00:00<?, ?it/s]"
     ]
    },
    {
     "name": "stdout",
     "output_type": "stream",
     "text": [
      "epoch7\n"
     ]
    },
    {
     "name": "stderr",
     "output_type": "stream",
     "text": [
      "100%|██████████| 1960/1960 [00:05<00:00, 371.78it/s]\n"
     ]
    },
    {
     "name": "stdout",
     "output_type": "stream",
     "text": [
      "Train on 1960 samples, validate on 840 samples\n",
      "Epoch 1/1\n",
      "\r",
      "1960/1960 [==============================] - 0s 66us/step - loss: 0.0379 - acc: 0.9954 - val_loss: 0.2830 - val_acc: 0.9405\n"
     ]
    },
    {
     "name": "stderr",
     "output_type": "stream",
     "text": [
      "\r",
      "  0%|          | 0/1960 [00:00<?, ?it/s]"
     ]
    },
    {
     "name": "stdout",
     "output_type": "stream",
     "text": [
      "epoch8\n"
     ]
    },
    {
     "name": "stderr",
     "output_type": "stream",
     "text": [
      "100%|██████████| 1960/1960 [00:05<00:00, 344.19it/s]\n"
     ]
    },
    {
     "name": "stdout",
     "output_type": "stream",
     "text": [
      "Train on 1960 samples, validate on 840 samples\n",
      "Epoch 1/1\n",
      "\r",
      "1960/1960 [==============================] - 0s 61us/step - loss: 0.0400 - acc: 0.9934 - val_loss: 0.2832 - val_acc: 0.9405\n"
     ]
    },
    {
     "name": "stderr",
     "output_type": "stream",
     "text": [
      "\r",
      "  0%|          | 0/1960 [00:00<?, ?it/s]"
     ]
    },
    {
     "name": "stdout",
     "output_type": "stream",
     "text": [
      "epoch9\n"
     ]
    },
    {
     "name": "stderr",
     "output_type": "stream",
     "text": [
      "100%|██████████| 1960/1960 [00:06<00:00, 316.50it/s]\n"
     ]
    },
    {
     "name": "stdout",
     "output_type": "stream",
     "text": [
      "Train on 1960 samples, validate on 840 samples\n",
      "Epoch 1/1\n",
      "\r",
      "1960/1960 [==============================] - 0s 63us/step - loss: 0.0364 - acc: 0.9934 - val_loss: 0.2835 - val_acc: 0.9405\n"
     ]
    },
    {
     "name": "stderr",
     "output_type": "stream",
     "text": [
      "\r",
      "  0%|          | 0/1960 [00:00<?, ?it/s]"
     ]
    },
    {
     "name": "stdout",
     "output_type": "stream",
     "text": [
      "epoch10\n"
     ]
    },
    {
     "name": "stderr",
     "output_type": "stream",
     "text": [
      "  9%|▉         | 186/1960 [00:00<00:04, 369.42it/s]\n"
     ]
    },
    {
     "ename": "KeyboardInterrupt",
     "evalue": "",
     "output_type": "error",
     "traceback": [
      "\u001b[0;31m---------------------------------------------------------------------------\u001b[0m",
      "\u001b[0;31mKeyboardInterrupt\u001b[0m                         Traceback (most recent call last)",
      "\u001b[0;32m<ipython-input-18-9bc612492bab>\u001b[0m in \u001b[0;36m<module>\u001b[0;34m()\u001b[0m\n\u001b[1;32m     27\u001b[0m \u001b[0;34m\u001b[0m\u001b[0m\n\u001b[1;32m     28\u001b[0m         \u001b[0mp\u001b[0m \u001b[0;34m=\u001b[0m \u001b[0mnormlize_range\u001b[0m\u001b[0;34m(\u001b[0m\u001b[0mp\u001b[0m\u001b[0;34m)\u001b[0m\u001b[0;34m\u001b[0m\u001b[0m\n\u001b[0;32m---> 29\u001b[0;31m         \u001b[0mM\u001b[0m \u001b[0;34m=\u001b[0m \u001b[0mget_CG\u001b[0m\u001b[0;34m(\u001b[0m\u001b[0mp\u001b[0m\u001b[0;34m,\u001b[0m\u001b[0mC\u001b[0m\u001b[0;34m)\u001b[0m\u001b[0;34m\u001b[0m\u001b[0m\n\u001b[0m\u001b[1;32m     30\u001b[0m \u001b[0;34m\u001b[0m\u001b[0m\n\u001b[1;32m     31\u001b[0m         \u001b[0mX_0\u001b[0m\u001b[0;34m.\u001b[0m\u001b[0mappend\u001b[0m\u001b[0;34m(\u001b[0m\u001b[0mM\u001b[0m\u001b[0;34m)\u001b[0m\u001b[0;34m\u001b[0m\u001b[0m\n",
      "\u001b[0;32m<ipython-input-4-6247199a77ee>\u001b[0m in \u001b[0;36mget_CG\u001b[0;34m(p, C)\u001b[0m\n\u001b[1;32m      5\u001b[0m     \u001b[0;32mfor\u001b[0m \u001b[0mf\u001b[0m \u001b[0;32min\u001b[0m \u001b[0mrange\u001b[0m\u001b[0;34m(\u001b[0m\u001b[0mC\u001b[0m\u001b[0;34m.\u001b[0m\u001b[0mframe_l\u001b[0m\u001b[0;34m)\u001b[0m\u001b[0;34m:\u001b[0m\u001b[0;34m\u001b[0m\u001b[0m\n\u001b[1;32m      6\u001b[0m         \u001b[0;31m#distance max\u001b[0m\u001b[0;34m\u001b[0m\u001b[0;34m\u001b[0m\u001b[0m\n\u001b[0;32m----> 7\u001b[0;31m         \u001b[0md_m\u001b[0m \u001b[0;34m=\u001b[0m \u001b[0mcdist\u001b[0m\u001b[0;34m(\u001b[0m\u001b[0mp\u001b[0m\u001b[0;34m[\u001b[0m\u001b[0mf\u001b[0m\u001b[0;34m]\u001b[0m\u001b[0;34m,\u001b[0m\u001b[0mnp\u001b[0m\u001b[0;34m.\u001b[0m\u001b[0mconcatenate\u001b[0m\u001b[0;34m(\u001b[0m\u001b[0;34m[\u001b[0m\u001b[0mp\u001b[0m\u001b[0;34m[\u001b[0m\u001b[0mf\u001b[0m\u001b[0;34m]\u001b[0m\u001b[0;34m,\u001b[0m\u001b[0mnp\u001b[0m\u001b[0;34m.\u001b[0m\u001b[0mzeros\u001b[0m\u001b[0;34m(\u001b[0m\u001b[0;34m[\u001b[0m\u001b[0;36m1\u001b[0m\u001b[0;34m,\u001b[0m\u001b[0mC\u001b[0m\u001b[0;34m.\u001b[0m\u001b[0mjoint_d\u001b[0m\u001b[0;34m]\u001b[0m\u001b[0;34m)\u001b[0m\u001b[0;34m]\u001b[0m\u001b[0;34m)\u001b[0m\u001b[0;34m,\u001b[0m\u001b[0;34m'euclidean'\u001b[0m\u001b[0;34m)\u001b[0m\u001b[0;34m\u001b[0m\u001b[0m\n\u001b[0m\u001b[1;32m      8\u001b[0m         \u001b[0md_m\u001b[0m \u001b[0;34m=\u001b[0m \u001b[0md_m\u001b[0m\u001b[0;34m[\u001b[0m\u001b[0miu\u001b[0m\u001b[0;34m]\u001b[0m\u001b[0;34m\u001b[0m\u001b[0m\n\u001b[1;32m      9\u001b[0m         \u001b[0mM\u001b[0m\u001b[0;34m.\u001b[0m\u001b[0mappend\u001b[0m\u001b[0;34m(\u001b[0m\u001b[0md_m\u001b[0m\u001b[0;34m)\u001b[0m\u001b[0;34m\u001b[0m\u001b[0m\n",
      "\u001b[0;32m/home/fan/anaconda3/envs/cv2/lib/python3.6/site-packages/scipy/spatial/distance.py\u001b[0m in \u001b[0;36mcdist\u001b[0;34m(XA, XB, metric, *args, **kwargs)\u001b[0m\n\u001b[1;32m   2600\u001b[0m     \u001b[0mout\u001b[0m \u001b[0;34m=\u001b[0m \u001b[0mkwargs\u001b[0m\u001b[0;34m.\u001b[0m\u001b[0mpop\u001b[0m\u001b[0;34m(\u001b[0m\u001b[0;34m\"out\"\u001b[0m\u001b[0;34m,\u001b[0m \u001b[0;32mNone\u001b[0m\u001b[0;34m)\u001b[0m\u001b[0;34m\u001b[0m\u001b[0m\n\u001b[1;32m   2601\u001b[0m     \u001b[0;32mif\u001b[0m \u001b[0mout\u001b[0m \u001b[0;32mis\u001b[0m \u001b[0;32mNone\u001b[0m\u001b[0;34m:\u001b[0m\u001b[0;34m\u001b[0m\u001b[0m\n\u001b[0;32m-> 2602\u001b[0;31m         \u001b[0mdm\u001b[0m \u001b[0;34m=\u001b[0m \u001b[0mnp\u001b[0m\u001b[0;34m.\u001b[0m\u001b[0mempty\u001b[0m\u001b[0;34m(\u001b[0m\u001b[0;34m(\u001b[0m\u001b[0mmA\u001b[0m\u001b[0;34m,\u001b[0m \u001b[0mmB\u001b[0m\u001b[0;34m)\u001b[0m\u001b[0;34m,\u001b[0m \u001b[0mdtype\u001b[0m\u001b[0;34m=\u001b[0m\u001b[0mnp\u001b[0m\u001b[0;34m.\u001b[0m\u001b[0mdouble\u001b[0m\u001b[0;34m)\u001b[0m\u001b[0;34m\u001b[0m\u001b[0m\n\u001b[0m\u001b[1;32m   2603\u001b[0m     \u001b[0;32melse\u001b[0m\u001b[0;34m:\u001b[0m\u001b[0;34m\u001b[0m\u001b[0m\n\u001b[1;32m   2604\u001b[0m         \u001b[0;32mif\u001b[0m \u001b[0mout\u001b[0m\u001b[0;34m.\u001b[0m\u001b[0mshape\u001b[0m \u001b[0;34m!=\u001b[0m \u001b[0;34m(\u001b[0m\u001b[0mmA\u001b[0m\u001b[0;34m,\u001b[0m \u001b[0mmB\u001b[0m\u001b[0;34m)\u001b[0m\u001b[0;34m:\u001b[0m\u001b[0;34m\u001b[0m\u001b[0m\n",
      "\u001b[0;31mKeyboardInterrupt\u001b[0m: "
     ]
    }
   ],
   "source": [
    "epochs = 50\n",
    "for e in range(epochs):\n",
    "    print('epoch{}'.format(e))\n",
    "    X_0 = []\n",
    "    X_1 = []\n",
    "    Y = []\n",
    "    \n",
    "    for i in tqdm(range(len(Train['pose']))): \n",
    "    #for i in range(len(Train['pose'])): \n",
    "    \n",
    "        label = np.zeros(C.clc_coarse)\n",
    "        label[Train['coarse_label'][i]-1] = 1 \n",
    "        \n",
    "        p = np.copy(Train['pose'][i]).reshape([-1,22,3])[:,C.joint_ind,:]\n",
    "        p = sampling_frame(p,C)\n",
    "       \n",
    "        #rotation\n",
    "        x_angle = np.random.uniform(-0.2,0.2)\n",
    "        y_angle = np.random.uniform(-0.2,0.2)\n",
    "        z_angle = np.random.uniform(-0.2,0.2)\n",
    "        R = euler2mat(x_angle, y_angle, z_angle, 'sxyz')\n",
    "        p = rotaion_one(p,R)\n",
    "         \n",
    "        p[:,:,0] = p[:,:,0]*random.uniform(0.9, 1.1)+p[:,:,0]*random.uniform(-0.1,0.1)\n",
    "        p[:,:,1] = p[:,:,1]*random.uniform(0.9, 1.1)+p[:,:,1]*random.uniform(-0.1,0.1)\n",
    "        p[:,:,2] = p[:,:,2]*random.uniform(0.9, 1.1)+p[:,:,2]*random.uniform(-0.1,0.1)\n",
    "     \n",
    "        p = normlize_range(p)\n",
    "        M = get_CG(p,C)\n",
    "        \n",
    "        X_0.append(M)\n",
    "        X_1.append(p)\n",
    "        Y.append(label)\n",
    "\n",
    "    X_0 = np.stack(X_0)  \n",
    "    X_1 = np.stack(X_1) \n",
    "    Y = np.stack(Y)\n",
    "   \n",
    "\n",
    "    AR_single.fit([X_0,X_1],Y,\n",
    "            batch_size=len(Y),\n",
    "            epochs=1,\n",
    "            verbose=True,\n",
    "            shuffle=True,\n",
    "            validation_data=([X_test_0,X_test_1],Y_test)      \n",
    "            )\n",
    "\n",
    "    if e%10==0:\n",
    "        AR_single.save_weights('weights/coarse_1D_heavy_aug.h5')\n",
    "        \n"
   ]
  },
  {
   "cell_type": "code",
   "execution_count": 20,
   "metadata": {},
   "outputs": [
    {
     "data": {
      "image/png": "[encoded data removed]",
      "text/plain": [
       "<matplotlib.figure.Figure at 0x7f88c81d8d30>"
      ]
     },
     "metadata": {},
     "output_type": "display_data"
    }
   ],
   "source": [
    "import matplotlib.pyplot as plt\n",
    "from sklearn.metrics import confusion_matrix\n",
    "\n",
    "Y_pred = AR_single.predict([X_test_0,X_test_1])\n",
    "cnf_matrix = confusion_matrix(np.argmax(Y_test,axis=1),np.argmax(Y_pred,axis=1))\n",
    "plt.figure(figsize=(10,10))\n",
    "plt.imshow(cnf_matrix)\n",
    "plt.show()"
   ]
  },
  {
   "cell_type": "code",
   "execution_count": null,
   "metadata": {
    "collapsed": true
   },
   "outputs": [],
   "source": []
  }
 ],
 "metadata": {
  "kernelspec": {
   "display_name": "Python 3",
   "language": "python",
   "name": "python3"
  },
  "language_info": {
   "codemirror_mode": {
    "name": "ipython",
    "version": 3
   },
   "file_extension": ".py",
   "mimetype": "text/x-python",
   "name": "python",
   "nbconvert_exporter": "python",
   "pygments_lexer": "ipython3",
   "version": "3.6.1"
  }
 },
 "nbformat": 4,
 "nbformat_minor": 2
}
