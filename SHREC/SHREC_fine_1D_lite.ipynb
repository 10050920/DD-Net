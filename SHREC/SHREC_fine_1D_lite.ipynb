{
 "cells": [
  {
   "cell_type": "code",
   "execution_count": 1,
   "metadata": {},
   "outputs": [
    {
     "name": "stderr",
     "output_type": "stream",
     "text": [
      "/home/fan/anaconda3/envs/cv2/lib/python3.6/site-packages/h5py/__init__.py:34: FutureWarning: Conversion of the second argument of issubdtype from `float` to `np.floating` is deprecated. In future, it will be treated as `np.float64 == np.dtype(float).type`.\n",
      "  from ._conv import register_converters as _register_converters\n",
      "Using TensorFlow backend.\n"
     ]
    }
   ],
   "source": [
    "import numpy as np\n",
    "import math\n",
    "import random\n",
    "import pandas as pd\n",
    "import os\n",
    "import matplotlib.pyplot as plt\n",
    "import cv2\n",
    "import glob\n",
    "import gc\n",
    "from utils import *\n",
    "from tqdm import tqdm\n",
    "import pickle\n",
    "\n",
    "from keras.optimizers import *\n",
    "from keras.models import Model\n",
    "from keras.layers import *\n",
    "from keras.layers.core import *\n",
    "from keras.layers.convolutional import *\n",
    "from keras import backend as K\n",
    "import tensorflow as tf"
   ]
  },
  {
   "cell_type": "markdown",
   "metadata": {},
   "source": [
    "# Initialize the setting"
   ]
  },
  {
   "cell_type": "code",
   "execution_count": 2,
   "metadata": {
    "collapsed": true
   },
   "outputs": [],
   "source": [
    "os.environ[\"CUDA_DEVICE_ORDER\"]=\"PCI_BUS_ID\"   \n",
    "os.environ[\"CUDA_VISIBLE_DEVICES\"]=\"1\""
   ]
  },
  {
   "cell_type": "code",
   "execution_count": 3,
   "metadata": {
    "collapsed": true
   },
   "outputs": [],
   "source": [
    "class Config():\n",
    "    def __init__(self):\n",
    "        self.frame_l = 32 # the length of frames\n",
    "        self.joint_n = 12 # the number of joints\n",
    "        self.joint_d = 3 # the dimension of joints\n",
    "        self.clc_coarse = 14 # the number of coarse class\n",
    "        self.clc_fine = 28 # the number of fine-grained class\n",
    "        self.feat_d = 66\n",
    "        self.filters = 16\n",
    "        self.joint_ind = np.array([0,1,2,5,6,9,10,13,14,17,18,21])\n",
    "        self.data_dir = '/mnt/nasbi/homes/fan/projects/action/skeleton/data/SHREC/'\n",
    "C = Config()"
   ]
  },
  {
   "cell_type": "markdown",
   "metadata": {},
   "source": [
    "# Building the model"
   ]
  },
  {
   "cell_type": "code",
   "execution_count": 5,
   "metadata": {
    "collapsed": true
   },
   "outputs": [],
   "source": [
    "def poses_diff(x):\n",
    "    H, W = x.get_shape()[1],x.get_shape()[2]\n",
    "    x = tf.subtract(x[:,:1,...],x[:,:-1,...])\n",
    "    x = tf.image.resize_nearest_neighbor(x,size=[H.value,W.value],align_corners=False) # should not alignment here\n",
    "    return x\n",
    "\n",
    "def pose_motion(P,frame_l):\n",
    "    P_diff_slow = Lambda(lambda x: poses_diff(x))(P)\n",
    "    P_diff_slow = Reshape((frame_l,-1))(P_diff_slow)\n",
    "    P_fast = Lambda(lambda x: x[:,::2,...])(P)\n",
    "    P_diff_fast = Lambda(lambda x: poses_diff(x))(P_fast)\n",
    "    P_diff_fast = Reshape((int(frame_l/2),-1))(P_diff_fast)\n",
    "    return P_diff_slow,P_diff_fast\n",
    "    \n",
    "def c1D(x,filters,kernel):\n",
    "    x = Conv1D(filters, kernel_size=kernel,padding='same',use_bias=False)(x)\n",
    "    x = BatchNormalization()(x)\n",
    "    x = LeakyReLU(alpha=0.2)(x)\n",
    "    return x\n",
    "\n",
    "def block(x,filters):\n",
    "    x = c1D(x,filters,3)\n",
    "    x = c1D(x,filters,3)\n",
    "    return x\n",
    "    \n",
    "def d1D(x,filters):\n",
    "    x = Dense(filters,use_bias=False)(x)\n",
    "    x = BatchNormalization()(x)\n",
    "    x = LeakyReLU(alpha=0.2)(x)\n",
    "    return x\n",
    "\n",
    "def build_FM(frame_l=32,joint_n=12,joint_d=3,feat_d=90,filters=16):   \n",
    "    M = Input(shape=(frame_l,feat_d))\n",
    "    P = Input(shape=(frame_l,joint_n,joint_d))\n",
    "    \n",
    "    diff_slow,diff_fast = pose_motion(P,frame_l)\n",
    "    \n",
    "    x = block(M,filters)\n",
    "    x = MaxPool1D(2)(x)\n",
    "    \n",
    "    x_d_slow = block(diff_slow,filters)\n",
    "    x_d_slow = MaxPool1D(2)(x_d_slow)\n",
    "    \n",
    "    x_d_fast = block(diff_fast,filters)\n",
    "   \n",
    "    x = concatenate([x,x_d_slow,x_d_fast])\n",
    "    x = block(x,filters*2)\n",
    "    x = MaxPool1D(2)(x)\n",
    "    x = SpatialDropout1D(0.1)(x)\n",
    "    \n",
    "    x = block(x,filters*4)\n",
    "    x = MaxPool1D(2)(x)\n",
    "    x = SpatialDropout1D(0.1)(x)\n",
    "    \n",
    "    x = block(x,filters*8)\n",
    "    x = SpatialDropout1D(0.1)(x)\n",
    "    \n",
    "    return Model(inputs=[M,P],outputs=x)"
   ]
  },
  {
   "cell_type": "code",
   "execution_count": 6,
   "metadata": {
    "collapsed": true
   },
   "outputs": [],
   "source": [
    "def build_AR_single(frame_l=32,joint_n=22,joint_d=3,feat_d=66,clc_num=14,filters=16):\n",
    "    M = Input(name='M', shape=(frame_l,feat_d))  \n",
    "    P = Input(name='P', shape=(frame_l,joint_n,joint_d)) \n",
    "    \n",
    "    FM = build_FM(frame_l,joint_n,joint_d,feat_d,filters)\n",
    "    \n",
    "    x = FM([M,P])\n",
    "\n",
    "    x = GlobalMaxPool1D()(x)\n",
    "    \n",
    "    x = d1D(x,128)\n",
    "    x = Dropout(0.4)(x)\n",
    "    x = d1D(x,128)\n",
    "    x = Dropout(0.3)(x)\n",
    "    x = Dense(clc_num, activation='softmax')(x)\n",
    "    \n",
    "    ######################Self-supervised part\n",
    "    model = Model(inputs=[M,P],outputs=x)\n",
    "    return model"
   ]
  },
  {
   "cell_type": "code",
   "execution_count": 7,
   "metadata": {
    "collapsed": true,
    "scrolled": true
   },
   "outputs": [],
   "source": [
    "AR_single = build_AR_single(C.frame_l,C.joint_n,C.joint_d,C.feat_d,C.clc_fine,C.filters)"
   ]
  },
  {
   "cell_type": "code",
   "execution_count": 8,
   "metadata": {
    "scrolled": true
   },
   "outputs": [
    {
     "name": "stdout",
     "output_type": "stream",
     "text": [
      "__________________________________________________________________________________________________\n",
      "Layer (type)                    Output Shape         Param #     Connected to                     \n",
      "==================================================================================================\n",
      "M (InputLayer)                  (None, 32, 90)       0                                            \n",
      "__________________________________________________________________________________________________\n",
      "P (InputLayer)                  (None, 32, 12, 3)    0                                            \n",
      "__________________________________________________________________________________________________\n",
      "model_1 (Model)                 (None, 4, 128)       112096      M[0][0]                          \n",
      "                                                                 P[0][0]                          \n",
      "__________________________________________________________________________________________________\n",
      "global_max_pooling1d_1 (GlobalM (None, 128)          0           model_1[1][0]                    \n",
      "__________________________________________________________________________________________________\n",
      "dense_1 (Dense)                 (None, 128)          16384       global_max_pooling1d_1[0][0]     \n",
      "__________________________________________________________________________________________________\n",
      "batch_normalization_13 (BatchNo (None, 128)          512         dense_1[0][0]                    \n",
      "__________________________________________________________________________________________________\n",
      "leaky_re_lu_13 (LeakyReLU)      (None, 128)          0           batch_normalization_13[0][0]     \n",
      "__________________________________________________________________________________________________\n",
      "dropout_1 (Dropout)             (None, 128)          0           leaky_re_lu_13[0][0]             \n",
      "__________________________________________________________________________________________________\n",
      "dense_2 (Dense)                 (None, 128)          16384       dropout_1[0][0]                  \n",
      "__________________________________________________________________________________________________\n",
      "batch_normalization_14 (BatchNo (None, 128)          512         dense_2[0][0]                    \n",
      "__________________________________________________________________________________________________\n",
      "leaky_re_lu_14 (LeakyReLU)      (None, 128)          0           batch_normalization_14[0][0]     \n",
      "__________________________________________________________________________________________________\n",
      "dropout_2 (Dropout)             (None, 128)          0           leaky_re_lu_14[0][0]             \n",
      "__________________________________________________________________________________________________\n",
      "dense_3 (Dense)                 (None, 28)           3612        dropout_2[0][0]                  \n",
      "==================================================================================================\n",
      "Total params: 149,500\n",
      "Trainable params: 147,900\n",
      "Non-trainable params: 1,600\n",
      "__________________________________________________________________________________________________\n"
     ]
    }
   ],
   "source": [
    "AR_single.summary()"
   ]
  },
  {
   "cell_type": "code",
   "execution_count": 23,
   "metadata": {
    "scrolled": true
   },
   "outputs": [],
   "source": [
    "AR_single.load_weights('weights/fine_lite.h5')"
   ]
  },
  {
   "cell_type": "markdown",
   "metadata": {},
   "source": [
    "## load data"
   ]
  },
  {
   "cell_type": "code",
   "execution_count": 9,
   "metadata": {
    "collapsed": true
   },
   "outputs": [],
   "source": [
    "Train = pickle.load(open(C.data_dir+\"train.pkl\", \"rb\"))\n",
    "Test = pickle.load(open(C.data_dir+\"test.pkl\", \"rb\"))"
   ]
  },
  {
   "cell_type": "code",
   "execution_count": 10,
   "metadata": {
    "collapsed": true
   },
   "outputs": [],
   "source": [
    "def normlize_range(p):\n",
    "    # normolize to start point, use the center for hand case\n",
    "    p[:,:,0] = p[:,:,0]-np.mean(p[:,:,0])\n",
    "    p[:,:,1] = p[:,:,1]-np.mean(p[:,:,1])\n",
    "    p[:,:,2] = p[:,:,2]-np.mean(p[:,:,2])\n",
    "    return p"
   ]
  },
  {
   "cell_type": "markdown",
   "metadata": {},
   "source": [
    "## Without frame_sampling train"
   ]
  },
  {
   "cell_type": "code",
   "execution_count": 11,
   "metadata": {},
   "outputs": [
    {
     "name": "stderr",
     "output_type": "stream",
     "text": [
      "  1%|          | 21/1960 [00:00<00:09, 208.76it/s]/home/fan/anaconda3/envs/cv2/lib/python3.6/site-packages/scipy/ndimage/interpolation.py:583: UserWarning: From scipy 0.13.0, the output shape of zoom() is calculated with round() instead of int() - for these inputs the size of the returned array has changed.\n",
      "  \"the returned array has changed.\", UserWarning)\n",
      "100%|██████████| 1960/1960 [00:04<00:00, 413.42it/s]\n"
     ]
    }
   ],
   "source": [
    "X_0 = []\n",
    "X_1 = []\n",
    "Y = []\n",
    "for i in tqdm(range(len(Train['pose']))): \n",
    "    p = np.copy(Train['pose'][i]).reshape([-1,22,3])[:,C.joint_ind,:]\n",
    "    p = zoom(p,target_l=C.frame_l,joints_num=C.joint_n,joints_dim=C.joint_d)\n",
    "    p = normlize_range(p)\n",
    "    \n",
    "    label = np.zeros(C.clc_fine)\n",
    "    label[Train['fine_label'][i]-1] = 1   \n",
    "\n",
    "    M = get_CG(p,C)\n",
    "\n",
    "    X_0.append(M)\n",
    "    X_1.append(p)\n",
    "    Y.append(label)\n",
    "\n",
    "X_0 = np.stack(X_0)  \n",
    "X_1 = np.stack(X_1) \n",
    "Y = np.stack(Y)"
   ]
  },
  {
   "cell_type": "code",
   "execution_count": 12,
   "metadata": {},
   "outputs": [
    {
     "name": "stderr",
     "output_type": "stream",
     "text": [
      "  5%|▌         | 43/840 [00:00<00:01, 428.55it/s]/home/fan/anaconda3/envs/cv2/lib/python3.6/site-packages/scipy/ndimage/interpolation.py:583: UserWarning: From scipy 0.13.0, the output shape of zoom() is calculated with round() instead of int() - for these inputs the size of the returned array has changed.\n",
      "  \"the returned array has changed.\", UserWarning)\n",
      "100%|██████████| 840/840 [00:01<00:00, 430.92it/s]\n"
     ]
    }
   ],
   "source": [
    "X_test_0 = []\n",
    "X_test_1 = []\n",
    "Y_test = []\n",
    "for i in tqdm(range(len(Test['pose']))): \n",
    "    p = np.copy(Test['pose'][i]).reshape([-1,22,3])[:,C.joint_ind,:]\n",
    "    p = zoom(p,target_l=C.frame_l,joints_num=C.joint_n,joints_dim=C.joint_d)\n",
    "    p = normlize_range(p)\n",
    "    \n",
    "    label = np.zeros(C.clc_fine)\n",
    "    label[Test['fine_label'][i]-1] = 1   \n",
    "\n",
    "    M = get_CG(p,C)\n",
    "\n",
    "    X_test_0.append(M)\n",
    "    X_test_1.append(p)\n",
    "    Y_test.append(label)\n",
    "\n",
    "X_test_0 = np.stack(X_test_0) \n",
    "X_test_1 = np.stack(X_test_1)  \n",
    "Y_test = np.stack(Y_test)"
   ]
  },
  {
   "cell_type": "code",
   "execution_count": 13,
   "metadata": {
    "scrolled": true
   },
   "outputs": [
    {
     "name": "stdout",
     "output_type": "stream",
     "text": [
      "Train on 1960 samples, validate on 840 samples\n",
      "Epoch 1/400\n",
      "1960/1960 [==============================] - 7s 3ms/step - loss: 3.8661 - acc: 0.0281 - val_loss: 3.2134 - val_acc: 0.0750\n",
      "Epoch 2/400\n",
      "1960/1960 [==============================] - 0s 51us/step - loss: 3.6372 - acc: 0.0454 - val_loss: 3.0647 - val_acc: 0.1274\n",
      "Epoch 3/400\n",
      "1960/1960 [==============================] - 0s 49us/step - loss: 3.4359 - acc: 0.0689 - val_loss: 2.9463 - val_acc: 0.1595\n",
      "Epoch 4/400\n",
      "1960/1960 [==============================] - 0s 50us/step - loss: 3.2918 - acc: 0.0918 - val_loss: 2.8510 - val_acc: 0.1762\n",
      "Epoch 5/400\n",
      "1960/1960 [==============================] - 0s 43us/step - loss: 3.1927 - acc: 0.1077 - val_loss: 2.7632 - val_acc: 0.2083\n",
      "Epoch 6/400\n",
      "1960/1960 [==============================] - 0s 49us/step - loss: 3.0776 - acc: 0.1240 - val_loss: 2.6663 - val_acc: 0.2333\n",
      "Epoch 7/400\n",
      "1960/1960 [==============================] - 0s 51us/step - loss: 2.9831 - acc: 0.1413 - val_loss: 2.5644 - val_acc: 0.2726\n",
      "Epoch 8/400\n",
      "1960/1960 [==============================] - 0s 49us/step - loss: 2.8247 - acc: 0.1883 - val_loss: 2.4473 - val_acc: 0.3143\n",
      "Epoch 9/400\n",
      "1960/1960 [==============================] - 0s 43us/step - loss: 2.7635 - acc: 0.1913 - val_loss: 2.3307 - val_acc: 0.3464\n",
      "Epoch 10/400\n",
      "1960/1960 [==============================] - 0s 42us/step - loss: 2.6888 - acc: 0.2184 - val_loss: 2.2125 - val_acc: 0.3750\n",
      "Epoch 11/400\n",
      "1960/1960 [==============================] - 0s 49us/step - loss: 2.5846 - acc: 0.2444 - val_loss: 2.1113 - val_acc: 0.3869\n",
      "Epoch 12/400\n",
      "1960/1960 [==============================] - 0s 46us/step - loss: 2.5314 - acc: 0.2551 - val_loss: 2.0350 - val_acc: 0.3976\n",
      "Epoch 13/400\n",
      "1960/1960 [==============================] - 0s 48us/step - loss: 2.4116 - acc: 0.3056 - val_loss: 1.9792 - val_acc: 0.4012\n",
      "Epoch 14/400\n",
      "1960/1960 [==============================] - 0s 40us/step - loss: 2.3478 - acc: 0.3163 - val_loss: 1.9389 - val_acc: 0.4155\n",
      "Epoch 15/400\n",
      "1960/1960 [==============================] - 0s 44us/step - loss: 2.2816 - acc: 0.3378 - val_loss: 1.9017 - val_acc: 0.4179\n",
      "Epoch 16/400\n",
      "1960/1960 [==============================] - 0s 46us/step - loss: 2.2212 - acc: 0.3551 - val_loss: 1.8677 - val_acc: 0.4238\n",
      "Epoch 17/400\n",
      "1960/1960 [==============================] - 0s 41us/step - loss: 2.1421 - acc: 0.3781 - val_loss: 1.8417 - val_acc: 0.4226\n",
      "Epoch 18/400\n",
      "1960/1960 [==============================] - 0s 44us/step - loss: 2.0621 - acc: 0.3959 - val_loss: 1.8185 - val_acc: 0.4250\n",
      "Epoch 19/400\n",
      "1960/1960 [==============================] - 0s 42us/step - loss: 2.0021 - acc: 0.4209 - val_loss: 1.8040 - val_acc: 0.4226\n",
      "Epoch 20/400\n",
      "1960/1960 [==============================] - 0s 48us/step - loss: 1.9531 - acc: 0.4148 - val_loss: 1.8070 - val_acc: 0.4155\n",
      "Epoch 21/400\n",
      "1960/1960 [==============================] - 0s 48us/step - loss: 1.8826 - acc: 0.4383 - val_loss: 1.8262 - val_acc: 0.4107\n",
      "Epoch 22/400\n",
      "1960/1960 [==============================] - 0s 51us/step - loss: 1.8126 - acc: 0.4770 - val_loss: 1.8537 - val_acc: 0.3881\n",
      "Epoch 23/400\n",
      "1960/1960 [==============================] - 0s 50us/step - loss: 1.7824 - acc: 0.4796 - val_loss: 1.8757 - val_acc: 0.3857\n",
      "Epoch 24/400\n",
      "1960/1960 [==============================] - 0s 51us/step - loss: 1.7370 - acc: 0.5087 - val_loss: 1.8846 - val_acc: 0.3798\n",
      "Epoch 25/400\n",
      "1960/1960 [==============================] - 0s 49us/step - loss: 1.6769 - acc: 0.5245 - val_loss: 1.8873 - val_acc: 0.3679\n",
      "Epoch 26/400\n",
      "1960/1960 [==============================] - 0s 45us/step - loss: 1.6466 - acc: 0.5219 - val_loss: 1.8830 - val_acc: 0.3667\n",
      "Epoch 27/400\n",
      "1960/1960 [==============================] - 0s 49us/step - loss: 1.6149 - acc: 0.5270 - val_loss: 1.8818 - val_acc: 0.3655\n",
      "Epoch 28/400\n",
      "1960/1960 [==============================] - 0s 47us/step - loss: 1.5518 - acc: 0.5515 - val_loss: 1.8584 - val_acc: 0.3774\n",
      "Epoch 29/400\n",
      "1960/1960 [==============================] - 0s 49us/step - loss: 1.5029 - acc: 0.5821 - val_loss: 1.8268 - val_acc: 0.3821\n",
      "Epoch 30/400\n",
      "1960/1960 [==============================] - 0s 44us/step - loss: 1.4533 - acc: 0.5888 - val_loss: 1.7998 - val_acc: 0.3952\n",
      "Epoch 31/400\n",
      "1960/1960 [==============================] - 0s 49us/step - loss: 1.4344 - acc: 0.5980 - val_loss: 1.7824 - val_acc: 0.3917\n",
      "Epoch 32/400\n",
      "1960/1960 [==============================] - 0s 48us/step - loss: 1.3706 - acc: 0.6051 - val_loss: 1.7759 - val_acc: 0.3917\n",
      "Epoch 33/400\n",
      "1960/1960 [==============================] - 0s 50us/step - loss: 1.3401 - acc: 0.6224 - val_loss: 1.8008 - val_acc: 0.3940\n",
      "Epoch 34/400\n",
      "1960/1960 [==============================] - 0s 47us/step - loss: 1.3353 - acc: 0.6199 - val_loss: 1.8330 - val_acc: 0.3893\n",
      "Epoch 35/400\n",
      "1960/1960 [==============================] - 0s 49us/step - loss: 1.2730 - acc: 0.6423 - val_loss: 1.8611 - val_acc: 0.3857\n",
      "Epoch 36/400\n",
      "1960/1960 [==============================] - 0s 40us/step - loss: 1.2219 - acc: 0.6628 - val_loss: 1.8787 - val_acc: 0.3893\n",
      "Epoch 37/400\n",
      "1960/1960 [==============================] - 0s 39us/step - loss: 1.1976 - acc: 0.6796 - val_loss: 1.8982 - val_acc: 0.3952\n",
      "Epoch 38/400\n",
      "1960/1960 [==============================] - 0s 42us/step - loss: 1.1842 - acc: 0.6714 - val_loss: 1.9019 - val_acc: 0.3964\n",
      "Epoch 39/400\n",
      "1960/1960 [==============================] - 0s 47us/step - loss: 1.1169 - acc: 0.7020 - val_loss: 1.9078 - val_acc: 0.3976\n",
      "Epoch 40/400\n",
      "1960/1960 [==============================] - 0s 48us/step - loss: 1.1215 - acc: 0.6969 - val_loss: 1.8805 - val_acc: 0.4012\n",
      "Epoch 41/400\n",
      "1960/1960 [==============================] - 0s 52us/step - loss: 1.0777 - acc: 0.7102 - val_loss: 1.8394 - val_acc: 0.4155\n",
      "Epoch 42/400\n",
      "1960/1960 [==============================] - 0s 49us/step - loss: 1.0619 - acc: 0.7199 - val_loss: 1.8127 - val_acc: 0.4190\n",
      "Epoch 43/400\n",
      "1960/1960 [==============================] - 0s 50us/step - loss: 1.0246 - acc: 0.7163 - val_loss: 1.7540 - val_acc: 0.4274\n",
      "Epoch 44/400\n",
      "1960/1960 [==============================] - 0s 48us/step - loss: 1.0060 - acc: 0.7281 - val_loss: 1.7231 - val_acc: 0.4345\n",
      "Epoch 45/400\n",
      "1960/1960 [==============================] - 0s 49us/step - loss: 0.9633 - acc: 0.7423 - val_loss: 1.7518 - val_acc: 0.4274\n",
      "Epoch 46/400\n",
      "1960/1960 [==============================] - 0s 49us/step - loss: 0.9568 - acc: 0.7536 - val_loss: 1.8028 - val_acc: 0.4274\n",
      "Epoch 47/400\n",
      "1960/1960 [==============================] - 0s 44us/step - loss: 0.9469 - acc: 0.7505 - val_loss: 1.8558 - val_acc: 0.4202\n",
      "Epoch 48/400\n",
      "1960/1960 [==============================] - 0s 50us/step - loss: 0.9253 - acc: 0.7444 - val_loss: 1.8686 - val_acc: 0.4190\n",
      "Epoch 49/400\n",
      "1960/1960 [==============================] - 0s 47us/step - loss: 0.8987 - acc: 0.7694 - val_loss: 1.8583 - val_acc: 0.4298\n",
      "Epoch 50/400\n",
      "1960/1960 [==============================] - 0s 51us/step - loss: 0.8867 - acc: 0.7638 - val_loss: 1.8190 - val_acc: 0.4310\n",
      "Epoch 51/400\n",
      "1960/1960 [==============================] - 0s 47us/step - loss: 0.8352 - acc: 0.7883 - val_loss: 1.7718 - val_acc: 0.4345\n",
      "Epoch 52/400\n",
      "1960/1960 [==============================] - 0s 50us/step - loss: 0.8240 - acc: 0.7862 - val_loss: 1.7318 - val_acc: 0.4488\n",
      "Epoch 53/400\n",
      "1960/1960 [==============================] - 0s 44us/step - loss: 0.8088 - acc: 0.7908 - val_loss: 1.6777 - val_acc: 0.4548\n",
      "Epoch 54/400\n",
      "1960/1960 [==============================] - 0s 52us/step - loss: 0.7886 - acc: 0.8026 - val_loss: 1.6458 - val_acc: 0.4512\n",
      "Epoch 55/400\n",
      "1960/1960 [==============================] - 0s 52us/step - loss: 0.7853 - acc: 0.7913 - val_loss: 1.6155 - val_acc: 0.4536\n",
      "Epoch 56/400\n",
      "1960/1960 [==============================] - 0s 50us/step - loss: 0.7527 - acc: 0.8005 - val_loss: 1.6040 - val_acc: 0.4595\n",
      "Epoch 57/400\n",
      "1960/1960 [==============================] - 0s 45us/step - loss: 0.7240 - acc: 0.8133 - val_loss: 1.6011 - val_acc: 0.4643\n",
      "Epoch 58/400\n",
      "1960/1960 [==============================] - 0s 42us/step - loss: 0.6944 - acc: 0.8240 - val_loss: 1.6022 - val_acc: 0.4655\n",
      "Epoch 59/400\n",
      "1960/1960 [==============================] - 0s 45us/step - loss: 0.6999 - acc: 0.8235 - val_loss: 1.5935 - val_acc: 0.4690\n",
      "Epoch 60/400\n",
      "1960/1960 [==============================] - 0s 48us/step - loss: 0.6688 - acc: 0.8291 - val_loss: 1.5800 - val_acc: 0.4714\n"
     ]
    },
    {
     "name": "stdout",
     "output_type": "stream",
     "text": [
      "Epoch 61/400\n",
      "1960/1960 [==============================] - 0s 51us/step - loss: 0.6699 - acc: 0.8367 - val_loss: 1.5656 - val_acc: 0.4714\n",
      "Epoch 62/400\n",
      "1960/1960 [==============================] - 0s 51us/step - loss: 0.6585 - acc: 0.8367 - val_loss: 1.5508 - val_acc: 0.4774\n",
      "Epoch 63/400\n",
      "1960/1960 [==============================] - 0s 52us/step - loss: 0.6356 - acc: 0.8459 - val_loss: 1.5625 - val_acc: 0.4774\n",
      "Epoch 64/400\n",
      "1960/1960 [==============================] - 0s 44us/step - loss: 0.6180 - acc: 0.8418 - val_loss: 1.5878 - val_acc: 0.4762\n",
      "Epoch 65/400\n",
      "1960/1960 [==============================] - 0s 39us/step - loss: 0.5996 - acc: 0.8464 - val_loss: 1.6558 - val_acc: 0.4643\n",
      "Epoch 66/400\n",
      "1960/1960 [==============================] - 0s 52us/step - loss: 0.6082 - acc: 0.8388 - val_loss: 1.7372 - val_acc: 0.4548\n",
      "Epoch 67/400\n",
      "1960/1960 [==============================] - 0s 47us/step - loss: 0.5792 - acc: 0.8566 - val_loss: 1.8263 - val_acc: 0.4357\n",
      "Epoch 68/400\n",
      "1960/1960 [==============================] - 0s 42us/step - loss: 0.5585 - acc: 0.8602 - val_loss: 1.8905 - val_acc: 0.4286\n",
      "Epoch 69/400\n",
      "1960/1960 [==============================] - 0s 39us/step - loss: 0.5511 - acc: 0.8556 - val_loss: 1.9455 - val_acc: 0.4238\n",
      "Epoch 70/400\n",
      "1960/1960 [==============================] - 0s 41us/step - loss: 0.5599 - acc: 0.8663 - val_loss: 1.9431 - val_acc: 0.4369\n",
      "Epoch 71/400\n",
      "1960/1960 [==============================] - 0s 44us/step - loss: 0.5352 - acc: 0.8694 - val_loss: 1.9672 - val_acc: 0.4417\n",
      "Epoch 72/400\n",
      "1960/1960 [==============================] - 0s 46us/step - loss: 0.5201 - acc: 0.8689 - val_loss: 1.9609 - val_acc: 0.4429\n",
      "Epoch 73/400\n",
      "1960/1960 [==============================] - 0s 41us/step - loss: 0.5110 - acc: 0.8827 - val_loss: 1.9309 - val_acc: 0.4440\n",
      "Epoch 74/400\n",
      "1960/1960 [==============================] - 0s 39us/step - loss: 0.5001 - acc: 0.8755 - val_loss: 1.9257 - val_acc: 0.4429\n",
      "Epoch 75/400\n",
      "1960/1960 [==============================] - 0s 40us/step - loss: 0.5037 - acc: 0.8760 - val_loss: 1.9178 - val_acc: 0.4429\n",
      "Epoch 76/400\n",
      "1960/1960 [==============================] - 0s 42us/step - loss: 0.4783 - acc: 0.8791 - val_loss: 1.9397 - val_acc: 0.4417\n",
      "Epoch 77/400\n",
      "1960/1960 [==============================] - 0s 51us/step - loss: 0.4621 - acc: 0.8878 - val_loss: 1.9199 - val_acc: 0.4393\n",
      "Epoch 78/400\n",
      "1960/1960 [==============================] - 0s 47us/step - loss: 0.4728 - acc: 0.8857 - val_loss: 1.9167 - val_acc: 0.4405\n",
      "Epoch 79/400\n",
      "1960/1960 [==============================] - 0s 51us/step - loss: 0.4714 - acc: 0.8816 - val_loss: 1.8913 - val_acc: 0.4464\n",
      "Epoch 80/400\n",
      "1960/1960 [==============================] - 0s 49us/step - loss: 0.4353 - acc: 0.8934 - val_loss: 1.8744 - val_acc: 0.4512\n",
      "Epoch 81/400\n",
      "1960/1960 [==============================] - 0s 51us/step - loss: 0.4207 - acc: 0.9026 - val_loss: 1.8722 - val_acc: 0.4476\n",
      "Epoch 82/400\n",
      "1960/1960 [==============================] - 0s 44us/step - loss: 0.4042 - acc: 0.9077 - val_loss: 1.8830 - val_acc: 0.4476\n",
      "Epoch 83/400\n",
      "1960/1960 [==============================] - 0s 41us/step - loss: 0.4132 - acc: 0.9056 - val_loss: 1.9559 - val_acc: 0.4405\n",
      "Epoch 84/400\n",
      "1960/1960 [==============================] - 0s 48us/step - loss: 0.4043 - acc: 0.9066 - val_loss: 2.0008 - val_acc: 0.4393\n",
      "Epoch 85/400\n",
      "1960/1960 [==============================] - 0s 38us/step - loss: 0.3963 - acc: 0.9020 - val_loss: 2.0441 - val_acc: 0.4357\n",
      "Epoch 86/400\n",
      "1960/1960 [==============================] - 0s 39us/step - loss: 0.3886 - acc: 0.9036 - val_loss: 2.1037 - val_acc: 0.4333\n",
      "Epoch 87/400\n",
      "1960/1960 [==============================] - 0s 37us/step - loss: 0.3840 - acc: 0.9056 - val_loss: 2.1280 - val_acc: 0.4345\n",
      "Epoch 88/400\n",
      "1960/1960 [==============================] - 0s 41us/step - loss: 0.3791 - acc: 0.9102 - val_loss: 2.1319 - val_acc: 0.4369\n",
      "Epoch 89/400\n",
      "1960/1960 [==============================] - 0s 46us/step - loss: 0.3638 - acc: 0.9153 - val_loss: 2.1239 - val_acc: 0.4357\n",
      "Epoch 90/400\n",
      "1960/1960 [==============================] - 0s 48us/step - loss: 0.3384 - acc: 0.9250 - val_loss: 2.1499 - val_acc: 0.4357\n",
      "Epoch 91/400\n",
      "1960/1960 [==============================] - 0s 39us/step - loss: 0.3484 - acc: 0.9240 - val_loss: 2.1750 - val_acc: 0.4321\n",
      "Epoch 92/400\n",
      "1960/1960 [==============================] - 0s 50us/step - loss: 0.3560 - acc: 0.9122 - val_loss: 2.1505 - val_acc: 0.4393\n",
      "Epoch 93/400\n",
      "1960/1960 [==============================] - 0s 48us/step - loss: 0.3412 - acc: 0.9209 - val_loss: 2.0895 - val_acc: 0.4417\n",
      "Epoch 94/400\n",
      "1960/1960 [==============================] - 0s 43us/step - loss: 0.3188 - acc: 0.9199 - val_loss: 2.0237 - val_acc: 0.4452\n",
      "Epoch 95/400\n",
      "1960/1960 [==============================] - 0s 50us/step - loss: 0.3322 - acc: 0.9184 - val_loss: 1.9451 - val_acc: 0.4512\n",
      "Epoch 96/400\n",
      "1960/1960 [==============================] - 0s 47us/step - loss: 0.3079 - acc: 0.9332 - val_loss: 1.9274 - val_acc: 0.4488\n",
      "Epoch 97/400\n",
      "1960/1960 [==============================] - 0s 49us/step - loss: 0.3093 - acc: 0.9291 - val_loss: 1.9339 - val_acc: 0.4524\n",
      "Epoch 98/400\n",
      "1960/1960 [==============================] - 0s 50us/step - loss: 0.3004 - acc: 0.9270 - val_loss: 1.9868 - val_acc: 0.4464\n",
      "Epoch 99/400\n",
      "1960/1960 [==============================] - 0s 48us/step - loss: 0.3044 - acc: 0.9224 - val_loss: 2.0297 - val_acc: 0.4464\n",
      "Epoch 100/400\n",
      "1960/1960 [==============================] - 0s 51us/step - loss: 0.2814 - acc: 0.9357 - val_loss: 2.0755 - val_acc: 0.4452\n",
      "Epoch 101/400\n",
      "1960/1960 [==============================] - 0s 50us/step - loss: 0.2965 - acc: 0.9332 - val_loss: 2.1472 - val_acc: 0.4417\n",
      "Epoch 102/400\n",
      "1960/1960 [==============================] - 0s 49us/step - loss: 0.2967 - acc: 0.9301 - val_loss: 2.1346 - val_acc: 0.4440\n",
      "Epoch 103/400\n",
      "1960/1960 [==============================] - 0s 51us/step - loss: 0.2776 - acc: 0.9342 - val_loss: 2.1088 - val_acc: 0.4488\n",
      "Epoch 104/400\n",
      "1960/1960 [==============================] - 0s 49us/step - loss: 0.2809 - acc: 0.9321 - val_loss: 2.1353 - val_acc: 0.4452\n",
      "Epoch 105/400\n",
      "1960/1960 [==============================] - 0s 51us/step - loss: 0.2633 - acc: 0.9459 - val_loss: 2.1708 - val_acc: 0.4417\n",
      "Epoch 106/400\n",
      "1960/1960 [==============================] - 0s 51us/step - loss: 0.2564 - acc: 0.9429 - val_loss: 2.1797 - val_acc: 0.4405\n",
      "Epoch 107/400\n",
      "1960/1960 [==============================] - 0s 48us/step - loss: 0.2503 - acc: 0.9485 - val_loss: 2.1019 - val_acc: 0.4512\n",
      "Epoch 108/400\n",
      "1960/1960 [==============================] - 0s 51us/step - loss: 0.2525 - acc: 0.9403 - val_loss: 1.9528 - val_acc: 0.4500\n",
      "Epoch 109/400\n",
      "1960/1960 [==============================] - 0s 48us/step - loss: 0.2441 - acc: 0.9418 - val_loss: 1.8439 - val_acc: 0.4607\n",
      "Epoch 110/400\n",
      "1960/1960 [==============================] - 0s 50us/step - loss: 0.2625 - acc: 0.9398 - val_loss: 1.8278 - val_acc: 0.4607\n",
      "Epoch 111/400\n",
      "1960/1960 [==============================] - 0s 47us/step - loss: 0.2294 - acc: 0.9541 - val_loss: 1.8539 - val_acc: 0.4667\n",
      "Epoch 112/400\n",
      "1960/1960 [==============================] - 0s 45us/step - loss: 0.2481 - acc: 0.9444 - val_loss: 1.8818 - val_acc: 0.4667\n",
      "Epoch 113/400\n",
      "1960/1960 [==============================] - 0s 38us/step - loss: 0.2435 - acc: 0.9439 - val_loss: 1.8885 - val_acc: 0.4726\n",
      "Epoch 114/400\n",
      "1960/1960 [==============================] - 0s 46us/step - loss: 0.2422 - acc: 0.9439 - val_loss: 1.8686 - val_acc: 0.4774\n",
      "Epoch 115/400\n",
      "1960/1960 [==============================] - 0s 43us/step - loss: 0.2247 - acc: 0.9531 - val_loss: 1.8895 - val_acc: 0.4762\n",
      "Epoch 116/400\n",
      "1960/1960 [==============================] - 0s 42us/step - loss: 0.2115 - acc: 0.9602 - val_loss: 1.9803 - val_acc: 0.4667\n",
      "Epoch 117/400\n",
      "1960/1960 [==============================] - 0s 41us/step - loss: 0.2181 - acc: 0.9561 - val_loss: 2.0645 - val_acc: 0.4643\n",
      "Epoch 118/400\n",
      "1960/1960 [==============================] - 0s 42us/step - loss: 0.2119 - acc: 0.9546 - val_loss: 1.9569 - val_acc: 0.4726\n",
      "Epoch 119/400\n",
      "1960/1960 [==============================] - 0s 46us/step - loss: 0.2040 - acc: 0.9566 - val_loss: 1.9191 - val_acc: 0.4750\n",
      "Epoch 120/400\n",
      "1960/1960 [==============================] - 0s 43us/step - loss: 0.1958 - acc: 0.9628 - val_loss: 1.8931 - val_acc: 0.4845\n"
     ]
    },
    {
     "name": "stdout",
     "output_type": "stream",
     "text": [
      "Epoch 121/400\n",
      "1960/1960 [==============================] - 0s 49us/step - loss: 0.1830 - acc: 0.9648 - val_loss: 1.8988 - val_acc: 0.4810\n",
      "Epoch 122/400\n",
      "1960/1960 [==============================] - 0s 52us/step - loss: 0.2002 - acc: 0.9582 - val_loss: 1.8666 - val_acc: 0.4810\n",
      "Epoch 123/400\n",
      "1960/1960 [==============================] - 0s 52us/step - loss: 0.1947 - acc: 0.9541 - val_loss: 1.8684 - val_acc: 0.4786\n",
      "Epoch 124/400\n",
      "1960/1960 [==============================] - 0s 51us/step - loss: 0.1917 - acc: 0.9602 - val_loss: 1.8368 - val_acc: 0.4798\n",
      "Epoch 125/400\n",
      "1960/1960 [==============================] - 0s 49us/step - loss: 0.1776 - acc: 0.9679 - val_loss: 1.7649 - val_acc: 0.4869\n",
      "Epoch 126/400\n",
      "1960/1960 [==============================] - 0s 45us/step - loss: 0.1749 - acc: 0.9704 - val_loss: 1.8003 - val_acc: 0.4821\n",
      "Epoch 127/400\n",
      "1960/1960 [==============================] - 0s 48us/step - loss: 0.1832 - acc: 0.9628 - val_loss: 1.8535 - val_acc: 0.4810\n",
      "Epoch 128/400\n",
      "1960/1960 [==============================] - 0s 47us/step - loss: 0.1707 - acc: 0.9658 - val_loss: 1.8954 - val_acc: 0.4762\n",
      "Epoch 129/400\n",
      "1960/1960 [==============================] - 0s 44us/step - loss: 0.1831 - acc: 0.9597 - val_loss: 2.0114 - val_acc: 0.4667\n",
      "Epoch 130/400\n",
      "1960/1960 [==============================] - 0s 45us/step - loss: 0.1652 - acc: 0.9684 - val_loss: 2.0227 - val_acc: 0.4690\n",
      "Epoch 131/400\n",
      "1960/1960 [==============================] - 0s 49us/step - loss: 0.1629 - acc: 0.9689 - val_loss: 1.8809 - val_acc: 0.4869\n",
      "Epoch 132/400\n",
      "1960/1960 [==============================] - 0s 45us/step - loss: 0.1680 - acc: 0.9689 - val_loss: 1.7777 - val_acc: 0.5131\n",
      "Epoch 133/400\n",
      "1960/1960 [==============================] - 0s 48us/step - loss: 0.1492 - acc: 0.9740 - val_loss: 1.7536 - val_acc: 0.5190\n",
      "Epoch 134/400\n",
      "1960/1960 [==============================] - 0s 46us/step - loss: 0.1534 - acc: 0.9673 - val_loss: 1.7724 - val_acc: 0.5095\n",
      "Epoch 135/400\n",
      "1960/1960 [==============================] - 0s 50us/step - loss: 0.1663 - acc: 0.9653 - val_loss: 1.6296 - val_acc: 0.5345\n",
      "Epoch 136/400\n",
      "1960/1960 [==============================] - 0s 44us/step - loss: 0.1521 - acc: 0.9735 - val_loss: 1.5582 - val_acc: 0.5429\n",
      "Epoch 137/400\n",
      "1960/1960 [==============================] - 0s 44us/step - loss: 0.1544 - acc: 0.9694 - val_loss: 1.4819 - val_acc: 0.5702\n",
      "Epoch 138/400\n",
      "1960/1960 [==============================] - 0s 41us/step - loss: 0.1486 - acc: 0.9673 - val_loss: 1.5071 - val_acc: 0.5702\n",
      "Epoch 139/400\n",
      "1960/1960 [==============================] - 0s 40us/step - loss: 0.1429 - acc: 0.9755 - val_loss: 1.5436 - val_acc: 0.5607\n",
      "Epoch 140/400\n",
      "1960/1960 [==============================] - 0s 38us/step - loss: 0.1424 - acc: 0.9740 - val_loss: 1.6920 - val_acc: 0.5381\n",
      "Epoch 141/400\n",
      "1960/1960 [==============================] - 0s 40us/step - loss: 0.1303 - acc: 0.9786 - val_loss: 1.6355 - val_acc: 0.5417\n",
      "Epoch 142/400\n",
      "1960/1960 [==============================] - 0s 46us/step - loss: 0.1370 - acc: 0.9735 - val_loss: 1.6230 - val_acc: 0.5381\n",
      "Epoch 143/400\n",
      "1960/1960 [==============================] - 0s 42us/step - loss: 0.1394 - acc: 0.9704 - val_loss: 1.6247 - val_acc: 0.5286\n",
      "Epoch 144/400\n",
      "1960/1960 [==============================] - 0s 40us/step - loss: 0.1440 - acc: 0.9714 - val_loss: 1.7634 - val_acc: 0.5107\n",
      "Epoch 145/400\n",
      "1960/1960 [==============================] - 0s 51us/step - loss: 0.1361 - acc: 0.9755 - val_loss: 1.9405 - val_acc: 0.4893\n",
      "Epoch 146/400\n",
      "1960/1960 [==============================] - 0s 51us/step - loss: 0.1353 - acc: 0.9791 - val_loss: 1.9921 - val_acc: 0.4869\n",
      "Epoch 147/400\n",
      "1960/1960 [==============================] - 0s 40us/step - loss: 0.1261 - acc: 0.9765 - val_loss: 1.9959 - val_acc: 0.4940\n",
      "Epoch 148/400\n",
      "1960/1960 [==============================] - 0s 52us/step - loss: 0.1230 - acc: 0.9765 - val_loss: 1.9250 - val_acc: 0.5012\n",
      "Epoch 149/400\n",
      "1960/1960 [==============================] - 0s 46us/step - loss: 0.1221 - acc: 0.9796 - val_loss: 1.7905 - val_acc: 0.5274\n",
      "Epoch 150/400\n",
      "1960/1960 [==============================] - 0s 40us/step - loss: 0.1207 - acc: 0.9786 - val_loss: 1.7522 - val_acc: 0.5369\n",
      "Epoch 151/400\n",
      "1960/1960 [==============================] - 0s 38us/step - loss: 0.1346 - acc: 0.9735 - val_loss: 1.7266 - val_acc: 0.5298\n",
      "Epoch 152/400\n",
      "1960/1960 [==============================] - 0s 40us/step - loss: 0.1160 - acc: 0.9801 - val_loss: 1.7434 - val_acc: 0.5190\n",
      "Epoch 153/400\n",
      "1960/1960 [==============================] - 0s 41us/step - loss: 0.1226 - acc: 0.9745 - val_loss: 1.8325 - val_acc: 0.5131\n",
      "Epoch 154/400\n",
      "1960/1960 [==============================] - 0s 42us/step - loss: 0.1138 - acc: 0.9816 - val_loss: 1.9426 - val_acc: 0.5036\n",
      "Epoch 155/400\n",
      "1960/1960 [==============================] - 0s 42us/step - loss: 0.1288 - acc: 0.9755 - val_loss: 1.9930 - val_acc: 0.5012\n",
      "Epoch 156/400\n",
      "1960/1960 [==============================] - 0s 50us/step - loss: 0.1111 - acc: 0.9827 - val_loss: 2.0295 - val_acc: 0.5048\n",
      "Epoch 157/400\n",
      "1960/1960 [==============================] - 0s 42us/step - loss: 0.1143 - acc: 0.9770 - val_loss: 2.1440 - val_acc: 0.5024\n",
      "Epoch 158/400\n",
      "1960/1960 [==============================] - 0s 44us/step - loss: 0.1203 - acc: 0.9765 - val_loss: 2.1878 - val_acc: 0.5083\n",
      "Epoch 159/400\n",
      "1960/1960 [==============================] - 0s 45us/step - loss: 0.1082 - acc: 0.9801 - val_loss: 2.1293 - val_acc: 0.5095\n",
      "Epoch 160/400\n",
      "1960/1960 [==============================] - 0s 48us/step - loss: 0.1055 - acc: 0.9827 - val_loss: 2.0184 - val_acc: 0.5131\n",
      "Epoch 161/400\n",
      "1960/1960 [==============================] - 0s 42us/step - loss: 0.1085 - acc: 0.9755 - val_loss: 1.8620 - val_acc: 0.5310\n",
      "Epoch 162/400\n",
      "1960/1960 [==============================] - 0s 52us/step - loss: 0.1105 - acc: 0.9796 - val_loss: 1.6895 - val_acc: 0.5452\n",
      "Epoch 163/400\n",
      "1960/1960 [==============================] - 0s 48us/step - loss: 0.1077 - acc: 0.9796 - val_loss: 1.5896 - val_acc: 0.5607\n",
      "Epoch 164/400\n",
      "1960/1960 [==============================] - 0s 46us/step - loss: 0.1030 - acc: 0.9827 - val_loss: 1.4880 - val_acc: 0.5750\n",
      "Epoch 165/400\n",
      "1960/1960 [==============================] - 0s 53us/step - loss: 0.0948 - acc: 0.9852 - val_loss: 1.3759 - val_acc: 0.5929\n",
      "Epoch 166/400\n",
      "1960/1960 [==============================] - 0s 48us/step - loss: 0.1044 - acc: 0.9816 - val_loss: 1.2848 - val_acc: 0.6190\n",
      "Epoch 167/400\n",
      "1960/1960 [==============================] - 0s 49us/step - loss: 0.0988 - acc: 0.9821 - val_loss: 1.2255 - val_acc: 0.6429\n",
      "Epoch 168/400\n",
      "1960/1960 [==============================] - 0s 41us/step - loss: 0.1105 - acc: 0.9730 - val_loss: 1.1744 - val_acc: 0.6643\n",
      "Epoch 169/400\n",
      "1960/1960 [==============================] - 0s 40us/step - loss: 0.0891 - acc: 0.9883 - val_loss: 1.2063 - val_acc: 0.6571\n",
      "Epoch 170/400\n",
      "1960/1960 [==============================] - 0s 49us/step - loss: 0.0972 - acc: 0.9811 - val_loss: 1.3058 - val_acc: 0.6381\n",
      "Epoch 171/400\n",
      "1960/1960 [==============================] - 0s 48us/step - loss: 0.0903 - acc: 0.9837 - val_loss: 1.3576 - val_acc: 0.6155\n",
      "Epoch 172/400\n",
      "1960/1960 [==============================] - 0s 51us/step - loss: 0.0867 - acc: 0.9888 - val_loss: 1.5141 - val_acc: 0.5833\n",
      "Epoch 173/400\n",
      "1960/1960 [==============================] - 0s 47us/step - loss: 0.0960 - acc: 0.9852 - val_loss: 1.6131 - val_acc: 0.5512\n",
      "Epoch 174/400\n",
      "1960/1960 [==============================] - 0s 54us/step - loss: 0.0867 - acc: 0.9883 - val_loss: 1.6273 - val_acc: 0.5488\n",
      "Epoch 175/400\n",
      "1960/1960 [==============================] - 0s 59us/step - loss: 0.0925 - acc: 0.9852 - val_loss: 1.5149 - val_acc: 0.5679\n",
      "Epoch 176/400\n",
      "1960/1960 [==============================] - 0s 53us/step - loss: 0.1005 - acc: 0.9765 - val_loss: 1.3232 - val_acc: 0.6143\n",
      "Epoch 177/400\n",
      "1960/1960 [==============================] - 0s 47us/step - loss: 0.0984 - acc: 0.9796 - val_loss: 1.1080 - val_acc: 0.6869\n",
      "Epoch 178/400\n",
      "1960/1960 [==============================] - 0s 53us/step - loss: 0.1014 - acc: 0.9816 - val_loss: 0.9996 - val_acc: 0.7238\n",
      "Epoch 179/400\n",
      "1960/1960 [==============================] - 0s 45us/step - loss: 0.0787 - acc: 0.9888 - val_loss: 0.9256 - val_acc: 0.7512\n",
      "Epoch 180/400\n",
      "1960/1960 [==============================] - 0s 45us/step - loss: 0.0845 - acc: 0.9872 - val_loss: 0.9058 - val_acc: 0.7595\n"
     ]
    },
    {
     "name": "stdout",
     "output_type": "stream",
     "text": [
      "Epoch 181/400\n",
      "1960/1960 [==============================] - 0s 48us/step - loss: 0.0756 - acc: 0.9893 - val_loss: 0.9320 - val_acc: 0.7512\n",
      "Epoch 182/400\n",
      "1960/1960 [==============================] - 0s 39us/step - loss: 0.0862 - acc: 0.9867 - val_loss: 1.0260 - val_acc: 0.7238\n",
      "Epoch 183/400\n",
      "1960/1960 [==============================] - 0s 42us/step - loss: 0.0850 - acc: 0.9883 - val_loss: 1.1501 - val_acc: 0.6821\n",
      "Epoch 184/400\n",
      "1960/1960 [==============================] - 0s 48us/step - loss: 0.0883 - acc: 0.9816 - val_loss: 1.2532 - val_acc: 0.6476\n",
      "Epoch 185/400\n",
      "1960/1960 [==============================] - 0s 46us/step - loss: 0.0776 - acc: 0.9852 - val_loss: 1.3854 - val_acc: 0.6179\n",
      "Epoch 186/400\n",
      "1960/1960 [==============================] - 0s 47us/step - loss: 0.0786 - acc: 0.9872 - val_loss: 1.3616 - val_acc: 0.6238\n",
      "Epoch 187/400\n",
      "1960/1960 [==============================] - 0s 57us/step - loss: 0.0933 - acc: 0.9816 - val_loss: 1.3292 - val_acc: 0.6286\n",
      "Epoch 188/400\n",
      "1960/1960 [==============================] - 0s 52us/step - loss: 0.0857 - acc: 0.9852 - val_loss: 1.2424 - val_acc: 0.6548\n",
      "Epoch 189/400\n",
      "1960/1960 [==============================] - 0s 45us/step - loss: 0.0789 - acc: 0.9857 - val_loss: 1.1336 - val_acc: 0.6976\n",
      "Epoch 190/400\n",
      "1960/1960 [==============================] - 0s 42us/step - loss: 0.0712 - acc: 0.9918 - val_loss: 1.0426 - val_acc: 0.7202\n",
      "Epoch 191/400\n",
      "1960/1960 [==============================] - 0s 40us/step - loss: 0.0682 - acc: 0.9908 - val_loss: 0.9397 - val_acc: 0.7571\n",
      "Epoch 192/400\n",
      "1960/1960 [==============================] - 0s 41us/step - loss: 0.0861 - acc: 0.9837 - val_loss: 0.8587 - val_acc: 0.7690\n",
      "Epoch 193/400\n",
      "1960/1960 [==============================] - 0s 43us/step - loss: 0.0758 - acc: 0.9872 - val_loss: 0.8201 - val_acc: 0.7774\n",
      "Epoch 194/400\n",
      "1960/1960 [==============================] - 0s 44us/step - loss: 0.0795 - acc: 0.9862 - val_loss: 0.8035 - val_acc: 0.7821\n",
      "Epoch 195/400\n",
      "1960/1960 [==============================] - 0s 48us/step - loss: 0.0748 - acc: 0.9888 - val_loss: 0.7872 - val_acc: 0.7833\n",
      "Epoch 196/400\n",
      "1960/1960 [==============================] - 0s 51us/step - loss: 0.0799 - acc: 0.9862 - val_loss: 0.7592 - val_acc: 0.7929\n",
      "Epoch 197/400\n",
      "1960/1960 [==============================] - 0s 43us/step - loss: 0.0771 - acc: 0.9857 - val_loss: 0.7307 - val_acc: 0.7988\n",
      "Epoch 198/400\n",
      "1960/1960 [==============================] - 0s 41us/step - loss: 0.0843 - acc: 0.9867 - val_loss: 0.6804 - val_acc: 0.8143\n",
      "Epoch 199/400\n",
      "1960/1960 [==============================] - 0s 47us/step - loss: 0.0696 - acc: 0.9903 - val_loss: 0.6490 - val_acc: 0.8250\n",
      "Epoch 200/400\n",
      "1960/1960 [==============================] - 0s 42us/step - loss: 0.0745 - acc: 0.9903 - val_loss: 0.6226 - val_acc: 0.8250\n",
      "Epoch 201/400\n",
      "1960/1960 [==============================] - 0s 54us/step - loss: 0.0748 - acc: 0.9852 - val_loss: 0.6250 - val_acc: 0.8262\n",
      "Epoch 202/400\n",
      "1960/1960 [==============================] - 0s 48us/step - loss: 0.0672 - acc: 0.9913 - val_loss: 0.6335 - val_acc: 0.8262\n",
      "Epoch 203/400\n",
      "1960/1960 [==============================] - 0s 54us/step - loss: 0.0707 - acc: 0.9888 - val_loss: 0.6616 - val_acc: 0.8179\n",
      "Epoch 204/400\n",
      "1960/1960 [==============================] - 0s 47us/step - loss: 0.0792 - acc: 0.9852 - val_loss: 0.6871 - val_acc: 0.8095\n",
      "Epoch 205/400\n",
      "1960/1960 [==============================] - 0s 45us/step - loss: 0.0728 - acc: 0.9888 - val_loss: 0.7310 - val_acc: 0.7976\n",
      "Epoch 206/400\n",
      "1960/1960 [==============================] - 0s 44us/step - loss: 0.0700 - acc: 0.9883 - val_loss: 0.7619 - val_acc: 0.7917\n",
      "Epoch 207/400\n",
      "1960/1960 [==============================] - 0s 47us/step - loss: 0.0715 - acc: 0.9862 - val_loss: 0.7814 - val_acc: 0.7845\n",
      "Epoch 208/400\n",
      "1960/1960 [==============================] - 0s 46us/step - loss: 0.0664 - acc: 0.9898 - val_loss: 0.7842 - val_acc: 0.7845\n",
      "Epoch 209/400\n",
      "1960/1960 [==============================] - 0s 47us/step - loss: 0.0682 - acc: 0.9903 - val_loss: 0.8037 - val_acc: 0.7833\n",
      "Epoch 210/400\n",
      "1960/1960 [==============================] - 0s 49us/step - loss: 0.0708 - acc: 0.9862 - val_loss: 0.8144 - val_acc: 0.7833\n",
      "Epoch 211/400\n",
      "1960/1960 [==============================] - 0s 44us/step - loss: 0.0663 - acc: 0.9923 - val_loss: 0.8275 - val_acc: 0.7810\n",
      "Epoch 212/400\n",
      "1960/1960 [==============================] - 0s 48us/step - loss: 0.0651 - acc: 0.9939 - val_loss: 0.8359 - val_acc: 0.7786\n",
      "Epoch 213/400\n",
      "1960/1960 [==============================] - 0s 51us/step - loss: 0.0678 - acc: 0.9893 - val_loss: 0.8340 - val_acc: 0.7750\n",
      "Epoch 214/400\n",
      "1960/1960 [==============================] - 0s 48us/step - loss: 0.0728 - acc: 0.9872 - val_loss: 0.8168 - val_acc: 0.7798\n",
      "Epoch 215/400\n",
      "1960/1960 [==============================] - 0s 44us/step - loss: 0.0775 - acc: 0.9827 - val_loss: 0.7841 - val_acc: 0.7917\n",
      "Epoch 216/400\n",
      "1960/1960 [==============================] - 0s 42us/step - loss: 0.0703 - acc: 0.9888 - val_loss: 0.7369 - val_acc: 0.8036\n",
      "Epoch 217/400\n",
      "1960/1960 [==============================] - 0s 39us/step - loss: 0.0659 - acc: 0.9923 - val_loss: 0.6954 - val_acc: 0.8131\n",
      "Epoch 218/400\n",
      "1960/1960 [==============================] - 0s 40us/step - loss: 0.0685 - acc: 0.9898 - val_loss: 0.6618 - val_acc: 0.8214\n",
      "Epoch 219/400\n",
      "1960/1960 [==============================] - 0s 44us/step - loss: 0.0617 - acc: 0.9913 - val_loss: 0.6326 - val_acc: 0.8274\n",
      "Epoch 220/400\n",
      "1960/1960 [==============================] - 0s 49us/step - loss: 0.0654 - acc: 0.9888 - val_loss: 0.6063 - val_acc: 0.8417\n",
      "Epoch 221/400\n",
      "1960/1960 [==============================] - 0s 48us/step - loss: 0.0678 - acc: 0.9872 - val_loss: 0.5869 - val_acc: 0.8464\n",
      "Epoch 222/400\n",
      "1960/1960 [==============================] - 0s 49us/step - loss: 0.0654 - acc: 0.9903 - val_loss: 0.5756 - val_acc: 0.8488\n",
      "Epoch 223/400\n",
      "1960/1960 [==============================] - 0s 51us/step - loss: 0.0634 - acc: 0.9893 - val_loss: 0.5709 - val_acc: 0.8512\n",
      "Epoch 224/400\n",
      "1960/1960 [==============================] - 0s 47us/step - loss: 0.0672 - acc: 0.9898 - val_loss: 0.5749 - val_acc: 0.8464\n",
      "Epoch 225/400\n",
      "1960/1960 [==============================] - 0s 46us/step - loss: 0.0659 - acc: 0.9918 - val_loss: 0.5721 - val_acc: 0.8464\n",
      "Epoch 226/400\n",
      "1960/1960 [==============================] - 0s 51us/step - loss: 0.0642 - acc: 0.9898 - val_loss: 0.5812 - val_acc: 0.8440\n",
      "Epoch 227/400\n",
      "1960/1960 [==============================] - 0s 50us/step - loss: 0.0701 - acc: 0.9867 - val_loss: 0.5953 - val_acc: 0.8429\n",
      "Epoch 228/400\n",
      "1960/1960 [==============================] - 0s 50us/step - loss: 0.0678 - acc: 0.9872 - val_loss: 0.6108 - val_acc: 0.8369\n",
      "Epoch 229/400\n",
      "1960/1960 [==============================] - 0s 49us/step - loss: 0.0630 - acc: 0.9918 - val_loss: 0.6186 - val_acc: 0.8333\n",
      "Epoch 230/400\n",
      "1960/1960 [==============================] - 0s 49us/step - loss: 0.0639 - acc: 0.9908 - val_loss: 0.6200 - val_acc: 0.8333\n",
      "Epoch 231/400\n",
      "1960/1960 [==============================] - 0s 51us/step - loss: 0.0667 - acc: 0.9903 - val_loss: 0.6028 - val_acc: 0.8381\n",
      "Epoch 232/400\n",
      "1960/1960 [==============================] - 0s 50us/step - loss: 0.0661 - acc: 0.9908 - val_loss: 0.5943 - val_acc: 0.8381\n",
      "Epoch 233/400\n",
      "1960/1960 [==============================] - 0s 50us/step - loss: 0.0671 - acc: 0.9883 - val_loss: 0.5887 - val_acc: 0.8393\n",
      "Epoch 234/400\n",
      "1960/1960 [==============================] - 0s 42us/step - loss: 0.0576 - acc: 0.9898 - val_loss: 0.5779 - val_acc: 0.8405\n",
      "Epoch 235/400\n",
      "1960/1960 [==============================] - 0s 39us/step - loss: 0.0687 - acc: 0.9908 - val_loss: 0.5747 - val_acc: 0.8417\n",
      "Epoch 236/400\n",
      "1960/1960 [==============================] - 0s 41us/step - loss: 0.0556 - acc: 0.9949 - val_loss: 0.5767 - val_acc: 0.8393\n",
      "Epoch 237/400\n",
      "1960/1960 [==============================] - 0s 48us/step - loss: 0.0598 - acc: 0.9918 - val_loss: 0.5788 - val_acc: 0.8393\n",
      "Epoch 238/400\n",
      "1960/1960 [==============================] - 0s 42us/step - loss: 0.0609 - acc: 0.9929 - val_loss: 0.5720 - val_acc: 0.8405\n",
      "Epoch 239/400\n",
      "1960/1960 [==============================] - 0s 47us/step - loss: 0.0544 - acc: 0.9939 - val_loss: 0.5710 - val_acc: 0.8429\n",
      "Epoch 240/400\n",
      "1960/1960 [==============================] - 0s 47us/step - loss: 0.0639 - acc: 0.9918 - val_loss: 0.5708 - val_acc: 0.8417\n"
     ]
    },
    {
     "name": "stdout",
     "output_type": "stream",
     "text": [
      "Epoch 241/400\n",
      "1960/1960 [==============================] - 0s 48us/step - loss: 0.0603 - acc: 0.9913 - val_loss: 0.5701 - val_acc: 0.8405\n",
      "Epoch 242/400\n",
      "1960/1960 [==============================] - 0s 45us/step - loss: 0.0579 - acc: 0.9913 - val_loss: 0.5705 - val_acc: 0.8417\n",
      "Epoch 243/400\n",
      "1960/1960 [==============================] - 0s 41us/step - loss: 0.0641 - acc: 0.9893 - val_loss: 0.5741 - val_acc: 0.8417\n",
      "Epoch 244/400\n",
      "1960/1960 [==============================] - 0s 38us/step - loss: 0.0646 - acc: 0.9913 - val_loss: 0.5757 - val_acc: 0.8405\n",
      "Epoch 245/400\n",
      "1960/1960 [==============================] - 0s 45us/step - loss: 0.0610 - acc: 0.9913 - val_loss: 0.5732 - val_acc: 0.8417\n",
      "Epoch 246/400\n",
      "1960/1960 [==============================] - 0s 51us/step - loss: 0.0625 - acc: 0.9898 - val_loss: 0.5758 - val_acc: 0.8405\n",
      "Epoch 247/400\n",
      "1960/1960 [==============================] - 0s 46us/step - loss: 0.0600 - acc: 0.9934 - val_loss: 0.5826 - val_acc: 0.8405\n",
      "Epoch 248/400\n",
      "1960/1960 [==============================] - 0s 46us/step - loss: 0.0627 - acc: 0.9908 - val_loss: 0.5900 - val_acc: 0.8381\n",
      "Epoch 249/400\n",
      "1960/1960 [==============================] - 0s 44us/step - loss: 0.0638 - acc: 0.9888 - val_loss: 0.5868 - val_acc: 0.8381\n",
      "Epoch 250/400\n",
      "1960/1960 [==============================] - 0s 41us/step - loss: 0.0634 - acc: 0.9903 - val_loss: 0.5764 - val_acc: 0.8405\n",
      "Epoch 251/400\n",
      "1960/1960 [==============================] - 0s 47us/step - loss: 0.0605 - acc: 0.9923 - val_loss: 0.5647 - val_acc: 0.8417\n",
      "Epoch 252/400\n",
      "1960/1960 [==============================] - 0s 47us/step - loss: 0.0599 - acc: 0.9908 - val_loss: 0.5583 - val_acc: 0.8440\n",
      "Epoch 253/400\n",
      "1960/1960 [==============================] - 0s 47us/step - loss: 0.0591 - acc: 0.9908 - val_loss: 0.5511 - val_acc: 0.8440\n",
      "Epoch 254/400\n",
      "1960/1960 [==============================] - 0s 43us/step - loss: 0.0549 - acc: 0.9929 - val_loss: 0.5442 - val_acc: 0.8476\n",
      "Epoch 255/400\n",
      "1960/1960 [==============================] - 0s 48us/step - loss: 0.0597 - acc: 0.9913 - val_loss: 0.5335 - val_acc: 0.8512\n",
      "Epoch 256/400\n",
      "1960/1960 [==============================] - 0s 50us/step - loss: 0.0629 - acc: 0.9903 - val_loss: 0.5256 - val_acc: 0.8524\n",
      "Epoch 257/400\n",
      "1960/1960 [==============================] - 0s 49us/step - loss: 0.0533 - acc: 0.9929 - val_loss: 0.5202 - val_acc: 0.8524\n",
      "Epoch 258/400\n",
      "1960/1960 [==============================] - 0s 47us/step - loss: 0.0563 - acc: 0.9888 - val_loss: 0.5172 - val_acc: 0.8548\n",
      "Epoch 259/400\n",
      "1960/1960 [==============================] - 0s 42us/step - loss: 0.0632 - acc: 0.9918 - val_loss: 0.5141 - val_acc: 0.8595\n",
      "Epoch 260/400\n",
      "1960/1960 [==============================] - 0s 41us/step - loss: 0.0585 - acc: 0.9929 - val_loss: 0.5131 - val_acc: 0.8607\n",
      "Epoch 261/400\n",
      "1960/1960 [==============================] - 0s 39us/step - loss: 0.0699 - acc: 0.9878 - val_loss: 0.5107 - val_acc: 0.8619\n",
      "Epoch 262/400\n",
      "1960/1960 [==============================] - 0s 48us/step - loss: 0.0604 - acc: 0.9913 - val_loss: 0.5043 - val_acc: 0.8643\n",
      "Epoch 263/400\n",
      "1960/1960 [==============================] - 0s 39us/step - loss: 0.0587 - acc: 0.9898 - val_loss: 0.4985 - val_acc: 0.8643\n",
      "Epoch 264/400\n",
      "1960/1960 [==============================] - 0s 51us/step - loss: 0.0588 - acc: 0.9913 - val_loss: 0.4914 - val_acc: 0.8667\n",
      "Epoch 265/400\n",
      "1960/1960 [==============================] - 0s 46us/step - loss: 0.0628 - acc: 0.9923 - val_loss: 0.4835 - val_acc: 0.8679\n",
      "Epoch 266/400\n",
      "1960/1960 [==============================] - 0s 51us/step - loss: 0.0620 - acc: 0.9878 - val_loss: 0.4759 - val_acc: 0.8679\n",
      "Epoch 267/400\n",
      "1960/1960 [==============================] - 0s 48us/step - loss: 0.0542 - acc: 0.9918 - val_loss: 0.4695 - val_acc: 0.8702\n",
      "Epoch 268/400\n",
      "1960/1960 [==============================] - 0s 51us/step - loss: 0.0630 - acc: 0.9888 - val_loss: 0.4645 - val_acc: 0.8738\n",
      "Epoch 269/400\n",
      "1960/1960 [==============================] - 0s 48us/step - loss: 0.0706 - acc: 0.9888 - val_loss: 0.4605 - val_acc: 0.8750\n",
      "Epoch 270/400\n",
      "1960/1960 [==============================] - 0s 39us/step - loss: 0.0519 - acc: 0.9934 - val_loss: 0.4562 - val_acc: 0.8750\n",
      "Epoch 271/400\n",
      "1960/1960 [==============================] - 0s 40us/step - loss: 0.0605 - acc: 0.9908 - val_loss: 0.4519 - val_acc: 0.8774\n",
      "Epoch 272/400\n",
      "1960/1960 [==============================] - 0s 38us/step - loss: 0.0598 - acc: 0.9872 - val_loss: 0.4498 - val_acc: 0.8786\n",
      "Epoch 273/400\n",
      "1960/1960 [==============================] - 0s 42us/step - loss: 0.0561 - acc: 0.9903 - val_loss: 0.4489 - val_acc: 0.8810\n",
      "Epoch 274/400\n",
      "1960/1960 [==============================] - 0s 40us/step - loss: 0.0657 - acc: 0.9893 - val_loss: 0.4489 - val_acc: 0.8798\n",
      "Epoch 275/400\n",
      "1960/1960 [==============================] - 0s 43us/step - loss: 0.0591 - acc: 0.9898 - val_loss: 0.4488 - val_acc: 0.8798\n",
      "Epoch 276/400\n",
      "1960/1960 [==============================] - 0s 42us/step - loss: 0.0578 - acc: 0.9883 - val_loss: 0.4493 - val_acc: 0.8798\n",
      "Epoch 277/400\n",
      "1960/1960 [==============================] - 0s 50us/step - loss: 0.0595 - acc: 0.9903 - val_loss: 0.4511 - val_acc: 0.8798\n",
      "Epoch 278/400\n",
      "1960/1960 [==============================] - 0s 46us/step - loss: 0.0670 - acc: 0.9883 - val_loss: 0.4516 - val_acc: 0.8786\n",
      "Epoch 279/400\n",
      "1960/1960 [==============================] - 0s 45us/step - loss: 0.0580 - acc: 0.9903 - val_loss: 0.4519 - val_acc: 0.8774\n",
      "Epoch 280/400\n",
      "1960/1960 [==============================] - 0s 42us/step - loss: 0.0602 - acc: 0.9893 - val_loss: 0.4525 - val_acc: 0.8774\n",
      "Epoch 281/400\n",
      "1960/1960 [==============================] - 0s 39us/step - loss: 0.0603 - acc: 0.9918 - val_loss: 0.4540 - val_acc: 0.8762\n",
      "Epoch 282/400\n",
      "1960/1960 [==============================] - 0s 51us/step - loss: 0.0592 - acc: 0.9908 - val_loss: 0.4546 - val_acc: 0.8774\n",
      "Epoch 283/400\n",
      "1960/1960 [==============================] - 0s 46us/step - loss: 0.0523 - acc: 0.9929 - val_loss: 0.4553 - val_acc: 0.8774\n",
      "Epoch 284/400\n",
      "1960/1960 [==============================] - 0s 40us/step - loss: 0.0532 - acc: 0.9918 - val_loss: 0.4552 - val_acc: 0.8774\n",
      "Epoch 285/400\n",
      "1960/1960 [==============================] - 0s 49us/step - loss: 0.0566 - acc: 0.9929 - val_loss: 0.4548 - val_acc: 0.8774\n",
      "Epoch 286/400\n",
      "1960/1960 [==============================] - 0s 38us/step - loss: 0.0605 - acc: 0.9888 - val_loss: 0.4546 - val_acc: 0.8786\n",
      "Epoch 287/400\n",
      "1960/1960 [==============================] - 0s 40us/step - loss: 0.0537 - acc: 0.9959 - val_loss: 0.4544 - val_acc: 0.8786\n",
      "Epoch 288/400\n",
      "1960/1960 [==============================] - 0s 48us/step - loss: 0.0545 - acc: 0.9939 - val_loss: 0.4537 - val_acc: 0.8798\n",
      "Epoch 289/400\n",
      "1960/1960 [==============================] - 0s 48us/step - loss: 0.0634 - acc: 0.9867 - val_loss: 0.4532 - val_acc: 0.8786\n",
      "Epoch 290/400\n",
      "1960/1960 [==============================] - 0s 48us/step - loss: 0.0591 - acc: 0.9934 - val_loss: 0.4526 - val_acc: 0.8786\n",
      "Epoch 291/400\n",
      "1960/1960 [==============================] - 0s 51us/step - loss: 0.0522 - acc: 0.9934 - val_loss: 0.4518 - val_acc: 0.8798\n",
      "Epoch 292/400\n",
      "1960/1960 [==============================] - 0s 48us/step - loss: 0.0581 - acc: 0.9923 - val_loss: 0.4495 - val_acc: 0.8821\n",
      "Epoch 293/400\n",
      "1960/1960 [==============================] - 0s 44us/step - loss: 0.0576 - acc: 0.9913 - val_loss: 0.4468 - val_acc: 0.8857\n",
      "Epoch 294/400\n",
      "1960/1960 [==============================] - 0s 44us/step - loss: 0.0604 - acc: 0.9913 - val_loss: 0.4449 - val_acc: 0.8857\n",
      "Epoch 295/400\n",
      "1960/1960 [==============================] - 0s 45us/step - loss: 0.0562 - acc: 0.9893 - val_loss: 0.4428 - val_acc: 0.8869\n",
      "Epoch 296/400\n",
      "1960/1960 [==============================] - 0s 46us/step - loss: 0.0516 - acc: 0.9934 - val_loss: 0.4411 - val_acc: 0.8881\n",
      "Epoch 297/400\n",
      "1960/1960 [==============================] - 0s 48us/step - loss: 0.0541 - acc: 0.9913 - val_loss: 0.4394 - val_acc: 0.8881\n",
      "Epoch 298/400\n",
      "1960/1960 [==============================] - 0s 41us/step - loss: 0.0579 - acc: 0.9923 - val_loss: 0.4382 - val_acc: 0.8881\n",
      "Epoch 299/400\n",
      "1960/1960 [==============================] - 0s 47us/step - loss: 0.0546 - acc: 0.9929 - val_loss: 0.4373 - val_acc: 0.8857\n",
      "Epoch 300/400\n",
      "1960/1960 [==============================] - 0s 48us/step - loss: 0.0551 - acc: 0.9913 - val_loss: 0.4367 - val_acc: 0.8857\n"
     ]
    },
    {
     "name": "stdout",
     "output_type": "stream",
     "text": [
      "Epoch 301/400\n",
      "1960/1960 [==============================] - 0s 50us/step - loss: 0.0585 - acc: 0.9923 - val_loss: 0.4362 - val_acc: 0.8857\n",
      "Epoch 302/400\n",
      "1960/1960 [==============================] - 0s 50us/step - loss: 0.0585 - acc: 0.9923 - val_loss: 0.4353 - val_acc: 0.8857\n",
      "Epoch 303/400\n",
      "1960/1960 [==============================] - 0s 48us/step - loss: 0.0578 - acc: 0.9913 - val_loss: 0.4344 - val_acc: 0.8857\n",
      "Epoch 304/400\n",
      "1960/1960 [==============================] - 0s 47us/step - loss: 0.0576 - acc: 0.9908 - val_loss: 0.4336 - val_acc: 0.8857\n",
      "Epoch 305/400\n",
      "1960/1960 [==============================] - 0s 50us/step - loss: 0.0583 - acc: 0.9929 - val_loss: 0.4322 - val_acc: 0.8857\n",
      "Epoch 306/400\n",
      "1960/1960 [==============================] - 0s 51us/step - loss: 0.0593 - acc: 0.9888 - val_loss: 0.4310 - val_acc: 0.8869\n",
      "Epoch 307/400\n",
      "1960/1960 [==============================] - 0s 51us/step - loss: 0.0573 - acc: 0.9923 - val_loss: 0.4298 - val_acc: 0.8893\n",
      "Epoch 308/400\n",
      "1960/1960 [==============================] - 0s 49us/step - loss: 0.0545 - acc: 0.9923 - val_loss: 0.4289 - val_acc: 0.8893\n",
      "Epoch 309/400\n",
      "1960/1960 [==============================] - 0s 50us/step - loss: 0.0518 - acc: 0.9929 - val_loss: 0.4282 - val_acc: 0.8893\n",
      "Epoch 310/400\n",
      "1960/1960 [==============================] - 0s 48us/step - loss: 0.0551 - acc: 0.9923 - val_loss: 0.4275 - val_acc: 0.8893\n",
      "Epoch 311/400\n",
      "1960/1960 [==============================] - 0s 51us/step - loss: 0.0523 - acc: 0.9913 - val_loss: 0.4267 - val_acc: 0.8893\n",
      "Epoch 312/400\n",
      "1960/1960 [==============================] - 0s 51us/step - loss: 0.0589 - acc: 0.9903 - val_loss: 0.4261 - val_acc: 0.8929\n",
      "Epoch 313/400\n",
      "1960/1960 [==============================] - 0s 51us/step - loss: 0.0528 - acc: 0.9944 - val_loss: 0.4255 - val_acc: 0.8964\n",
      "Epoch 314/400\n",
      "1960/1960 [==============================] - 0s 50us/step - loss: 0.0651 - acc: 0.9903 - val_loss: 0.4248 - val_acc: 0.8952\n",
      "Epoch 315/400\n",
      "1960/1960 [==============================] - 0s 51us/step - loss: 0.0610 - acc: 0.9867 - val_loss: 0.4243 - val_acc: 0.8952\n",
      "Epoch 316/400\n",
      "1960/1960 [==============================] - 0s 48us/step - loss: 0.0577 - acc: 0.9918 - val_loss: 0.4240 - val_acc: 0.8952\n",
      "Epoch 317/400\n",
      "1960/1960 [==============================] - 0s 45us/step - loss: 0.0556 - acc: 0.9913 - val_loss: 0.4237 - val_acc: 0.8964\n",
      "Epoch 318/400\n",
      "1960/1960 [==============================] - 0s 43us/step - loss: 0.0554 - acc: 0.9929 - val_loss: 0.4236 - val_acc: 0.8964\n",
      "Epoch 319/400\n",
      "1960/1960 [==============================] - 0s 43us/step - loss: 0.0525 - acc: 0.9939 - val_loss: 0.4237 - val_acc: 0.8964\n",
      "Epoch 320/400\n",
      "1960/1960 [==============================] - 0s 42us/step - loss: 0.0520 - acc: 0.9934 - val_loss: 0.4238 - val_acc: 0.8964\n",
      "Epoch 321/400\n",
      "1960/1960 [==============================] - 0s 48us/step - loss: 0.0514 - acc: 0.9923 - val_loss: 0.4239 - val_acc: 0.8964\n",
      "Epoch 322/400\n",
      "1960/1960 [==============================] - 0s 42us/step - loss: 0.0536 - acc: 0.9923 - val_loss: 0.4239 - val_acc: 0.8964\n",
      "Epoch 323/400\n",
      "1960/1960 [==============================] - 0s 41us/step - loss: 0.0542 - acc: 0.9913 - val_loss: 0.4240 - val_acc: 0.8964\n",
      "Epoch 324/400\n",
      "1960/1960 [==============================] - 0s 44us/step - loss: 0.0548 - acc: 0.9888 - val_loss: 0.4240 - val_acc: 0.8964\n",
      "Epoch 325/400\n",
      "1960/1960 [==============================] - 0s 50us/step - loss: 0.0577 - acc: 0.9923 - val_loss: 0.4239 - val_acc: 0.8988\n",
      "Epoch 326/400\n",
      "1960/1960 [==============================] - 0s 45us/step - loss: 0.0580 - acc: 0.9923 - val_loss: 0.4235 - val_acc: 0.9000\n",
      "Epoch 327/400\n",
      "1960/1960 [==============================] - 0s 49us/step - loss: 0.0623 - acc: 0.9872 - val_loss: 0.4234 - val_acc: 0.9000\n",
      "Epoch 328/400\n",
      "1960/1960 [==============================] - 0s 51us/step - loss: 0.0508 - acc: 0.9934 - val_loss: 0.4232 - val_acc: 0.8988\n",
      "Epoch 329/400\n",
      "1960/1960 [==============================] - 0s 49us/step - loss: 0.0593 - acc: 0.9929 - val_loss: 0.4231 - val_acc: 0.9000\n",
      "Epoch 330/400\n",
      "1960/1960 [==============================] - 0s 50us/step - loss: 0.0600 - acc: 0.9903 - val_loss: 0.4230 - val_acc: 0.9024\n",
      "Epoch 331/400\n",
      "1960/1960 [==============================] - 0s 48us/step - loss: 0.0518 - acc: 0.9923 - val_loss: 0.4230 - val_acc: 0.9024\n",
      "Epoch 332/400\n",
      "1960/1960 [==============================] - 0s 49us/step - loss: 0.0552 - acc: 0.9934 - val_loss: 0.4230 - val_acc: 0.9024\n",
      "Epoch 333/400\n",
      "1960/1960 [==============================] - 0s 44us/step - loss: 0.0495 - acc: 0.9923 - val_loss: 0.4230 - val_acc: 0.9024\n",
      "Epoch 334/400\n",
      "1960/1960 [==============================] - 0s 41us/step - loss: 0.0586 - acc: 0.9908 - val_loss: 0.4231 - val_acc: 0.9024\n",
      "Epoch 335/400\n",
      "1960/1960 [==============================] - 0s 43us/step - loss: 0.0525 - acc: 0.9929 - val_loss: 0.4230 - val_acc: 0.9024\n",
      "Epoch 336/400\n",
      "1960/1960 [==============================] - 0s 47us/step - loss: 0.0560 - acc: 0.9918 - val_loss: 0.4229 - val_acc: 0.9024\n",
      "Epoch 337/400\n",
      "1960/1960 [==============================] - 0s 42us/step - loss: 0.0505 - acc: 0.9949 - val_loss: 0.4228 - val_acc: 0.9024\n",
      "Epoch 338/400\n",
      "1960/1960 [==============================] - 0s 38us/step - loss: 0.0517 - acc: 0.9923 - val_loss: 0.4227 - val_acc: 0.9024\n",
      "Epoch 339/400\n",
      "1960/1960 [==============================] - 0s 41us/step - loss: 0.0546 - acc: 0.9913 - val_loss: 0.4226 - val_acc: 0.9012\n",
      "Epoch 340/400\n",
      "1960/1960 [==============================] - 0s 42us/step - loss: 0.0624 - acc: 0.9888 - val_loss: 0.4226 - val_acc: 0.9012\n",
      "Epoch 341/400\n",
      "1960/1960 [==============================] - 0s 47us/step - loss: 0.0527 - acc: 0.9944 - val_loss: 0.4226 - val_acc: 0.9012\n",
      "Epoch 342/400\n",
      "1960/1960 [==============================] - 0s 50us/step - loss: 0.0571 - acc: 0.9903 - val_loss: 0.4226 - val_acc: 0.9012\n",
      "Epoch 343/400\n",
      "1960/1960 [==============================] - 0s 47us/step - loss: 0.0596 - acc: 0.9903 - val_loss: 0.4225 - val_acc: 0.9012\n",
      "Epoch 344/400\n",
      "1960/1960 [==============================] - 0s 50us/step - loss: 0.0559 - acc: 0.9923 - val_loss: 0.4224 - val_acc: 0.9012\n",
      "Epoch 345/400\n",
      "1960/1960 [==============================] - 0s 50us/step - loss: 0.0531 - acc: 0.9918 - val_loss: 0.4223 - val_acc: 0.9012\n",
      "Epoch 346/400\n",
      "1960/1960 [==============================] - 0s 48us/step - loss: 0.0495 - acc: 0.9934 - val_loss: 0.4221 - val_acc: 0.9012\n",
      "Epoch 347/400\n",
      "1960/1960 [==============================] - 0s 42us/step - loss: 0.0539 - acc: 0.9908 - val_loss: 0.4220 - val_acc: 0.9012\n",
      "Epoch 348/400\n",
      "1960/1960 [==============================] - 0s 49us/step - loss: 0.0536 - acc: 0.9918 - val_loss: 0.4219 - val_acc: 0.9024\n",
      "Epoch 349/400\n",
      "1960/1960 [==============================] - 0s 50us/step - loss: 0.0559 - acc: 0.9913 - val_loss: 0.4218 - val_acc: 0.9024\n",
      "Epoch 350/400\n",
      "1960/1960 [==============================] - 0s 46us/step - loss: 0.0488 - acc: 0.9954 - val_loss: 0.4218 - val_acc: 0.9024\n",
      "Epoch 351/400\n",
      "1960/1960 [==============================] - 0s 44us/step - loss: 0.0514 - acc: 0.9908 - val_loss: 0.4217 - val_acc: 0.9024\n",
      "Epoch 352/400\n",
      "1960/1960 [==============================] - 0s 50us/step - loss: 0.0552 - acc: 0.9918 - val_loss: 0.4216 - val_acc: 0.9024\n",
      "Epoch 353/400\n",
      "1960/1960 [==============================] - 0s 48us/step - loss: 0.0535 - acc: 0.9923 - val_loss: 0.4215 - val_acc: 0.9024\n",
      "Epoch 354/400\n",
      "1960/1960 [==============================] - 0s 47us/step - loss: 0.0591 - acc: 0.9918 - val_loss: 0.4215 - val_acc: 0.9024\n",
      "Epoch 355/400\n",
      "1960/1960 [==============================] - 0s 45us/step - loss: 0.0627 - acc: 0.9888 - val_loss: 0.4213 - val_acc: 0.9024\n",
      "Epoch 356/400\n",
      "1960/1960 [==============================] - 0s 50us/step - loss: 0.0535 - acc: 0.9903 - val_loss: 0.4212 - val_acc: 0.9024\n",
      "Epoch 357/400\n",
      "1960/1960 [==============================] - 0s 51us/step - loss: 0.0462 - acc: 0.9964 - val_loss: 0.4212 - val_acc: 0.9024\n",
      "Epoch 358/400\n",
      "1960/1960 [==============================] - 0s 45us/step - loss: 0.0479 - acc: 0.9969 - val_loss: 0.4211 - val_acc: 0.9012\n",
      "Epoch 359/400\n",
      "1960/1960 [==============================] - 0s 46us/step - loss: 0.0558 - acc: 0.9903 - val_loss: 0.4211 - val_acc: 0.9012\n",
      "Epoch 360/400\n",
      "1960/1960 [==============================] - 0s 52us/step - loss: 0.0559 - acc: 0.9898 - val_loss: 0.4211 - val_acc: 0.9012\n"
     ]
    },
    {
     "name": "stdout",
     "output_type": "stream",
     "text": [
      "Epoch 361/400\n",
      "1960/1960 [==============================] - 0s 51us/step - loss: 0.0560 - acc: 0.9939 - val_loss: 0.4212 - val_acc: 0.9012\n",
      "Epoch 362/400\n",
      "1960/1960 [==============================] - 0s 49us/step - loss: 0.0496 - acc: 0.9934 - val_loss: 0.4212 - val_acc: 0.9012\n",
      "Epoch 363/400\n",
      "1960/1960 [==============================] - 0s 49us/step - loss: 0.0586 - acc: 0.9918 - val_loss: 0.4211 - val_acc: 0.9012\n",
      "Epoch 364/400\n",
      "1960/1960 [==============================] - 0s 47us/step - loss: 0.0487 - acc: 0.9944 - val_loss: 0.4212 - val_acc: 0.9012\n",
      "Epoch 365/400\n",
      "1960/1960 [==============================] - 0s 45us/step - loss: 0.0584 - acc: 0.9923 - val_loss: 0.4212 - val_acc: 0.9012\n",
      "Epoch 366/400\n",
      "1960/1960 [==============================] - 0s 50us/step - loss: 0.0528 - acc: 0.9923 - val_loss: 0.4211 - val_acc: 0.9012\n",
      "Epoch 367/400\n",
      "1960/1960 [==============================] - 0s 48us/step - loss: 0.0536 - acc: 0.9934 - val_loss: 0.4211 - val_acc: 0.9012\n",
      "Epoch 368/400\n",
      "1960/1960 [==============================] - 0s 46us/step - loss: 0.0483 - acc: 0.9954 - val_loss: 0.4212 - val_acc: 0.9012\n",
      "Epoch 369/400\n",
      "1960/1960 [==============================] - 0s 47us/step - loss: 0.0508 - acc: 0.9944 - val_loss: 0.4212 - val_acc: 0.9012\n",
      "Epoch 370/400\n",
      "1960/1960 [==============================] - 0s 46us/step - loss: 0.0501 - acc: 0.9918 - val_loss: 0.4212 - val_acc: 0.9012\n",
      "Epoch 371/400\n",
      "1960/1960 [==============================] - 0s 47us/step - loss: 0.0545 - acc: 0.9954 - val_loss: 0.4213 - val_acc: 0.9012\n",
      "Epoch 372/400\n",
      "1960/1960 [==============================] - 0s 48us/step - loss: 0.0555 - acc: 0.9908 - val_loss: 0.4214 - val_acc: 0.9012\n",
      "Epoch 373/400\n",
      "1960/1960 [==============================] - 0s 49us/step - loss: 0.0498 - acc: 0.9939 - val_loss: 0.4216 - val_acc: 0.9012\n",
      "Epoch 374/400\n",
      "1960/1960 [==============================] - 0s 49us/step - loss: 0.0530 - acc: 0.9954 - val_loss: 0.4217 - val_acc: 0.9012\n",
      "Epoch 375/400\n",
      "1960/1960 [==============================] - 0s 40us/step - loss: 0.0538 - acc: 0.9944 - val_loss: 0.4218 - val_acc: 0.9012\n",
      "Epoch 376/400\n",
      "1960/1960 [==============================] - 0s 41us/step - loss: 0.0558 - acc: 0.9918 - val_loss: 0.4220 - val_acc: 0.9024\n",
      "Epoch 377/400\n",
      "1960/1960 [==============================] - 0s 45us/step - loss: 0.0518 - acc: 0.9923 - val_loss: 0.4221 - val_acc: 0.9024\n",
      "Epoch 378/400\n",
      "1960/1960 [==============================] - 0s 48us/step - loss: 0.0573 - acc: 0.9903 - val_loss: 0.4223 - val_acc: 0.9024\n",
      "Epoch 379/400\n",
      "1960/1960 [==============================] - 0s 49us/step - loss: 0.0536 - acc: 0.9929 - val_loss: 0.4224 - val_acc: 0.9024\n",
      "Epoch 380/400\n",
      "1960/1960 [==============================] - 0s 48us/step - loss: 0.0500 - acc: 0.9934 - val_loss: 0.4225 - val_acc: 0.9024\n",
      "Epoch 381/400\n",
      "1960/1960 [==============================] - 0s 49us/step - loss: 0.0465 - acc: 0.9959 - val_loss: 0.4227 - val_acc: 0.9024\n",
      "Epoch 382/400\n",
      "1960/1960 [==============================] - 0s 49us/step - loss: 0.0535 - acc: 0.9918 - val_loss: 0.4228 - val_acc: 0.9024\n",
      "Epoch 383/400\n",
      "1960/1960 [==============================] - 0s 45us/step - loss: 0.0553 - acc: 0.9929 - val_loss: 0.4230 - val_acc: 0.9024\n",
      "Epoch 384/400\n",
      "1960/1960 [==============================] - 0s 45us/step - loss: 0.0510 - acc: 0.9929 - val_loss: 0.4231 - val_acc: 0.9024\n",
      "Epoch 385/400\n",
      "1960/1960 [==============================] - 0s 50us/step - loss: 0.0510 - acc: 0.9964 - val_loss: 0.4233 - val_acc: 0.9024\n",
      "Epoch 386/400\n",
      "1960/1960 [==============================] - 0s 48us/step - loss: 0.0495 - acc: 0.9949 - val_loss: 0.4235 - val_acc: 0.9024\n",
      "Epoch 387/400\n",
      "1960/1960 [==============================] - 0s 46us/step - loss: 0.0536 - acc: 0.9934 - val_loss: 0.4237 - val_acc: 0.9024\n",
      "Epoch 388/400\n",
      "1960/1960 [==============================] - 0s 47us/step - loss: 0.0588 - acc: 0.9888 - val_loss: 0.4239 - val_acc: 0.9024\n",
      "Epoch 389/400\n",
      "1960/1960 [==============================] - 0s 43us/step - loss: 0.0562 - acc: 0.9893 - val_loss: 0.4241 - val_acc: 0.9024\n",
      "Epoch 390/400\n",
      "1960/1960 [==============================] - 0s 47us/step - loss: 0.0533 - acc: 0.9939 - val_loss: 0.4243 - val_acc: 0.9024\n",
      "Epoch 391/400\n",
      "1960/1960 [==============================] - 0s 48us/step - loss: 0.0590 - acc: 0.9918 - val_loss: 0.4244 - val_acc: 0.9000\n",
      "Epoch 392/400\n",
      "1960/1960 [==============================] - 0s 45us/step - loss: 0.0576 - acc: 0.9929 - val_loss: 0.4245 - val_acc: 0.9000\n",
      "Epoch 393/400\n",
      "1960/1960 [==============================] - 0s 47us/step - loss: 0.0522 - acc: 0.9918 - val_loss: 0.4246 - val_acc: 0.9000\n",
      "Epoch 394/400\n",
      "1960/1960 [==============================] - 0s 41us/step - loss: 0.0551 - acc: 0.9903 - val_loss: 0.4247 - val_acc: 0.9036\n",
      "Epoch 395/400\n",
      "1960/1960 [==============================] - 0s 40us/step - loss: 0.0502 - acc: 0.9944 - val_loss: 0.4248 - val_acc: 0.9036\n",
      "Epoch 396/400\n",
      "1960/1960 [==============================] - 0s 43us/step - loss: 0.0478 - acc: 0.9949 - val_loss: 0.4249 - val_acc: 0.9036\n",
      "Epoch 397/400\n",
      "1960/1960 [==============================] - 0s 51us/step - loss: 0.0604 - acc: 0.9908 - val_loss: 0.4250 - val_acc: 0.9036\n",
      "Epoch 398/400\n",
      "1960/1960 [==============================] - 0s 45us/step - loss: 0.0522 - acc: 0.9903 - val_loss: 0.4251 - val_acc: 0.9036\n",
      "Epoch 399/400\n",
      "1960/1960 [==============================] - 0s 50us/step - loss: 0.0580 - acc: 0.9923 - val_loss: 0.4253 - val_acc: 0.9036\n",
      "Epoch 400/400\n",
      "1960/1960 [==============================] - 0s 48us/step - loss: 0.0556 - acc: 0.9908 - val_loss: 0.4255 - val_acc: 0.9024\n"
     ]
    }
   ],
   "source": [
    "import keras\n",
    "lr = 1e-3\n",
    "AR_single.compile(loss=\"categorical_crossentropy\",optimizer=adam(lr),metrics=['accuracy'])\n",
    "lrScheduler = keras.callbacks.ReduceLROnPlateau(monitor='loss', factor=0.8, patience=5, cooldown=5, min_lr=1e-5)\n",
    "history = AR_single.fit([X_0,X_1],Y,\n",
    "        batch_size=len(Y),\n",
    "        epochs=400,\n",
    "        verbose=True,\n",
    "        shuffle=True,\n",
    "        callbacks=[lrScheduler],\n",
    "        validation_data=([X_test_0,X_test_1],Y_test)      \n",
    "        )"
   ]
  },
  {
   "cell_type": "code",
   "execution_count": 24,
   "metadata": {
    "collapsed": true
   },
   "outputs": [],
   "source": [
    "AR_single.save_weights('weights/fine_lite.h5')"
   ]
  },
  {
   "cell_type": "code",
   "execution_count": 15,
   "metadata": {},
   "outputs": [
    {
     "data": {
      "image/png": "[encoded data removed]",
      "text/plain": [
       "<matplotlib.figure.Figure at 0x7f93f0391a58>"
      ]
     },
     "metadata": {},
     "output_type": "display_data"
    }
   ],
   "source": [
    "# Plot training & validation accuracy values\n",
    "plt.plot(history.history['acc'])\n",
    "plt.plot(history.history['val_acc'])\n",
    "plt.title('Model accuracy')\n",
    "plt.ylabel('Accuracy')\n",
    "plt.xlabel('Epoch')\n",
    "plt.legend(['Train', 'Test'], loc='upper left')\n",
    "plt.show()"
   ]
  },
  {
   "cell_type": "markdown",
   "metadata": {},
   "source": [
    "## With frame_sampling"
   ]
  },
  {
   "cell_type": "code",
   "execution_count": 25,
   "metadata": {
    "collapsed": true
   },
   "outputs": [],
   "source": [
    "lr = 2e-6\n",
    "AR_single.compile(loss=\"categorical_crossentropy\",optimizer=adam(lr),metrics=['accuracy'])"
   ]
  },
  {
   "cell_type": "code",
   "execution_count": 26,
   "metadata": {
    "scrolled": true
   },
   "outputs": [
    {
     "name": "stderr",
     "output_type": "stream",
     "text": [
      "  1%|          | 23/1960 [00:00<00:08, 224.76it/s]"
     ]
    },
    {
     "name": "stdout",
     "output_type": "stream",
     "text": [
      "epoch0\n"
     ]
    },
    {
     "name": "stderr",
     "output_type": "stream",
     "text": [
      "/home/fan/anaconda3/envs/cv2/lib/python3.6/site-packages/scipy/ndimage/interpolation.py:583: UserWarning: From scipy 0.13.0, the output shape of zoom() is calculated with round() instead of int() - for these inputs the size of the returned array has changed.\n",
      "  \"the returned array has changed.\", UserWarning)\n",
      "100%|██████████| 1960/1960 [00:05<00:00, 390.29it/s]\n"
     ]
    },
    {
     "name": "stdout",
     "output_type": "stream",
     "text": [
      "Train on 1960 samples, validate on 840 samples\n",
      "Epoch 1/1\n",
      "1960/1960 [==============================] - 4s 2ms/step - loss: 0.0959 - acc: 0.9801 - val_loss: 0.4277 - val_acc: 0.9000\n"
     ]
    },
    {
     "name": "stderr",
     "output_type": "stream",
     "text": [
      "  1%|          | 18/1960 [00:00<00:11, 172.81it/s]"
     ]
    },
    {
     "name": "stdout",
     "output_type": "stream",
     "text": [
      "epoch1\n"
     ]
    },
    {
     "name": "stderr",
     "output_type": "stream",
     "text": [
      "100%|██████████| 1960/1960 [00:05<00:00, 373.95it/s]\n"
     ]
    },
    {
     "name": "stdout",
     "output_type": "stream",
     "text": [
      "Train on 1960 samples, validate on 840 samples\n",
      "Epoch 1/1\n",
      "\r",
      "1960/1960 [==============================] - 0s 42us/step - loss: 0.0829 - acc: 0.9837 - val_loss: 0.4277 - val_acc: 0.9000\n"
     ]
    },
    {
     "name": "stderr",
     "output_type": "stream",
     "text": [
      "  1%|          | 18/1960 [00:00<00:11, 172.67it/s]"
     ]
    },
    {
     "name": "stdout",
     "output_type": "stream",
     "text": [
      "epoch2\n"
     ]
    },
    {
     "name": "stderr",
     "output_type": "stream",
     "text": [
      "100%|██████████| 1960/1960 [00:05<00:00, 386.87it/s]\n"
     ]
    },
    {
     "name": "stdout",
     "output_type": "stream",
     "text": [
      "Train on 1960 samples, validate on 840 samples\n",
      "Epoch 1/1\n",
      "\r",
      "1960/1960 [==============================] - 0s 40us/step - loss: 0.0815 - acc: 0.9821 - val_loss: 0.4277 - val_acc: 0.9000\n"
     ]
    },
    {
     "name": "stderr",
     "output_type": "stream",
     "text": [
      "  2%|▏         | 40/1960 [00:00<00:04, 397.57it/s]"
     ]
    },
    {
     "name": "stdout",
     "output_type": "stream",
     "text": [
      "epoch3\n"
     ]
    },
    {
     "name": "stderr",
     "output_type": "stream",
     "text": [
      "100%|██████████| 1960/1960 [00:04<00:00, 403.01it/s]\n"
     ]
    },
    {
     "name": "stdout",
     "output_type": "stream",
     "text": [
      "Train on 1960 samples, validate on 840 samples\n",
      "Epoch 1/1\n",
      "\r",
      "1960/1960 [==============================] - 0s 40us/step - loss: 0.0928 - acc: 0.9781 - val_loss: 0.4277 - val_acc: 0.9000\n"
     ]
    },
    {
     "name": "stderr",
     "output_type": "stream",
     "text": [
      "  2%|▏         | 41/1960 [00:00<00:04, 400.35it/s]"
     ]
    },
    {
     "name": "stdout",
     "output_type": "stream",
     "text": [
      "epoch4\n"
     ]
    },
    {
     "name": "stderr",
     "output_type": "stream",
     "text": [
      "100%|██████████| 1960/1960 [00:04<00:00, 402.83it/s]\n"
     ]
    },
    {
     "name": "stdout",
     "output_type": "stream",
     "text": [
      "Train on 1960 samples, validate on 840 samples\n",
      "Epoch 1/1\n",
      "\r",
      "1960/1960 [==============================] - 0s 42us/step - loss: 0.0879 - acc: 0.9827 - val_loss: 0.4277 - val_acc: 0.9000\n"
     ]
    },
    {
     "name": "stderr",
     "output_type": "stream",
     "text": [
      "  2%|▏         | 30/1960 [00:00<00:06, 296.93it/s]"
     ]
    },
    {
     "name": "stdout",
     "output_type": "stream",
     "text": [
      "epoch5\n"
     ]
    },
    {
     "name": "stderr",
     "output_type": "stream",
     "text": [
      "100%|██████████| 1960/1960 [00:04<00:00, 402.58it/s]\n"
     ]
    },
    {
     "name": "stdout",
     "output_type": "stream",
     "text": [
      "Train on 1960 samples, validate on 840 samples\n",
      "Epoch 1/1\n",
      "\r",
      "1960/1960 [==============================] - 0s 41us/step - loss: 0.0858 - acc: 0.9842 - val_loss: 0.4278 - val_acc: 0.9000\n"
     ]
    },
    {
     "name": "stderr",
     "output_type": "stream",
     "text": [
      "  2%|▏         | 41/1960 [00:00<00:04, 401.08it/s]"
     ]
    },
    {
     "name": "stdout",
     "output_type": "stream",
     "text": [
      "epoch6\n"
     ]
    },
    {
     "name": "stderr",
     "output_type": "stream",
     "text": [
      "100%|██████████| 1960/1960 [00:04<00:00, 403.83it/s]\n"
     ]
    },
    {
     "name": "stdout",
     "output_type": "stream",
     "text": [
      "Train on 1960 samples, validate on 840 samples\n",
      "Epoch 1/1\n",
      "\r",
      "1960/1960 [==============================] - 0s 41us/step - loss: 0.0921 - acc: 0.9811 - val_loss: 0.4278 - val_acc: 0.9000\n"
     ]
    },
    {
     "name": "stderr",
     "output_type": "stream",
     "text": [
      "  1%|          | 18/1960 [00:00<00:11, 175.30it/s]"
     ]
    },
    {
     "name": "stdout",
     "output_type": "stream",
     "text": [
      "epoch7\n"
     ]
    },
    {
     "name": "stderr",
     "output_type": "stream",
     "text": [
      "100%|██████████| 1960/1960 [00:05<00:00, 380.16it/s]"
     ]
    },
    {
     "name": "stdout",
     "output_type": "stream",
     "text": [
      "Train on 1960 samples, validate on 840 samples\n",
      "Epoch 1/1\n",
      "\r",
      "1960/1960 [==============================] - 0s 38us/step - loss: 0.0886 - acc: 0.9811 - val_loss: 0.4279 - val_acc: 0.9000\n"
     ]
    },
    {
     "name": "stderr",
     "output_type": "stream",
     "text": [
      "\n",
      "  2%|▏         | 37/1960 [00:00<00:05, 360.66it/s]"
     ]
    },
    {
     "name": "stdout",
     "output_type": "stream",
     "text": [
      "epoch8\n"
     ]
    },
    {
     "name": "stderr",
     "output_type": "stream",
     "text": [
      "100%|██████████| 1960/1960 [00:04<00:00, 397.04it/s]\n"
     ]
    },
    {
     "name": "stdout",
     "output_type": "stream",
     "text": [
      "Train on 1960 samples, validate on 840 samples\n",
      "Epoch 1/1\n",
      "\r",
      "1960/1960 [==============================] - 0s 40us/step - loss: 0.0846 - acc: 0.9832 - val_loss: 0.4279 - val_acc: 0.9000\n"
     ]
    },
    {
     "name": "stderr",
     "output_type": "stream",
     "text": [
      "  2%|▏         | 33/1960 [00:00<00:05, 321.96it/s]"
     ]
    },
    {
     "name": "stdout",
     "output_type": "stream",
     "text": [
      "epoch9\n"
     ]
    },
    {
     "name": "stderr",
     "output_type": "stream",
     "text": [
      "100%|██████████| 1960/1960 [00:04<00:00, 402.61it/s]\n"
     ]
    },
    {
     "name": "stdout",
     "output_type": "stream",
     "text": [
      "Train on 1960 samples, validate on 840 samples\n",
      "Epoch 1/1\n",
      "\r",
      "1960/1960 [==============================] - 0s 43us/step - loss: 0.0937 - acc: 0.9796 - val_loss: 0.4280 - val_acc: 0.9000\n"
     ]
    }
   ],
   "source": [
    "epochs = 10\n",
    "for e in range(epochs):\n",
    "    print('epoch{}'.format(e))\n",
    "    X_0 = []\n",
    "    X_1 = []\n",
    "    Y = []\n",
    "    \n",
    "    for i in tqdm(range(len(Train['pose']))): \n",
    "    \n",
    "        label = np.zeros(C.clc_fine)\n",
    "        label[Train['fine_label'][i]-1] = 1 \n",
    "        \n",
    "        p = np.copy(Train['pose'][i]).reshape([-1,22,3])[:,C.joint_ind,:]\n",
    "        p = sampling_frame(p,C)\n",
    "        \n",
    "        #rotation\n",
    "        x_angle = np.random.uniform(-0.1,0.1)\n",
    "        y_angle = np.random.uniform(-0.1,0.1)\n",
    "        z_angle = np.random.uniform(-0.1,0.1)\n",
    "        R = euler2mat(x_angle, y_angle, z_angle, 'sxyz')\n",
    "        p = rotaion_one(p,R)\n",
    "        \n",
    "        p = normlize_range(p)\n",
    "        M = get_CG(p,C)\n",
    "        \n",
    "        X_0.append(M)\n",
    "        X_1.append(p)\n",
    "        Y.append(label)\n",
    "\n",
    "    X_0 = np.stack(X_0)  \n",
    "    X_1 = np.stack(X_1) \n",
    "    Y = np.stack(Y)\n",
    "   \n",
    "\n",
    "    AR_single.fit([X_0,X_1],Y,\n",
    "            batch_size=len(Y),\n",
    "            epochs=1,\n",
    "            verbose=True,\n",
    "            shuffle=True,\n",
    "            validation_data=([X_test_0,X_test_1],Y_test)      \n",
    "            )\n",
    "\n",
    "    if e%10==0:\n",
    "        AR_single.save_weights('weights/fine_lite_aug.h5')\n",
    "        "
   ]
  },
  {
   "cell_type": "code",
   "execution_count": 28,
   "metadata": {},
   "outputs": [
    {
     "data": {
      "image/png": "[encoded data removed]",
      "text/plain": [
       "<matplotlib.figure.Figure at 0x7f9367e9a278>"
      ]
     },
     "metadata": {},
     "output_type": "display_data"
    }
   ],
   "source": [
    "import matplotlib.pyplot as plt\n",
    "from sklearn.metrics import confusion_matrix\n",
    "\n",
    "Y_pred = AR_single.predict([X_test_0,X_test_1])\n",
    "cnf_matrix = confusion_matrix(np.argmax(Y_test,axis=1),np.argmax(Y_pred,axis=1))\n",
    "plt.figure(figsize=(10,10))\n",
    "plt.imshow(cnf_matrix)\n",
    "plt.show()"
   ]
  },
  {
   "cell_type": "code",
   "execution_count": null,
   "metadata": {
    "collapsed": true
   },
   "outputs": [],
   "source": []
  }
 ],
 "metadata": {
  "kernelspec": {
   "display_name": "Python 3",
   "language": "python",
   "name": "python3"
  },
  "language_info": {
   "codemirror_mode": {
    "name": "ipython",
    "version": 3
   },
   "file_extension": ".py",
   "mimetype": "text/x-python",
   "name": "python",
   "nbconvert_exporter": "python",
   "pygments_lexer": "ipython3",
   "version": "3.6.6"
  }
 },
 "nbformat": 4,
 "nbformat_minor": 2
}
