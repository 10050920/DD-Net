{
 "cells": [
  {
   "cell_type": "code",
   "execution_count": 13,
   "metadata": {},
   "outputs": [],
   "source": [
    "import numpy as np\n",
    "import math\n",
    "import random\n",
    "import pandas as pd\n",
    "from tqdm import tqdm"
   ]
  },
  {
   "cell_type": "code",
   "execution_count": 2,
   "metadata": {},
   "outputs": [],
   "source": [
    "def read_train_test_list(path):\n",
    "    lines = []\n",
    "    with open(path) as f:\n",
    "        lines.append(f.readlines())\n",
    "    f.close()\n",
    "    lines = np.hstack(lines)\n",
    "    train = []\n",
    "    test = []\n",
    "    for line in lines[1].split(', '):\n",
    "        train.append(line)\n",
    "    train = np.stack(train)\n",
    "    for line in lines[3].split(', '):\n",
    "        test.append(line)\n",
    "    test = np.stack(test)\n",
    "    return train,test\n",
    "\n",
    "def read_skeleton(path):\n",
    "    lines = []\n",
    "    with open(path) as f:\n",
    "        lines.append(f.readlines())\n",
    "    f.close()\n",
    "    poses = []\n",
    "    for p in lines[0]:\n",
    "        p = p.split('\\n')[0]\n",
    "        p = [float(pose) for pose in p.split(' ')]\n",
    "        p = np.stack(p)\n",
    "        p = p.reshape([-1,3])\n",
    "        poses.append(p)\n",
    "    poses = np.stack(poses)\n",
    "    return poses\n",
    "\n",
    "def read_label(path):\n",
    "    lines = []\n",
    "    labels = []\n",
    "    with open(path) as f:\n",
    "        lines.append(f.readlines())\n",
    "    f.close()\n",
    "    for l in lines[0]:\n",
    "        l = l.split('\\n')[0]\n",
    "        l = [int(label) for label in l.split(',')]\n",
    "        labels.append(l)\n",
    "    return labels"
   ]
  },
  {
   "cell_type": "markdown",
   "metadata": {},
   "source": [
    "## Reading the train list and test list"
   ]
  },
  {
   "cell_type": "code",
   "execution_count": 3,
   "metadata": {},
   "outputs": [],
   "source": [
    "root_dir = '/mnt/nasbi/no-backups/datasets/pose_action/PKUMMD/'\n",
    "split_folder = root_dir+'split/'\n",
    "skeleton_folder = root_dir+'skeleton/'\n",
    "label_folder = root_dir+'label/'"
   ]
  },
  {
   "cell_type": "code",
   "execution_count": 4,
   "metadata": {},
   "outputs": [],
   "source": [
    "cs_path = split_folder+'cross-subject.txt'\n",
    "cv_path = split_folder+'cross-view.txt'\n",
    "\n",
    "cs_train_list, cs_test_list = read_train_test_list(cs_path)\n",
    "cv_train_list, cv_test_list = read_train_test_list(cv_path)"
   ]
  },
  {
   "cell_type": "markdown",
   "metadata": {},
   "source": [
    "## Extracing the poses and save them"
   ]
  },
  {
   "cell_type": "code",
   "execution_count": 14,
   "metadata": {},
   "outputs": [],
   "source": [
    "data_dir = '/home/fan/projects/pose/skeleton/data/PKU/'"
   ]
  },
  {
   "cell_type": "code",
   "execution_count": 8,
   "metadata": {},
   "outputs": [
    {
     "name": "stderr",
     "output_type": "stream",
     "text": [
      "100%|██████████| 944/944 [27:19<00:00,  1.83s/it]\n"
     ]
    }
   ],
   "source": [
    "cs_train_poses = pd.Series()\n",
    "with tqdm(total=len(cs_train_list)-1) as pbar:\n",
    "    for f in cs_train_list[:-1]: \n",
    "        cs_train_poses[f] = read_skeleton(skeleton_folder+f+'.txt')\n",
    "        pbar.update(1)\n",
    "\n",
    "cs_train_poses.to_pickle(data_dir+'cs_train_poses.pkl',compression='gzip')"
   ]
  },
  {
   "cell_type": "code",
   "execution_count": 9,
   "metadata": {},
   "outputs": [
    {
     "name": "stderr",
     "output_type": "stream",
     "text": [
      "100%|██████████| 131/131 [04:17<00:00,  2.52s/it]\n"
     ]
    }
   ],
   "source": [
    "cs_test_poses = pd.Series()\n",
    "with tqdm(total=len(cs_test_list)-1) as pbar:\n",
    "    for f in cs_test_list[:-1]: \n",
    "        cs_test_poses[f] = read_skeleton(skeleton_folder+f+'.txt')\n",
    "        pbar.update(1)\n",
    "\n",
    "cs_test_poses.to_pickle(data_dir+'cs_test_poses.pkl',compression='gzip')    "
   ]
  },
  {
   "cell_type": "code",
   "execution_count": 10,
   "metadata": {},
   "outputs": [
    {
     "name": "stderr",
     "output_type": "stream",
     "text": [
      "100%|██████████| 717/717 [21:47<00:00,  1.75s/it]\n"
     ]
    }
   ],
   "source": [
    "cv_train_poses = pd.Series()\n",
    "with tqdm(total=len(cv_train_list)-1) as pbar:\n",
    "    for f in cv_train_list[:-1]: \n",
    "        cv_train_poses[f] = read_skeleton(skeleton_folder+f+'.txt')\n",
    "        pbar.update(1)\n",
    "\n",
    "cv_train_poses.to_pickle(data_dir+'cv_train_poses.pkl',compression='gzip')"
   ]
  },
  {
   "cell_type": "code",
   "execution_count": 11,
   "metadata": {},
   "outputs": [
    {
     "name": "stderr",
     "output_type": "stream",
     "text": [
      "100%|██████████| 358/358 [11:43<00:00,  1.89s/it]\n"
     ]
    }
   ],
   "source": [
    "cv_test_poses = pd.Series()\n",
    "with tqdm(total=len(cv_test_list)-1) as pbar:\n",
    "    for f in cv_test_list[:-1]: \n",
    "        cv_test_poses[f] = read_skeleton(skeleton_folder+f+'.txt')\n",
    "        pbar.update(1)\n",
    "\n",
    "cv_test_poses.to_pickle(data_dir+'cv_test_poses.pkl',compression='gzip')    "
   ]
  },
  {
   "cell_type": "code",
   "execution_count": 15,
   "metadata": {},
   "outputs": [],
   "source": [
    "cs_train_poses = pd.read_pickle(data_dir+'cs_train_poses.pkl',compression='gzip')"
   ]
  },
  {
   "cell_type": "markdown",
   "metadata": {},
   "source": [
    "# Extracing the labels and saving them"
   ]
  },
  {
   "cell_type": "code",
   "execution_count": 38,
   "metadata": {},
   "outputs": [
    {
     "name": "stderr",
     "output_type": "stream",
     "text": [
      "100%|██████████| 358/358 [00:01<00:00, 316.58it/s]\n"
     ]
    }
   ],
   "source": [
    "cv_test_labels = pd.Series() \n",
    "with tqdm(total=len(cv_test_list)-1) as pbar:\n",
    "    for f in cv_test_list[:-1]:\n",
    "        cv_test_labels[f] = read_label(label_folder+f+'.txt')\n",
    "        pbar.update(1)\n",
    "cv_test_labels.to_pickle(data_dir+'cv_test_labels.pkl',compression='gzip')     "
   ]
  },
  {
   "cell_type": "code",
   "execution_count": 40,
   "metadata": {},
   "outputs": [
    {
     "name": "stderr",
     "output_type": "stream",
     "text": [
      "100%|██████████| 717/717 [00:02<00:00, 340.13it/s]\n"
     ]
    }
   ],
   "source": [
    "cv_train_labels = pd.Series() \n",
    "with tqdm(total=len(cv_train_list)-1) as pbar:\n",
    "    for f in cv_train_list[:-1]:\n",
    "        cv_train_labels[f] = read_label(label_folder+f+'.txt')\n",
    "        pbar.update(1)\n",
    "cv_train_labels.to_pickle(data_dir+'cv_train_labels.pkl',compression='gzip') "
   ]
  },
  {
   "cell_type": "code",
   "execution_count": 43,
   "metadata": {},
   "outputs": [
    {
     "name": "stderr",
     "output_type": "stream",
     "text": [
      "100%|██████████| 131/131 [00:00<00:00, 606.88it/s]\n"
     ]
    }
   ],
   "source": [
    "cs_test_labels = pd.Series() \n",
    "with tqdm(total=len(cs_test_list)-1) as pbar:\n",
    "    for f in cs_test_list[:-1]:\n",
    "        cs_test_labels[f] = read_label(label_folder+f+'.txt')\n",
    "        pbar.update(1)\n",
    "cs_test_labels.to_pickle(data_dir+'cs_test_labels.pkl',compression='gzip')  "
   ]
  },
  {
   "cell_type": "code",
   "execution_count": 44,
   "metadata": {},
   "outputs": [
    {
     "name": "stderr",
     "output_type": "stream",
     "text": [
      "100%|██████████| 944/944 [00:01<00:00, 509.47it/s]\n"
     ]
    }
   ],
   "source": [
    "cs_train_labels = pd.Series() \n",
    "with tqdm(total=len(cs_train_list)-1) as pbar:\n",
    "    for f in cs_train_list[:-1]:\n",
    "        cs_train_labels[f] = read_label(label_folder+f+'.txt')\n",
    "        pbar.update(1)\n",
    "cs_train_labels.to_pickle(data_dir+'cs_train_labels.pkl',compression='gzip') "
   ]
  },
  {
   "cell_type": "code",
   "execution_count": null,
   "metadata": {},
   "outputs": [],
   "source": []
  }
 ],
 "metadata": {
  "kernelspec": {
   "display_name": "Python 3",
   "language": "python",
   "name": "python3"
  },
  "language_info": {
   "codemirror_mode": {
    "name": "ipython",
    "version": 3
   },
   "file_extension": ".py",
   "mimetype": "text/x-python",
   "name": "python",
   "nbconvert_exporter": "python",
   "pygments_lexer": "ipython3",
   "version": "3.6.6"
  }
 },
 "nbformat": 4,
 "nbformat_minor": 2
}
